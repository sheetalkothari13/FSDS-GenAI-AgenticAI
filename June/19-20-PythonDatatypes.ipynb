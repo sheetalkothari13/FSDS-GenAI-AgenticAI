{
 "cells": [
  {
   "cell_type": "markdown",
   "id": "ad2fff3b-e502-47b9-9242-b05cd115ecd5",
   "metadata": {},
   "source": [
    "# Print "
   ]
  },
  {
   "cell_type": "code",
   "execution_count": 4,
   "id": "a9cc072b-44d9-4d04-8bbc-d0f75094db45",
   "metadata": {},
   "outputs": [
    {
     "data": {
      "text/plain": [
       "20"
      ]
     },
     "execution_count": 4,
     "metadata": {},
     "output_type": "execute_result"
    }
   ],
   "source": [
    "a=10 \n",
    "b=20 \n",
    "a\n",
    "b"
   ]
  },
  {
   "cell_type": "code",
   "execution_count": 5,
   "id": "f98b11e6-f66b-44c6-af59-68f7cf6c90c3",
   "metadata": {},
   "outputs": [
    {
     "name": "stdout",
     "output_type": "stream",
     "text": [
      "10\n",
      "20\n"
     ]
    }
   ],
   "source": [
    "print(a)\n",
    "print(b)"
   ]
  },
  {
   "cell_type": "code",
   "execution_count": 6,
   "id": "48e89d83-7269-4a98-b66a-313c8a8a121b",
   "metadata": {},
   "outputs": [
    {
     "name": "stdout",
     "output_type": "stream",
     "text": [
      "10\n",
      "10 20\n",
      "python\n",
      "10 20 python\n"
     ]
    }
   ],
   "source": [
    "print(10) \n",
    "print(10,20) \n",
    "print('python') \n",
    "print(10,20,'python')"
   ]
  },
  {
   "cell_type": "code",
   "execution_count": 11,
   "id": "b72ecf61-f615-4bb2-b97a-964634fea87d",
   "metadata": {},
   "outputs": [
    {
     "name": "stdout",
     "output_type": "stream",
     "text": [
      "35\n"
     ]
    }
   ],
   "source": [
    "num1=2 \n",
    "num2=33\n",
    "add=num1+num2 \n",
    "print(add) "
   ]
  },
  {
   "cell_type": "code",
   "execution_count": 12,
   "id": "45a4af00-0fbb-4964-907a-d06fc723f85f",
   "metadata": {},
   "outputs": [
    {
     "name": "stdout",
     "output_type": "stream",
     "text": [
      "The addition of 2 and 33 is= 35\n"
     ]
    }
   ],
   "source": [
    "print('The addition of',num1,'and',num2,'is=',add) "
   ]
  },
  {
   "cell_type": "code",
   "execution_count": 10,
   "id": "d3ef5feb-bf8c-40ef-881a-dcd84ad25fde",
   "metadata": {},
   "outputs": [
    {
     "name": "stdout",
     "output_type": "stream",
     "text": [
      "My name is Sheet and i am 21 years old form hyd\n"
     ]
    }
   ],
   "source": [
    "name='Sheet' \n",
    "age=21 \n",
    "city='hyd'\n",
    "print('My name is',name,'and i am',age,'years old form',city)"
   ]
  },
  {
   "cell_type": "code",
   "execution_count": 13,
   "id": "496812d0-bfed-4f6e-8aee-13c4aa6662d1",
   "metadata": {},
   "outputs": [
    {
     "name": "stdout",
     "output_type": "stream",
     "text": [
      "The addition of 2 and 33 is= 35\n"
     ]
    }
   ],
   "source": [
    "print('The addition of {} and {} is= {}'.format(num1,num2,add)) "
   ]
  },
  {
   "cell_type": "code",
   "execution_count": 15,
   "id": "0f73b077-18a8-4ee1-b2b7-e182ede738f8",
   "metadata": {},
   "outputs": [
    {
     "name": "stdout",
     "output_type": "stream",
     "text": [
      "hello my name is Sheet, and i am 21 years old from hyd\n"
     ]
    }
   ],
   "source": [
    "print('hello my name is {}, and i am {} years old from {}'.format(name,age,city)) "
   ]
  },
  {
   "cell_type": "code",
   "execution_count": 7,
   "id": "3decf650-8879-455f-bbcd-2ca891586e88",
   "metadata": {},
   "outputs": [
    {
     "name": "stdout",
     "output_type": "stream",
     "text": [
      "The avrage of 190, 227, and 32 is= 149.66666666666666 or 149.67\n",
      "The avrage of 190, 227 and 32 is = 149.67\n"
     ]
    }
   ],
   "source": [
    "num1=190\n",
    "num2=227 \n",
    "num3=32 \n",
    "add = num1 + num2\n",
    "avg=(num1+num2+num3)/3\n",
    "avg1=round(avg,2)\n",
    "print('The avrage of {}, {}, and {} is= {} or {}'.format(num1,num2,num3, avg,avg1))\n",
    "print(f'The avrage of {num1}, {num2} and {num3} is = {avg1}') "
   ]
  },
  {
   "cell_type": "code",
   "execution_count": 3,
   "id": "cdd2b101-8688-4f90-8aa5-0a3df3947fe8",
   "metadata": {},
   "outputs": [
    {
     "name": "stdout",
     "output_type": "stream",
     "text": [
      "The addition of 190 and 227 is= 417\n"
     ]
    }
   ],
   "source": [
    "print(f'The addition of {num1} and {num2} is= {add}')"
   ]
  },
  {
   "cell_type": "code",
   "execution_count": 5,
   "id": "2bb81e2b-5c36-4f67-8e5a-6928198f3b69",
   "metadata": {},
   "outputs": [
    {
     "name": "stdout",
     "output_type": "stream",
     "text": [
      "hello my name is Sheet, and i am 21 year old, from hyd.\n"
     ]
    }
   ],
   "source": [
    "name='Sheet' \n",
    "age=21 \n",
    "city='hyd'\n",
    "print(f'hello my name is {name}, and i am {age} year old, from {city}.') "
   ]
  },
  {
   "cell_type": "code",
   "execution_count": 8,
   "id": "afb0f3b5-e636-43bd-932d-1454627384f0",
   "metadata": {},
   "outputs": [
    {
     "name": "stdout",
     "output_type": "stream",
     "text": [
      "The addition of 10 and 20 is= 30\n",
      "The addition of 10 and 20 is= 30\n",
      "The addition of 10 and 20 is= 30\n"
     ]
    }
   ],
   "source": [
    "num1=10 \n",
    "num2=20 \n",
    "add = num1+ num2 \n",
    "print('The addition of',num1,'and',num2,'is=',add) \n",
    "print('The addition of {} and {} is= {}'.format(num1,num2,add)) \n",
    "print(f'The addition of {num1} and {num2} is= {add}')"
   ]
  },
  {
   "cell_type": "code",
   "execution_count": 9,
   "id": "818742b7-abbf-4835-b2e5-73b0150c3280",
   "metadata": {},
   "outputs": [
    {
     "name": "stdout",
     "output_type": "stream",
     "text": [
      "hello Everyone have a good-day biscuit\n"
     ]
    }
   ],
   "source": [
    "print('hello', end=' ')\n",
    "print('Everyone have a good-day biscuit')"
   ]
  },
  {
   "cell_type": "code",
   "execution_count": 11,
   "id": "2a685248-174d-453d-9556-79bc5108b71c",
   "metadata": {},
   "outputs": [
    {
     "name": "stdout",
     "output_type": "stream",
     "text": [
      "hello--->hai--->how are you\n",
      "hello & hai & how are you\n",
      "hello @ hai @ how are you\n",
      "hello hai how are you\n",
      "3 4 5 .\n"
     ]
    }
   ],
   "source": [
    "print('hello','hai','how are you',sep='--->') \n",
    "print('hello','hai','how are you',sep=' & ') \n",
    "print('hello','hai','how are you',sep=' @ ') \n",
    "print('hello','hai','how are you',sep=' ') \n",
    "print(3,4,5,'.')"
   ]
  },
  {
   "cell_type": "code",
   "execution_count": 13,
   "id": "7d684fdb-9fc1-4648-974e-8c75f44f9a65",
   "metadata": {},
   "outputs": [
    {
     "name": "stdout",
     "output_type": "stream",
     "text": [
      "3  4  5  .\n"
     ]
    }
   ],
   "source": [
    "print(3,4,5,'.',sep='  ')"
   ]
  },
  {
   "cell_type": "markdown",
   "id": "c66eea96-6179-41de-b7a8-daddfac46a81",
   "metadata": {},
   "source": [
    "# Key words"
   ]
  },
  {
   "cell_type": "code",
   "execution_count": 14,
   "id": "1b4c720d-fa0f-47ab-80c7-8f310a71eba6",
   "metadata": {},
   "outputs": [
    {
     "name": "stdout",
     "output_type": "stream",
     "text": [
      "1 2 3.\n"
     ]
    }
   ],
   "source": [
    "print(1,2,end=' ') \n",
    "print(3,'.',sep='') "
   ]
  },
  {
   "cell_type": "code",
   "execution_count": 16,
   "id": "a729043f-1faf-4ece-ad59-4b9304aca065",
   "metadata": {},
   "outputs": [],
   "source": [
    "import sys \n",
    "import keyword \n",
    "import operator \n",
    "from datetime import datetime \n",
    "import os "
   ]
  },
  {
   "cell_type": "code",
   "execution_count": 17,
   "id": "0eef2619-bd3d-4928-98b5-e8075725829b",
   "metadata": {},
   "outputs": [
    {
     "name": "stdout",
     "output_type": "stream",
     "text": [
      "['False', 'None', 'True', 'and', 'as', 'assert', 'async', 'await', 'break', 'class', 'continue', 'def', 'del', 'elif', 'else', 'except', 'finally', 'for', 'from', 'global', 'if', 'import', 'in', 'is', 'lambda', 'nonlocal', 'not', 'or', 'pass', 'raise', 'return', 'try', 'while', 'with', 'yield']\n"
     ]
    }
   ],
   "source": [
    "print(keyword.kwlist)"
   ]
  },
  {
   "cell_type": "code",
   "execution_count": 18,
   "id": "db6d29fa-c1f8-40c6-ac8e-80e2c1b6cc97",
   "metadata": {},
   "outputs": [
    {
     "data": {
      "text/plain": [
       "35"
      ]
     },
     "execution_count": 18,
     "metadata": {},
     "output_type": "execute_result"
    }
   ],
   "source": [
    "len(keyword.kwlist)"
   ]
  },
  {
   "cell_type": "markdown",
   "id": "2dd38cef-3f3a-44d7-89b9-c3fcb7c002f1",
   "metadata": {},
   "source": [
    "# Identifiers = Variable name"
   ]
  },
  {
   "cell_type": "code",
   "execution_count": 19,
   "id": "724ec84f-bbfe-4c7c-93ec-538ae24c0fc8",
   "metadata": {},
   "outputs": [
    {
     "ename": "SyntaxError",
     "evalue": "invalid decimal literal (42775412.py, line 1)",
     "output_type": "error",
     "traceback": [
      "\u001b[1;36m  Cell \u001b[1;32mIn[19], line 1\u001b[1;36m\u001b[0m\n\u001b[1;33m    1var = 100\u001b[0m\n\u001b[1;37m    ^\u001b[0m\n\u001b[1;31mSyntaxError\u001b[0m\u001b[1;31m:\u001b[0m invalid decimal literal\n"
     ]
    }
   ],
   "source": [
    "1var = 100"
   ]
  },
  {
   "cell_type": "code",
   "execution_count": 20,
   "id": "63a3d959-9a0b-4331-835c-e255436c6aa7",
   "metadata": {},
   "outputs": [
    {
     "ename": "SyntaxError",
     "evalue": "invalid syntax (3636076842.py, line 1)",
     "output_type": "error",
     "traceback": [
      "\u001b[1;36m  Cell \u001b[1;32mIn[20], line 1\u001b[1;36m\u001b[0m\n\u001b[1;33m    val2@ = 35\u001b[0m\n\u001b[1;37m          ^\u001b[0m\n\u001b[1;31mSyntaxError\u001b[0m\u001b[1;31m:\u001b[0m invalid syntax\n"
     ]
    }
   ],
   "source": [
    "val2@ = 35"
   ]
  },
  {
   "cell_type": "code",
   "execution_count": 21,
   "id": "1f498885-ce0e-4e6d-bfa6-19a8698685a5",
   "metadata": {},
   "outputs": [
    {
     "ename": "SyntaxError",
     "evalue": "invalid syntax (4166699667.py, line 1)",
     "output_type": "error",
     "traceback": [
      "\u001b[1;36m  Cell \u001b[1;32mIn[21], line 1\u001b[1;36m\u001b[0m\n\u001b[1;33m    import = 125\u001b[0m\n\u001b[1;37m           ^\u001b[0m\n\u001b[1;31mSyntaxError\u001b[0m\u001b[1;31m:\u001b[0m invalid syntax\n"
     ]
    }
   ],
   "source": [
    "import = 125"
   ]
  },
  {
   "cell_type": "markdown",
   "id": "a2d7df62-9aff-4b1c-8878-034452a6e215",
   "metadata": {},
   "source": [
    "### Identifiers can be a combination of letters in lowercase (a to z) or uppercase"
   ]
  },
  {
   "cell_type": "markdown",
   "id": "74729423-7fb8-45d0-b2b8-e74e8e2ce789",
   "metadata": {},
   "source": [
    "# Comments"
   ]
  },
  {
   "cell_type": "code",
   "execution_count": 22,
   "id": "efc55374-4bfc-46f4-a657-c91ead1635ae",
   "metadata": {},
   "outputs": [],
   "source": [
    "# Single line comment "
   ]
  },
  {
   "cell_type": "code",
   "execution_count": 23,
   "id": "6f76f818-d66e-4832-98ae-33e6f0cacfd1",
   "metadata": {},
   "outputs": [],
   "source": [
    "# Multiple \n",
    "# lines"
   ]
  },
  {
   "cell_type": "code",
   "execution_count": 27,
   "id": "e93f642c-4314-4d09-8731-cd49d6a8fd40",
   "metadata": {},
   "outputs": [],
   "source": [
    "''' This is comments\n",
    "Multiple \n",
    "line \n",
    "comment'''\n",
    "v = 2"
   ]
  },
  {
   "cell_type": "code",
   "execution_count": 29,
   "id": "cde7f506-b9c7-485d-ade6-322ed6503914",
   "metadata": {},
   "outputs": [],
   "source": [
    "\"\"\"\n",
    "Multiple \n",
    "line         #if it’s not inside a function/class/module or assigned to a variable — Python just sees it as an unused string literal, not a true comment.         \n",
    "comment \n",
    "\"\"\" \n",
    "v2 = 10 "
   ]
  },
  {
   "cell_type": "markdown",
   "id": "7b464606-3c29-4dc1-9ef9-85b212e1a630",
   "metadata": {},
   "source": [
    "# Statements "
   ]
  },
  {
   "cell_type": "code",
   "execution_count": 31,
   "id": "825b5f2d-f0f9-4d27-9802-015c138ad201",
   "metadata": {},
   "outputs": [
    {
     "data": {
      "text/plain": [
       "(20, int, '0x7ffd062a2c18', 140724706880536)"
      ]
     },
     "execution_count": 31,
     "metadata": {},
     "output_type": "execute_result"
    }
   ],
   "source": [
    "p = 20\n",
    "q = 20\n",
    "r = q\n",
    "p, type(p), hex(id(p)), id(p)   #to get the memory address of an object in hexadecimal format."
   ]
  },
  {
   "cell_type": "code",
   "execution_count": 32,
   "id": "16cc1a8c-08a8-4140-9d48-c02265275ae0",
   "metadata": {},
   "outputs": [
    {
     "data": {
      "text/plain": [
       "(20, int, '0x7ffd062a2c18', 140724706880536)"
      ]
     },
     "execution_count": 32,
     "metadata": {},
     "output_type": "execute_result"
    }
   ],
   "source": [
    "q, type(q), hex(id(q)), id(q)"
   ]
  },
  {
   "cell_type": "code",
   "execution_count": 33,
   "id": "dac2210a-b553-4ef4-bff6-59c9b6145cd6",
   "metadata": {},
   "outputs": [
    {
     "data": {
      "text/plain": [
       "(20, int, '0x7ffd062a2c18', 140724706880536)"
      ]
     },
     "execution_count": 33,
     "metadata": {},
     "output_type": "execute_result"
    }
   ],
   "source": [
    "r, type(r), hex(id(r)), id(r)"
   ]
  },
  {
   "cell_type": "code",
   "execution_count": 37,
   "id": "c3b94fe9-1459-4da7-88b9-63cd8b3c0ea9",
   "metadata": {},
   "outputs": [
    {
     "data": {
      "text/plain": [
       "60"
      ]
     },
     "execution_count": 37,
     "metadata": {},
     "output_type": "execute_result"
    }
   ],
   "source": [
    "r = 50\n",
    "r = r+10\n",
    "r"
   ]
  },
  {
   "cell_type": "code",
   "execution_count": 38,
   "id": "36632ef7-ab20-4910-9012-e9a257b90b51",
   "metadata": {},
   "outputs": [
    {
     "name": "stdout",
     "output_type": "stream",
     "text": [
      "shee\n",
      "21\n",
      "30.5\n"
     ]
    }
   ],
   "source": [
    "v1,v2,v3 = 'shee',21,30.5\n",
    "print(v1)\n",
    "print(v2)\n",
    "print(v3)"
   ]
  },
  {
   "cell_type": "markdown",
   "id": "0780c693-1e29-44f3-86f1-eb12716cfb47",
   "metadata": {},
   "source": [
    "# Data Types"
   ]
  },
  {
   "cell_type": "markdown",
   "id": "09f365a7-5b6c-450a-82b7-1ff66b656925",
   "metadata": {},
   "source": [
    "### Numeric"
   ]
  },
  {
   "cell_type": "code",
   "execution_count": 40,
   "id": "6757365d-d2fe-4cc1-b356-5e934c1d883d",
   "metadata": {},
   "outputs": [
    {
     "name": "stdout",
     "output_type": "stream",
     "text": [
      "50\n",
      "<class 'int'>\n",
      "28\n",
      "50 is integer? True\n"
     ]
    }
   ],
   "source": [
    "v1 = 50\n",
    "print(v1)\n",
    "print(type(v1))\n",
    "print(sys.getsizeof(v1))\n",
    "print(v1,\"is integer?\", isinstance(v1,int))"
   ]
  },
  {
   "cell_type": "code",
   "execution_count": 44,
   "id": "0c56b256-f7fd-4954-b0ce-b176f3329a98",
   "metadata": {},
   "outputs": [
    {
     "name": "stdout",
     "output_type": "stream",
     "text": [
      "50.3\n",
      "<class 'float'>\n",
      "24\n",
      "50.3 is integer? False\n"
     ]
    }
   ],
   "source": [
    "v2 = 50.3\n",
    "print(v2)\n",
    "print(type(v2))\n",
    "print(sys.getsizeof(v2))\n",
    "print(v2,\"is integer?\", isinstance(v2,int))"
   ]
  },
  {
   "cell_type": "code",
   "execution_count": 45,
   "id": "cba520b0-516b-4796-b246-e3e854c7ff04",
   "metadata": {},
   "outputs": [
    {
     "name": "stdout",
     "output_type": "stream",
     "text": [
      "50.3\n",
      "<class 'float'>\n",
      "24\n",
      "50.3 is integer? True\n"
     ]
    }
   ],
   "source": [
    "v2 = 50.3\n",
    "print(v2)\n",
    "print(type(v2))\n",
    "print(sys.getsizeof(v2))\n",
    "print(v2,\"is integer?\", isinstance(v2,float))"
   ]
  },
  {
   "cell_type": "code",
   "execution_count": 47,
   "id": "a9222ed0-9c5e-4d8b-8d10-3b53c9bdee87",
   "metadata": {},
   "outputs": [
    {
     "name": "stdout",
     "output_type": "stream",
     "text": [
      "(54+23j)\n",
      "<class 'complex'>\n",
      "32\n",
      "(54+23j)  is complex? True\n"
     ]
    }
   ],
   "source": [
    "v3 = 54 + 23j \n",
    "print(v3) \n",
    "print(type(v3))  \n",
    "print(sys.getsizeof(v3)) \n",
    "print(v3, \" is complex?\", isinstance(v3, complex))"
   ]
  },
  {
   "cell_type": "code",
   "execution_count": 49,
   "id": "d71f7616-65bc-4939-8ebe-cbf50b745b7d",
   "metadata": {},
   "outputs": [
    {
     "name": "stdout",
     "output_type": "stream",
     "text": [
      "28\n",
      "24\n",
      "32\n"
     ]
    }
   ],
   "source": [
    "print(sys.getsizeof(int()))\n",
    "print(sys.getsizeof(float()))\n",
    "print(sys.getsizeof(complex()))"
   ]
  },
  {
   "cell_type": "markdown",
   "id": "6ed647da-c410-4c97-9e4e-f6a415c5cbda",
   "metadata": {},
   "source": [
    "### Boolean"
   ]
  },
  {
   "cell_type": "code",
   "execution_count": 50,
   "id": "01afea10-700c-4d66-bf29-a73e2691b914",
   "metadata": {},
   "outputs": [
    {
     "name": "stdout",
     "output_type": "stream",
     "text": [
      "True\n",
      "<class 'bool'>\n"
     ]
    }
   ],
   "source": [
    "v1 = True\n",
    "print(v1)\n",
    "print(type(v1))"
   ]
  },
  {
   "cell_type": "code",
   "execution_count": 51,
   "id": "5b4762c2-6a96-4629-8a56-4c6058764016",
   "metadata": {},
   "outputs": [
    {
     "ename": "NameError",
     "evalue": "name 'true' is not defined",
     "output_type": "error",
     "traceback": [
      "\u001b[1;31m---------------------------------------------------------------------------\u001b[0m",
      "\u001b[1;31mNameError\u001b[0m                                 Traceback (most recent call last)",
      "Cell \u001b[1;32mIn[51], line 1\u001b[0m\n\u001b[1;32m----> 1\u001b[0m v1 \u001b[38;5;241m=\u001b[39m true\n\u001b[0;32m      2\u001b[0m \u001b[38;5;28mprint\u001b[39m(v1)\n\u001b[0;32m      3\u001b[0m \u001b[38;5;28mprint\u001b[39m(\u001b[38;5;28mtype\u001b[39m(v1))\n",
      "\u001b[1;31mNameError\u001b[0m: name 'true' is not defined"
     ]
    }
   ],
   "source": [
    "v1 = true\n",
    "print(v1)\n",
    "print(type(v1))"
   ]
  },
  {
   "cell_type": "code",
   "execution_count": 52,
   "id": "c23c398d-2bb6-49e8-808a-b36d14d9cc3f",
   "metadata": {},
   "outputs": [
    {
     "name": "stdout",
     "output_type": "stream",
     "text": [
      "False\n",
      "<class 'bool'>\n"
     ]
    }
   ],
   "source": [
    "v1 = False\n",
    "print(v1)\n",
    "print(type(v1))"
   ]
  },
  {
   "cell_type": "code",
   "execution_count": 54,
   "id": "25d204e4-8bb8-4032-a832-8db1dac7b211",
   "metadata": {},
   "outputs": [
    {
     "data": {
      "text/plain": [
       "True"
      ]
     },
     "execution_count": 54,
     "metadata": {},
     "output_type": "execute_result"
    }
   ],
   "source": [
    "isinstance(v1, bool) "
   ]
  },
  {
   "cell_type": "code",
   "execution_count": 55,
   "id": "90ee3f7e-4b4f-4066-849c-fbcf61506543",
   "metadata": {},
   "outputs": [
    {
     "data": {
      "text/plain": [
       "False"
      ]
     },
     "execution_count": 55,
     "metadata": {},
     "output_type": "execute_result"
    }
   ],
   "source": [
    "bool(0) "
   ]
  },
  {
   "cell_type": "code",
   "execution_count": 56,
   "id": "227652b7-f3c3-49a0-9720-2408e19e1cf8",
   "metadata": {},
   "outputs": [
    {
     "data": {
      "text/plain": [
       "True"
      ]
     },
     "execution_count": 56,
     "metadata": {},
     "output_type": "execute_result"
    }
   ],
   "source": [
    "bool(1)"
   ]
  },
  {
   "cell_type": "code",
   "execution_count": 57,
   "id": "d62cc75b-160c-4bea-afb6-9286ed9c8e2e",
   "metadata": {},
   "outputs": [
    {
     "data": {
      "text/plain": [
       "False"
      ]
     },
     "execution_count": 57,
     "metadata": {},
     "output_type": "execute_result"
    }
   ],
   "source": [
    "bool(None)"
   ]
  },
  {
   "cell_type": "code",
   "execution_count": 58,
   "id": "25afb8d2-be69-4aba-9306-5e86cf813e97",
   "metadata": {},
   "outputs": [
    {
     "data": {
      "text/plain": [
       "False"
      ]
     },
     "execution_count": 58,
     "metadata": {},
     "output_type": "execute_result"
    }
   ],
   "source": [
    "bool(False)"
   ]
  },
  {
   "cell_type": "markdown",
   "id": "3b7dc099-3d8b-4712-8579-8a975daa248a",
   "metadata": {},
   "source": [
    "### String"
   ]
  },
  {
   "cell_type": "code",
   "execution_count": 59,
   "id": "1027ac7d-a016-4ae4-9ad7-aa43cd36e88b",
   "metadata": {},
   "outputs": [
    {
     "name": "stdout",
     "output_type": "stream",
     "text": [
      "HELLO PYTHON\n",
      "Hello World\n"
     ]
    }
   ],
   "source": [
    "str1 = \"HELLO PYTHON\"\n",
    "mystr = 'Hello World'\n",
    "print(str1) \n",
    "print(mystr) "
   ]
  },
  {
   "cell_type": "code",
   "execution_count": 61,
   "id": "835cafbd-9b32-4dd3-b424-7317442911eb",
   "metadata": {},
   "outputs": [
    {
     "name": "stdout",
     "output_type": "stream",
     "text": [
      "Hello \n",
      "                             World \n"
     ]
    }
   ],
   "source": [
    "mystr = '''Hello \n",
    "                             World ''' \n",
    "print(mystr) "
   ]
  },
  {
   "cell_type": "code",
   "execution_count": 62,
   "id": "05a803d3-0fc7-44ed-b1da-a48eb9bd9b96",
   "metadata": {},
   "outputs": [
    {
     "name": "stdout",
     "output_type": "stream",
     "text": [
      "Hello \n",
      "                             World \n"
     ]
    }
   ],
   "source": [
    "mystr = \"\"\"Hello \n",
    "                             World \"\"\"\n",
    "print(mystr) "
   ]
  },
  {
   "cell_type": "code",
   "execution_count": 63,
   "id": "9e3b5de7-14f6-4e79-ab3b-13272f0019c6",
   "metadata": {},
   "outputs": [
    {
     "name": "stdout",
     "output_type": "stream",
     "text": [
      "Happy Monday Everyone\n"
     ]
    }
   ],
   "source": [
    "mystr = ('Happy ' \n",
    "'Monday ' \n",
    "'Everyone') \n",
    "print(mystr)"
   ]
  },
  {
   "cell_type": "code",
   "execution_count": 64,
   "id": "10dcc4b3-5c11-4ad5-9c86-7ac6b85b9dc9",
   "metadata": {},
   "outputs": [
    {
     "data": {
      "text/plain": [
       "'Woohoo Woohoo Woohoo Woohoo Woohoo '"
      ]
     },
     "execution_count": 64,
     "metadata": {},
     "output_type": "execute_result"
    }
   ],
   "source": [
    "mystr2 = 'Woohoo ' \n",
    "mystr2 = mystr2*5 \n",
    "mystr2 "
   ]
  },
  {
   "cell_type": "code",
   "execution_count": 65,
   "id": "b5468be4-7919-482a-9d0b-b3dd6dc5c6eb",
   "metadata": {},
   "outputs": [
    {
     "data": {
      "text/plain": [
       "35"
      ]
     },
     "execution_count": 65,
     "metadata": {},
     "output_type": "execute_result"
    }
   ],
   "source": [
    "len(mystr2)"
   ]
  },
  {
   "cell_type": "code",
   "execution_count": 66,
   "id": "9d14e586-cd89-4e27-8b3f-9fc0c8524870",
   "metadata": {},
   "outputs": [
    {
     "data": {
      "text/plain": [
       "'HELLO PYTHON'"
      ]
     },
     "execution_count": 66,
     "metadata": {},
     "output_type": "execute_result"
    }
   ],
   "source": [
    "str1"
   ]
  },
  {
   "cell_type": "code",
   "execution_count": 67,
   "id": "880745ce-1c59-48b3-9440-3bf88f40c9db",
   "metadata": {},
   "outputs": [
    {
     "data": {
      "text/plain": [
       "'H'"
      ]
     },
     "execution_count": 67,
     "metadata": {},
     "output_type": "execute_result"
    }
   ],
   "source": [
    "str1[0]"
   ]
  },
  {
   "cell_type": "code",
   "execution_count": 69,
   "id": "5efb2292-f569-4069-9847-de39a2c6c454",
   "metadata": {},
   "outputs": [
    {
     "data": {
      "text/plain": [
       "'N'"
      ]
     },
     "execution_count": 69,
     "metadata": {},
     "output_type": "execute_result"
    }
   ],
   "source": [
    "str1[len(str1)-1]"
   ]
  },
  {
   "cell_type": "code",
   "execution_count": 70,
   "id": "0449ba80-d49f-476a-aa47-b65e58c8c5df",
   "metadata": {},
   "outputs": [
    {
     "data": {
      "text/plain": [
       "'N'"
      ]
     },
     "execution_count": 70,
     "metadata": {},
     "output_type": "execute_result"
    }
   ],
   "source": [
    "str1[-1]"
   ]
  },
  {
   "cell_type": "code",
   "execution_count": 71,
   "id": "2d9ca62f-d2c8-4eb0-8ec9-f875c58db392",
   "metadata": {},
   "outputs": [
    {
     "ename": "IndexError",
     "evalue": "string index out of range",
     "output_type": "error",
     "traceback": [
      "\u001b[1;31m---------------------------------------------------------------------------\u001b[0m",
      "\u001b[1;31mIndexError\u001b[0m                                Traceback (most recent call last)",
      "Cell \u001b[1;32mIn[71], line 1\u001b[0m\n\u001b[1;32m----> 1\u001b[0m str1[\u001b[38;5;241m22\u001b[39m]\n",
      "\u001b[1;31mIndexError\u001b[0m: string index out of range"
     ]
    }
   ],
   "source": [
    "str1[22]"
   ]
  },
  {
   "cell_type": "code",
   "execution_count": 72,
   "id": "2996a162-63a4-48eb-9cb0-dd36798e5bfe",
   "metadata": {},
   "outputs": [
    {
     "data": {
      "text/plain": [
       "'HELLO'"
      ]
     },
     "execution_count": 72,
     "metadata": {},
     "output_type": "execute_result"
    }
   ],
   "source": [
    "str1[0:5]"
   ]
  },
  {
   "cell_type": "code",
   "execution_count": 73,
   "id": "d7a343f8-b287-4780-a2e1-25d4934aaee5",
   "metadata": {},
   "outputs": [
    {
     "data": {
      "text/plain": [
       "'HELLO '"
      ]
     },
     "execution_count": 73,
     "metadata": {},
     "output_type": "execute_result"
    }
   ],
   "source": [
    "str1[0:6]"
   ]
  },
  {
   "cell_type": "code",
   "execution_count": 74,
   "id": "3d4c4574-fc7c-4ddb-bce2-286b09feac00",
   "metadata": {},
   "outputs": [
    {
     "data": {
      "text/plain": [
       "'PYTHON'"
      ]
     },
     "execution_count": 74,
     "metadata": {},
     "output_type": "execute_result"
    }
   ],
   "source": [
    "str1[6:12]"
   ]
  },
  {
   "cell_type": "code",
   "execution_count": 75,
   "id": "a8dd4cda-a999-4bd6-9519-c02415c79f7b",
   "metadata": {},
   "outputs": [
    {
     "data": {
      "text/plain": [
       "'THON'"
      ]
     },
     "execution_count": 75,
     "metadata": {},
     "output_type": "execute_result"
    }
   ],
   "source": [
    "str1[-4:]"
   ]
  },
  {
   "cell_type": "code",
   "execution_count": 77,
   "id": "e5c96f08-76fe-4589-a777-2c5f19fb66c2",
   "metadata": {},
   "outputs": [
    {
     "data": {
      "text/plain": [
       "'THO'"
      ]
     },
     "execution_count": 77,
     "metadata": {},
     "output_type": "execute_result"
    }
   ],
   "source": [
    "str1[-4:-1]"
   ]
  },
  {
   "cell_type": "code",
   "execution_count": 78,
   "id": "d12ad65f-3c49-4a88-b0d9-0d2666a76637",
   "metadata": {},
   "outputs": [
    {
     "data": {
      "text/plain": [
       "'HELL'"
      ]
     },
     "execution_count": 78,
     "metadata": {},
     "output_type": "execute_result"
    }
   ],
   "source": [
    "str1[:4]"
   ]
  },
  {
   "cell_type": "code",
   "execution_count": 79,
   "id": "acefefd6-dcfe-4aa8-b694-20f85a094f19",
   "metadata": {},
   "outputs": [
    {
     "data": {
      "text/plain": [
       "'HELLO PY'"
      ]
     },
     "execution_count": 79,
     "metadata": {},
     "output_type": "execute_result"
    }
   ],
   "source": [
    "str1[:-4]"
   ]
  },
  {
   "cell_type": "code",
   "execution_count": 80,
   "id": "3102870d-4dfb-43c4-ab87-f895c112d996",
   "metadata": {},
   "outputs": [
    {
     "data": {
      "text/plain": [
       "'HELLO PYTHON'"
      ]
     },
     "execution_count": 80,
     "metadata": {},
     "output_type": "execute_result"
    }
   ],
   "source": [
    "str1"
   ]
  },
  {
   "cell_type": "code",
   "execution_count": 81,
   "id": "8a1dbc11-4ebb-4e0e-be93-8fc4ac58f7b7",
   "metadata": {},
   "outputs": [
    {
     "ename": "TypeError",
     "evalue": "'str' object does not support item assignment",
     "output_type": "error",
     "traceback": [
      "\u001b[1;31m---------------------------------------------------------------------------\u001b[0m",
      "\u001b[1;31mTypeError\u001b[0m                                 Traceback (most recent call last)",
      "Cell \u001b[1;32mIn[81], line 1\u001b[0m\n\u001b[1;32m----> 1\u001b[0m str1[\u001b[38;5;241m0\u001b[39m:\u001b[38;5;241m5\u001b[39m] \u001b[38;5;241m=\u001b[39m \u001b[38;5;124m'\u001b[39m\u001b[38;5;124mHOLAA\u001b[39m\u001b[38;5;124m'\u001b[39m\n",
      "\u001b[1;31mTypeError\u001b[0m: 'str' object does not support item assignment"
     ]
    }
   ],
   "source": [
    "str1[0:5] = 'HOLAA'"
   ]
  },
  {
   "cell_type": "code",
   "execution_count": 84,
   "id": "f89f407f-0e5a-4e8d-b217-8b18dbe56992",
   "metadata": {},
   "outputs": [
    {
     "ename": "NameError",
     "evalue": "name 'str1' is not defined",
     "output_type": "error",
     "traceback": [
      "\u001b[1;31m---------------------------------------------------------------------------\u001b[0m",
      "\u001b[1;31mNameError\u001b[0m                                 Traceback (most recent call last)",
      "Cell \u001b[1;32mIn[84], line 1\u001b[0m\n\u001b[1;32m----> 1\u001b[0m \u001b[38;5;28;01mdel\u001b[39;00m str1\n\u001b[0;32m      2\u001b[0m \u001b[38;5;28mprint\u001b[39m(str1)\n",
      "\u001b[1;31mNameError\u001b[0m: name 'str1' is not defined"
     ]
    }
   ],
   "source": [
    "del str1\n",
    "print(str1)"
   ]
  },
  {
   "cell_type": "code",
   "execution_count": 86,
   "id": "7e56e641-bc78-447f-aa3e-e7eeba885763",
   "metadata": {},
   "outputs": [
    {
     "name": "stdout",
     "output_type": "stream",
     "text": [
      "Holaaa Sheeet\n"
     ]
    }
   ],
   "source": [
    "s1 = \"Holaaa\" \n",
    "s2 = \"Sheeet\" \n",
    "s3 = s1 + ' ' + s2 \n",
    "print(s3) "
   ]
  },
  {
   "cell_type": "code",
   "execution_count": 2,
   "id": "fb412b9e-46c6-43a7-801c-b2ed12cd44b8",
   "metadata": {},
   "outputs": [
    {
     "data": {
      "text/plain": [
       "'abc def ghi '"
      ]
     },
     "execution_count": 2,
     "metadata": {},
     "output_type": "execute_result"
    }
   ],
   "source": [
    "txt = \" abc def ghi \" \n",
    "txt.lstrip()"
   ]
  },
  {
   "cell_type": "code",
   "execution_count": 3,
   "id": "4c60950e-e3af-44bf-9990-048d63b3d494",
   "metadata": {},
   "outputs": [
    {
     "data": {
      "text/plain": [
       "'abc def ghi'"
      ]
     },
     "execution_count": 3,
     "metadata": {},
     "output_type": "execute_result"
    }
   ],
   "source": [
    "txt.strip() "
   ]
  },
  {
   "cell_type": "markdown",
   "id": "92c7c574-d7c6-44d8-ad4c-77275656ee9d",
   "metadata": {},
   "source": [
    "### Complex"
   ]
  },
  {
   "cell_type": "code",
   "execution_count": 87,
   "id": "8259c035-2104-48ee-9d1a-16c94050f590",
   "metadata": {},
   "outputs": [],
   "source": [
    "z = 3+5j"
   ]
  },
  {
   "cell_type": "code",
   "execution_count": 89,
   "id": "4105782c-da9a-46dd-a190-31920c4aa3c5",
   "metadata": {},
   "outputs": [
    {
     "name": "stdout",
     "output_type": "stream",
     "text": [
      "5.0\n",
      "3.0\n"
     ]
    }
   ],
   "source": [
    "print(z.imag)\n",
    "print(z.real)"
   ]
  },
  {
   "cell_type": "code",
   "execution_count": 90,
   "id": "b659b3a0-f3bd-4c49-a501-000155412f9c",
   "metadata": {},
   "outputs": [],
   "source": [
    "a = 1 + 2j"
   ]
  },
  {
   "cell_type": "code",
   "execution_count": 97,
   "id": "344a33eb-f6c2-4589-a809-2bb77de19ba7",
   "metadata": {},
   "outputs": [
    {
     "name": "stdout",
     "output_type": "stream",
     "text": [
      "(4+7j)\n",
      "(-2-3j)\n",
      "(-7+11j)\n",
      "(0.3823529411764706+0.029411764705882346j)\n"
     ]
    }
   ],
   "source": [
    "print(a+z)\n",
    "print(a-z)\n",
    "print(a*z)\n",
    "print(a/z)\n",
    "# print(a//z)  #Python does not support floor division with complex numbers.\n",
    "# print(round((a/z), 2)) #Python doesn't allow rounding complex numbers using the built-in round() function — because complex numbers have two parts: real and imaginary."
   ]
  },
  {
   "cell_type": "code",
   "execution_count": 98,
   "id": "f40b40fe-c764-46d6-bd36-beccd956b362",
   "metadata": {},
   "outputs": [
    {
     "name": "stdout",
     "output_type": "stream",
     "text": [
      "5.830951894845301\n",
      "(3-5j)\n"
     ]
    }
   ],
   "source": [
    "print(abs(z))\n",
    "print(z.conjugate())"
   ]
  },
  {
   "cell_type": "code",
   "execution_count": 99,
   "id": "afef88db-8d2b-4ea6-b594-bc88af799f09",
   "metadata": {},
   "outputs": [
    {
     "name": "stdout",
     "output_type": "stream",
     "text": [
      "0.7853981633974483\n",
      "(1.4142135623730951, 0.7853981633974483)\n",
      "(1.09868411346781+0.45508986056222733j)\n"
     ]
    }
   ],
   "source": [
    "import cmath\n",
    "z = 1+1j\n",
    "print(cmath.phase(z))\n",
    "print(cmath.polar(z))\n",
    "print(cmath.sqrt(z))\n"
   ]
  },
  {
   "cell_type": "markdown",
   "id": "2036fefb-203a-40e3-8c1b-34ed7a3fad41",
   "metadata": {},
   "source": [
    "# Basic Code"
   ]
  },
  {
   "cell_type": "code",
   "execution_count": 100,
   "id": "d606937e-2e1d-4d4e-b7e6-54566c27e547",
   "metadata": {},
   "outputs": [
    {
     "name": "stdout",
     "output_type": "stream",
     "text": [
      "5\n",
      "1\n",
      "6\n",
      "1.5\n",
      "9\n",
      "1\n",
      "1\n"
     ]
    }
   ],
   "source": [
    "print(3 + 2)   \n",
    "print(3 - 2)   \n",
    "print(3 * 2)   \n",
    "print(3 / 2)   \n",
    "print(3 ** 2)  \n",
    "print(3 % 2)   \n",
    "print(3 // 2)"
   ]
  },
  {
   "cell_type": "code",
   "execution_count": 101,
   "id": "3e9bac1d-569f-41ba-af2c-d6954cdf8a76",
   "metadata": {},
   "outputs": [
    {
     "name": "stdout",
     "output_type": "stream",
     "text": [
      "<class 'int'>\n",
      "<class 'float'>\n",
      "<class 'complex'>\n",
      "<class 'str'>\n",
      "<class 'list'>\n",
      "<class 'dict'>\n",
      "<class 'set'>\n",
      "<class 'tuple'>\n",
      "<class 'bool'>\n",
      "<class 'bool'>\n"
     ]
    }
   ],
   "source": [
    "print(type(10))  \n",
    "print(type(3.14))                \n",
    "print(type(1 + 3j))              \n",
    "print(type('Sheet'))          \n",
    "print(type([1, 2, 3]))           \n",
    "print(type({'name':'Sheeet'})) \n",
    "print(type({9.8, 3.14, 2.7}))    \n",
    "print(type((9.8, 3.14, 2.7)))    \n",
    "print(type(3 == 3))              \n",
    "print(type(3 >= 3))              "
   ]
  },
  {
   "cell_type": "markdown",
   "id": "f5cecc15-af90-4c04-a109-4d26367d7a92",
   "metadata": {},
   "source": [
    "# Variables in Python"
   ]
  },
  {
   "cell_type": "code",
   "execution_count": 102,
   "id": "24ab385a-ed8c-4d0b-b839-71307dfae702",
   "metadata": {},
   "outputs": [
    {
     "name": "stdout",
     "output_type": "stream",
     "text": [
      "First name: SHEETAL\n",
      "First name length: 7\n",
      "Last name:  KOTHARI\n",
      "Last name length:  7\n",
      "Country:  HYD\n",
      "City:  TELENGANA\n",
      "Age:  22\n",
      "Married:  False\n",
      "Skills:  ['HTML', 'CSS', 'JS', 'React', 'Python']\n",
      "Person information:  {'firstname': 'Rohit', 'lastname': 'Kothari', 'country': 'Australia', 'city': 'Adelaide'}\n"
     ]
    }
   ],
   "source": [
    "first_name = 'SHEETAL'\n",
    "last_name = 'KOTHARI'\n",
    "country = 'HYD'\n",
    "city = 'TELENGANA'\n",
    "age = 22\n",
    "is_married = False\n",
    "skills = ['HTML', 'CSS', 'JS', 'React', 'Python']\n",
    "person_info = {\n",
    "    'firstname':'Rohit', \n",
    "    'lastname':'Kothari', \n",
    "    'country':'Australia',\n",
    "    'city':'Adelaide'\n",
    "    }\n",
    "\n",
    "print('First name:', first_name)\n",
    "print('First name length:', len(first_name))\n",
    "print('Last name: ', last_name)\n",
    "print('Last name length: ', len(last_name))\n",
    "print('Country: ', country)\n",
    "print('City: ', city)\n",
    "print('Age: ', age)\n",
    "print('Married: ', is_married)\n",
    "print('Skills: ', skills)\n",
    "print('Person information: ', person_info)"
   ]
  },
  {
   "cell_type": "code",
   "execution_count": 103,
   "id": "deb49a7e-0ef4-4360-896e-27defe8c4aac",
   "metadata": {},
   "outputs": [
    {
     "name": "stdout",
     "output_type": "stream",
     "text": [
      "Rohit Kotha Australia 19 False\n",
      "First name: Rohit\n",
      "Last name:  Kotha\n",
      "Country:  Australia\n",
      "Age:  19\n",
      "Married:  False\n"
     ]
    }
   ],
   "source": [
    "first_name, last_name, country, age, is_married = 'Rohit', 'Kotha', 'Australia', 19, False\n",
    "print(first_name, last_name, country, age, is_married)\n",
    "print('First name:', first_name)\n",
    "print('Last name: ', last_name)\n",
    "print('Country: ', country)\n",
    "print('Age: ', age)\n",
    "print('Married: ', is_married)"
   ]
  },
  {
   "cell_type": "markdown",
   "id": "21e88c4c-85d0-499d-8734-ed20e2691661",
   "metadata": {},
   "source": [
    "# Operators"
   ]
  },
  {
   "cell_type": "code",
   "execution_count": 104,
   "id": "d9d373e7-db73-433d-934e-4474e11cd41f",
   "metadata": {},
   "outputs": [
    {
     "name": "stdout",
     "output_type": "stream",
     "text": [
      "Addition:  3\n",
      "Subtraction:  1\n",
      "Multiplication:  6\n",
      "Division:  2.0\n",
      "Division:  3.0\n",
      "Division:  3.5\n",
      "Division without the remainder:  3\n",
      "Modulus:  1\n",
      "Division without the remainder:  2\n",
      "Exponential:  9\n"
     ]
    }
   ],
   "source": [
    "print('Addition: ', 1 + 2)\n",
    "print('Subtraction: ', 2 - 1)\n",
    "print('Multiplication: ', 2 * 3)\n",
    "print ('Division: ', 4 / 2)                         \n",
    "print('Division: ', 6 / 2)\n",
    "print('Division: ', 7 / 2)\n",
    "print('Division without the remainder: ', 7 // 2)   \n",
    "print('Modulus: ', 3 % 2)                           \n",
    "print ('Division without the remainder: ', 7 // 3)\n",
    "print('Exponential: ', 3 ** 2)  "
   ]
  },
  {
   "cell_type": "code",
   "execution_count": 105,
   "id": "42a47fb5-2aa1-4130-a3ee-01b82bcce0a0",
   "metadata": {},
   "outputs": [
    {
     "name": "stdout",
     "output_type": "stream",
     "text": [
      "Floating Number,PI 3.14\n",
      "Floating Number, gravity 9.81\n"
     ]
    }
   ],
   "source": [
    "print('Floating Number,PI', 3.14)\n",
    "print('Floating Number, gravity', 9.81)"
   ]
  },
  {
   "cell_type": "code",
   "execution_count": 106,
   "id": "81995f83-1f94-4045-bbf3-15c52a04eea3",
   "metadata": {},
   "outputs": [
    {
     "name": "stdout",
     "output_type": "stream",
     "text": [
      "Complex number:  (1+1j)\n",
      "Multiplying complex number:  (2+0j)\n"
     ]
    }
   ],
   "source": [
    "print('Complex number: ', 1 + 1j)\n",
    "print('Multiplying complex number: ',(1 + 1j) * (1-1j))"
   ]
  },
  {
   "cell_type": "code",
   "execution_count": 107,
   "id": "3813e275-475a-4be8-a256-07520c8a5070",
   "metadata": {},
   "outputs": [],
   "source": [
    "a = 7\n",
    "b = 4"
   ]
  },
  {
   "cell_type": "code",
   "execution_count": 108,
   "id": "5ffb58fb-6c09-4378-b3a3-22b96afdb88a",
   "metadata": {},
   "outputs": [],
   "source": [
    "total = a + b\n",
    "diff = a - b\n",
    "product = a * b\n",
    "division = a / b\n",
    "remainder = a % b\n",
    "floor_division = a // b\n",
    "exponential = a ** b"
   ]
  },
  {
   "cell_type": "code",
   "execution_count": 109,
   "id": "34a7cfbf-8d66-4d24-8113-8adc6fe11bb6",
   "metadata": {},
   "outputs": [
    {
     "name": "stdout",
     "output_type": "stream",
     "text": [
      "11\n"
     ]
    }
   ],
   "source": [
    "print(total)"
   ]
  },
  {
   "cell_type": "code",
   "execution_count": 110,
   "id": "9945fe3b-bbf0-4ece-a4e3-d8cf1d591c1a",
   "metadata": {},
   "outputs": [
    {
     "name": "stdout",
     "output_type": "stream",
     "text": [
      "a + b =  11\n",
      "a - b =  3\n",
      "a * b =  28\n",
      "a / b =  1.75\n",
      "a % b =  3\n",
      "a // b =  1\n",
      "a ** b =  2401\n"
     ]
    }
   ],
   "source": [
    "print('a + b = ', total)\n",
    "print('a - b = ', diff)\n",
    "print('a * b = ', product)\n",
    "print('a / b = ', division)\n",
    "print('a % b = ', remainder)\n",
    "print('a // b = ', floor_division)\n",
    "print('a ** b = ', exponential)"
   ]
  },
  {
   "cell_type": "code",
   "execution_count": 111,
   "id": "7bbeeb60-c577-4c9d-acda-b802a5c411c4",
   "metadata": {},
   "outputs": [
    {
     "data": {
      "text/plain": [
       "(7, 4)"
      ]
     },
     "execution_count": 111,
     "metadata": {},
     "output_type": "execute_result"
    }
   ],
   "source": [
    "a,b"
   ]
  },
  {
   "cell_type": "code",
   "execution_count": 112,
   "id": "5c7e17c7-6157-4a7f-9b8f-bcb824caf17a",
   "metadata": {},
   "outputs": [
    {
     "name": "stdout",
     "output_type": "stream",
     "text": [
      "total:  7\n",
      "difference:  1\n",
      "product:  12\n",
      "division:  1.0\n",
      "remainder:  1\n"
     ]
    }
   ],
   "source": [
    "num_one = 3\n",
    "num_two = 4\n",
    "\n",
    "total = num_one + num_two\n",
    "diff = num_two - num_one\n",
    "product = num_one * num_two\n",
    "div = num_two / num_two\n",
    "remainder = num_two % num_one\n",
    "\n",
    "print('total: ', total)\n",
    "print('difference: ', diff)\n",
    "print('product: ', product)\n",
    "print('division: ', div)\n",
    "print('remainder: ', remainder)"
   ]
  },
  {
   "cell_type": "code",
   "execution_count": 113,
   "id": "8d859c18-51b2-4309-aa09-449297cf1c99",
   "metadata": {},
   "outputs": [
    {
     "name": "stdout",
     "output_type": "stream",
     "text": [
      "Area of a circle: 314.0\n"
     ]
    }
   ],
   "source": [
    "radius = 10                                 \n",
    "area_of_circle = 3.14 * radius ** 2         \n",
    "print('Area of a circle:', area_of_circle)"
   ]
  },
  {
   "cell_type": "code",
   "execution_count": 114,
   "id": "22bb81f5-f30d-42d8-b962-8f870a9d13cb",
   "metadata": {},
   "outputs": [
    {
     "name": "stdout",
     "output_type": "stream",
     "text": [
      "Area of rectangle: 200\n"
     ]
    }
   ],
   "source": [
    "length = 10\n",
    "width = 20\n",
    "area_of_rectangle = length * width\n",
    "print('Area of rectangle:', area_of_rectangle)"
   ]
  },
  {
   "cell_type": "code",
   "execution_count": 115,
   "id": "d7a4171a-aa3f-4fb7-880c-efebec90034b",
   "metadata": {},
   "outputs": [
    {
     "name": "stdout",
     "output_type": "stream",
     "text": [
      "735.75 N\n"
     ]
    }
   ],
   "source": [
    "mass = 75\n",
    "gravity = 9.81\n",
    "weight = mass * gravity\n",
    "print(weight, 'N')"
   ]
  },
  {
   "cell_type": "code",
   "execution_count": 116,
   "id": "da9e2d17-d5d8-4acf-99ba-b0e644effc0c",
   "metadata": {},
   "outputs": [
    {
     "name": "stdout",
     "output_type": "stream",
     "text": [
      "True\n",
      "True\n",
      "False\n",
      "True\n",
      "True\n",
      "False\n",
      "True\n",
      "False\n",
      "True\n",
      "True\n",
      "False\n",
      "True\n",
      "True\n",
      "False\n"
     ]
    }
   ],
   "source": [
    "print(3 > 2)     \n",
    "print(3 >= 2)    \n",
    "print(3 < 2)      \n",
    "print(2 < 3)     \n",
    "print(2 <= 3)    \n",
    "print(3 == 2)    \n",
    "print(3 != 2)    \n",
    "print(len('mango') == len('avocado')) \n",
    "print(len('mango') != len('avocado'))  \n",
    "print(len('mango') < len('avocado'))   \n",
    "print(len('milk') != len('meat'))      \n",
    "print(len('milk') == len('meat'))      \n",
    "print(len('tomato') == len('potato')) \n",
    "print(len('python') > len('dragon'))"
   ]
  },
  {
   "cell_type": "code",
   "execution_count": 117,
   "id": "daef874c-f355-44b4-93fe-1d5bec929405",
   "metadata": {},
   "outputs": [
    {
     "name": "stdout",
     "output_type": "stream",
     "text": [
      "True == True:  True\n",
      "True == False:  False\n",
      "False == False: True\n",
      "True and True:  True\n",
      "True or False: True\n"
     ]
    }
   ],
   "source": [
    "print('True == True: ', True == True)\n",
    "print('True == False: ', True == False)\n",
    "print('False == False:', False == False)\n",
    "print('True and True: ', True and True)\n",
    "print('True or False:', True or False)"
   ]
  },
  {
   "cell_type": "code",
   "execution_count": 118,
   "id": "9d79393c-ac26-4df4-aa83-beae7acb3356",
   "metadata": {},
   "outputs": [
    {
     "name": "stdout",
     "output_type": "stream",
     "text": [
      "1 is 1 True\n",
      "1 is not 2 True\n",
      "A in Asabeneh True\n",
      "B in Asabeneh False\n",
      "True\n",
      "a in an: True\n",
      "4 is 2 ** 2: True\n"
     ]
    },
    {
     "name": "stderr",
     "output_type": "stream",
     "text": [
      "<>:1: SyntaxWarning: \"is\" with 'int' literal. Did you mean \"==\"?\n",
      "<>:2: SyntaxWarning: \"is not\" with 'int' literal. Did you mean \"!=\"?\n",
      "<>:7: SyntaxWarning: \"is\" with 'int' literal. Did you mean \"==\"?\n",
      "<>:1: SyntaxWarning: \"is\" with 'int' literal. Did you mean \"==\"?\n",
      "<>:2: SyntaxWarning: \"is not\" with 'int' literal. Did you mean \"!=\"?\n",
      "<>:7: SyntaxWarning: \"is\" with 'int' literal. Did you mean \"==\"?\n",
      "C:\\Users\\Sheetal\\AppData\\Local\\Temp\\ipykernel_5292\\2659321938.py:1: SyntaxWarning: \"is\" with 'int' literal. Did you mean \"==\"?\n",
      "  print('1 is 1', 1 is 1)\n",
      "C:\\Users\\Sheetal\\AppData\\Local\\Temp\\ipykernel_5292\\2659321938.py:2: SyntaxWarning: \"is not\" with 'int' literal. Did you mean \"!=\"?\n",
      "  print('1 is not 2', 1 is not 2)\n",
      "C:\\Users\\Sheetal\\AppData\\Local\\Temp\\ipykernel_5292\\2659321938.py:7: SyntaxWarning: \"is\" with 'int' literal. Did you mean \"==\"?\n",
      "  print('4 is 2 ** 2:', 4 is 2 ** 2)\n"
     ]
    }
   ],
   "source": [
    "print('1 is 1', 1 is 1)                   \n",
    "print('1 is not 2', 1 is not 2)          \n",
    "print('A in Asabeneh', 'A' in 'Asabeneh') \n",
    "print('B in Asabeneh', 'B' in 'Asabeneh') \n",
    "print('coding' in 'coding for all') \n",
    "print('a in an:', 'a' in 'an')     \n",
    "print('4 is 2 ** 2:', 4 is 2 ** 2) "
   ]
  },
  {
   "cell_type": "code",
   "execution_count": 119,
   "id": "7e5a1c81-6936-4e61-861c-9d49be818e4a",
   "metadata": {},
   "outputs": [
    {
     "name": "stdout",
     "output_type": "stream",
     "text": [
      "1 is 1 True\n",
      "1 is not 2 True\n",
      "A in Asabeneh True\n",
      "B in Asabeneh False\n",
      "True\n",
      "a in an: True\n",
      "4 is 2 ** 2: True\n"
     ]
    }
   ],
   "source": [
    "print('1 is 1', 1 == 1)                   \n",
    "print('1 is not 2', 1 != 2)          \n",
    "print('A in Asabeneh', 'A' in 'Asabeneh') \n",
    "print('B in Asabeneh', 'B' in 'Asabeneh') \n",
    "print('coding' in 'coding for all') \n",
    "print('a in an:', 'a' in 'an')     \n",
    "print('4 is 2 ** 2:', 4 == 2 ** 2) "
   ]
  },
  {
   "cell_type": "code",
   "execution_count": 120,
   "id": "fa8b7603-8f8e-4aa1-a66e-f5f18495c157",
   "metadata": {},
   "outputs": [
    {
     "name": "stdout",
     "output_type": "stream",
     "text": [
      "True\n",
      "False\n",
      "False\n",
      "True\n",
      "True\n",
      "False\n",
      "False\n",
      "False\n",
      "True\n",
      "True\n",
      "False\n"
     ]
    }
   ],
   "source": [
    "print(3 > 2 and 4 > 3) \n",
    "print(3 > 2 and 4 < 3) \n",
    "print(3 < 2 and 4 < 3) \n",
    "print(3 > 2 or 4 > 3)  \n",
    "print(3 > 2 or 4 < 3) \n",
    "print(3 < 2 or 4 < 3)  \n",
    "print(not 3 > 2)     \n",
    "print(not True)     \n",
    "print(not False)    \n",
    "print(not not True)  \n",
    "print(not not False)"
   ]
  },
  {
   "cell_type": "markdown",
   "id": "ff5918b8-bc97-45c2-a746-c6b6aba78267",
   "metadata": {},
   "source": [
    "### String and its methods"
   ]
  },
  {
   "cell_type": "code",
   "execution_count": 121,
   "id": "4046d2bf-c74a-41e6-b8e7-1f08ca3231ec",
   "metadata": {},
   "outputs": [
    {
     "name": "stdout",
     "output_type": "stream",
     "text": [
      "Asabeneh Yetayeh\n"
     ]
    }
   ],
   "source": [
    "first_name = 'Asabeneh'\n",
    "last_name = 'Yetayeh'\n",
    "space = ' '\n",
    "full_name = first_name  +  space + last_name\n",
    "print(full_name)"
   ]
  },
  {
   "cell_type": "code",
   "execution_count": 122,
   "id": "6a506141-cc61-4e7d-9eb9-eb817e63f8b8",
   "metadata": {},
   "outputs": [
    {
     "name": "stdout",
     "output_type": "stream",
     "text": [
      "P\n",
      "y\n",
      "t\n",
      "h\n",
      "o\n",
      "n\n"
     ]
    }
   ],
   "source": [
    "language = 'Python'\n",
    "a,b,c,d,e,f = language \n",
    "print(a) \n",
    "print(b) \n",
    "print(c)  \n",
    "print(d) \n",
    "print(e) \n",
    "print(f)"
   ]
  },
  {
   "cell_type": "code",
   "execution_count": 125,
   "id": "c49870eb-5bbe-4a79-b2aa-41b32e0942c1",
   "metadata": {},
   "outputs": [
    {
     "name": "stdout",
     "output_type": "stream",
     "text": [
      "Ptom\n"
     ]
    }
   ],
   "source": [
    "language = 'Pythonmb'\n",
    "pto = language[0:8:2] \n",
    "print(pto)"
   ]
  },
  {
   "cell_type": "code",
   "execution_count": 128,
   "id": "6a96457d-1fa7-464f-a158-6b2b20b285a0",
   "metadata": {},
   "outputs": [
    {
     "name": "stdout",
     "output_type": "stream",
     "text": [
      "I hope every one enjoying the python challenge.\n",
      "Do you ?\n",
      "Days\tTopics\tExercises\n",
      "Day 1\t3\t5\n",
      "Day 2\t3\t5\n",
      "Day 3\t3\t5\n",
      "Day 4\t3\t5\n",
      "This is a back slash  symbol (\\)\n",
      "In every programming language it starts with \"Hello, World!\"\n"
     ]
    }
   ],
   "source": [
    "print('I hope every one enjoying the python challenge.\\nDo you ?') \n",
    "print('Days\\tTopics\\tExercises')\n",
    "print('Day 1\\t3\\t5')\n",
    "print('Day 2\\t3\\t5')\n",
    "print('Day 3\\t3\\t5')\n",
    "print('Day 4\\t3\\t5')\n",
    "print('This is a back slash  symbol (\\\\)') \n",
    "print('In every programming language it starts with \\\"Hello, World!\\\"')"
   ]
  },
  {
   "cell_type": "code",
   "execution_count": 130,
   "id": "afb0bb61-8019-4164-9211-4a99a79d383a",
   "metadata": {},
   "outputs": [
    {
     "name": "stdout",
     "output_type": "stream",
     "text": [
      "In every programming language it starts with \"Hello, World!\"\n",
      "In every programming language it starts with \"Hello, World!\"\n"
     ]
    }
   ],
   "source": [
    "print('In every programming language it starts with \\\"Hello, World!\\\"')\n",
    "print('In every programming language it starts with \"Hello, World!\"')"
   ]
  },
  {
   "cell_type": "code",
   "execution_count": 131,
   "id": "90903097-caf5-45db-97e3-13b1b82e83c3",
   "metadata": {},
   "outputs": [
    {
     "name": "stdout",
     "output_type": "stream",
     "text": [
      "Thirty days of python\n"
     ]
    }
   ],
   "source": [
    "challenge = 'thirty days of python'\n",
    "print(challenge.capitalize())"
   ]
  },
  {
   "cell_type": "code",
   "execution_count": 133,
   "id": "f4e292ad-9b45-4d6a-a980-a2cc2af242b9",
   "metadata": {},
   "outputs": [
    {
     "name": "stdout",
     "output_type": "stream",
     "text": [
      "3\n",
      "2\n",
      "2\n"
     ]
    }
   ],
   "source": [
    "print(challenge.count('y')) \n",
    "print(challenge.count('y', 7, 17)) \n",
    "print(challenge.count('th'))"
   ]
  },
  {
   "cell_type": "code",
   "execution_count": 134,
   "id": "e259a2a4-966d-4e73-a6a0-957b7488228a",
   "metadata": {},
   "outputs": [
    {
     "name": "stdout",
     "output_type": "stream",
     "text": [
      "True\n",
      "False\n"
     ]
    }
   ],
   "source": [
    "challenge = 'thirty days of python'\n",
    "print(challenge.endswith('on'))   \n",
    "print(challenge.endswith('tion'))"
   ]
  },
  {
   "cell_type": "code",
   "execution_count": 135,
   "id": "ed09f262-44f5-4cb7-bdb5-8219004247d6",
   "metadata": {},
   "outputs": [
    {
     "name": "stdout",
     "output_type": "stream",
     "text": [
      "thirty  days    of      python\n",
      "thirty    days      of        python\n"
     ]
    }
   ],
   "source": [
    "challenge = 'thirty\\tdays\\tof\\tpython'\n",
    "print(challenge.expandtabs()) \n",
    "print(challenge.expandtabs(10))"
   ]
  },
  {
   "cell_type": "code",
   "execution_count": 136,
   "id": "4a14c80e-5cc9-43e8-9abf-4e10468cd320",
   "metadata": {},
   "outputs": [
    {
     "name": "stdout",
     "output_type": "stream",
     "text": [
      "5\n",
      "0\n"
     ]
    }
   ],
   "source": [
    "challenge = 'thirty days of python'\n",
    "print(challenge.find('y'))  \n",
    "print(challenge.find('th'))"
   ]
  },
  {
   "cell_type": "code",
   "execution_count": 137,
   "id": "b9125d8a-7e6a-4b2b-821a-7d0f515173ae",
   "metadata": {},
   "outputs": [
    {
     "name": "stdout",
     "output_type": "stream",
     "text": [
      "I am Asabeneh Yetayeh. I am a teacher. I live in Finland.\n"
     ]
    }
   ],
   "source": [
    "first_name = 'Asabeneh'\n",
    "last_name = 'Yetayeh'\n",
    "job = 'teacher'\n",
    "country = 'Finland'\n",
    "sentence = 'I am {} {}. I am a {}. I live in {}.'.format(first_name, last_name, job, country)\n",
    "print(sentence)"
   ]
  },
  {
   "cell_type": "code",
   "execution_count": 138,
   "id": "061ca421-a122-4b4e-ac94-1bb2180de754",
   "metadata": {},
   "outputs": [
    {
     "name": "stdout",
     "output_type": "stream",
     "text": [
      "The area of circle with 10 is 3.14\n"
     ]
    }
   ],
   "source": [
    "radius = 10\n",
    "pi = 3.14\n",
    "area = pi\n",
    "result = 'The area of circle with {} is {}'.format(str(radius), str(area))\n",
    "print(result)"
   ]
  },
  {
   "cell_type": "code",
   "execution_count": 139,
   "id": "187d8e1e-67c4-4d0f-950c-bf05dcfd4f2e",
   "metadata": {},
   "outputs": [
    {
     "name": "stdout",
     "output_type": "stream",
     "text": [
      "5\n",
      "0\n"
     ]
    }
   ],
   "source": [
    "challenge = 'thirty days of python'\n",
    "print(challenge.find('y'))  \n",
    "print(challenge.find('th'))"
   ]
  },
  {
   "cell_type": "code",
   "execution_count": 140,
   "id": "3a15a1fe-e9c7-4fb7-b40d-8a8efe856a80",
   "metadata": {},
   "outputs": [
    {
     "name": "stdout",
     "output_type": "stream",
     "text": [
      "True\n"
     ]
    }
   ],
   "source": [
    "challenge = 'ThirtyDaysPython'\n",
    "print(challenge.isalnum())"
   ]
  },
  {
   "cell_type": "code",
   "execution_count": 141,
   "id": "7b462d94-504c-409c-b607-227e1f7885d8",
   "metadata": {},
   "outputs": [
    {
     "name": "stdout",
     "output_type": "stream",
     "text": [
      "True\n"
     ]
    }
   ],
   "source": [
    "challenge = '30DaysPython'\n",
    "print(challenge.isalnum()) "
   ]
  },
  {
   "cell_type": "code",
   "execution_count": 144,
   "id": "e7f6d7bb-3a4a-4d01-b3da-45d1deb55386",
   "metadata": {},
   "outputs": [
    {
     "name": "stdout",
     "output_type": "stream",
     "text": [
      "True\n",
      "False\n"
     ]
    }
   ],
   "source": [
    "challenge = 'thirtydaysofpython'\n",
    "print(challenge.isalpha()) \n",
    "num = '123'\n",
    "print(num.isalpha())"
   ]
  },
  {
   "cell_type": "code",
   "execution_count": 145,
   "id": "b70c3e32-af84-4180-bbca-cbb40917a147",
   "metadata": {},
   "outputs": [
    {
     "name": "stdout",
     "output_type": "stream",
     "text": [
      "5\n",
      "0\n"
     ]
    }
   ],
   "source": [
    "challenge = 'thirty days of python'\n",
    "print(challenge.find('y'))  \n",
    "print(challenge.find('th')) "
   ]
  },
  {
   "cell_type": "code",
   "execution_count": 148,
   "id": "911cdadf-7f11-40f6-b2b2-5cb56cf604bd",
   "metadata": {},
   "outputs": [
    {
     "name": "stdout",
     "output_type": "stream",
     "text": [
      "True\n"
     ]
    }
   ],
   "source": [
    "num = '123'\n",
    "print(num.isdecimal()) "
   ]
  },
  {
   "cell_type": "code",
   "execution_count": 153,
   "id": "68a395bc-4c01-4af6-a4a9-76994a2f6877",
   "metadata": {},
   "outputs": [
    {
     "name": "stdout",
     "output_type": "stream",
     "text": [
      "False\n",
      "True\n"
     ]
    }
   ],
   "source": [
    "challenge = 'Thirty'\n",
    "print(challenge.isdigit()) \n",
    "challenge1 = '30'\n",
    "print(challenge1.isdigit())"
   ]
  },
  {
   "cell_type": "code",
   "execution_count": 154,
   "id": "3e2fe7c2-62ee-41f0-b30b-075fa2b322f3",
   "metadata": {},
   "outputs": [
    {
     "name": "stdout",
     "output_type": "stream",
     "text": [
      "True\n",
      "False\n"
     ]
    }
   ],
   "source": [
    "num = '10'\n",
    "print(num.isdecimal()) \n",
    "num = '10.5'\n",
    "print(num.isdecimal())"
   ]
  },
  {
   "cell_type": "code",
   "execution_count": 157,
   "id": "9c68bdb8-2daf-4e13-afe6-fe6a7dc2a955",
   "metadata": {},
   "outputs": [
    {
     "name": "stdout",
     "output_type": "stream",
     "text": [
      "False\n",
      "True\n"
     ]
    }
   ],
   "source": [
    "challenge = '30DaysOfPython'\n",
    "print(challenge.isidentifier()) \n",
    "challenge = 'thirty_days_of_python'\n",
    "print(challenge.isidentifier())"
   ]
  },
  {
   "cell_type": "code",
   "execution_count": 160,
   "id": "ddac7c73-e3fe-4a60-9adc-7d945475ab1f",
   "metadata": {},
   "outputs": [
    {
     "name": "stdout",
     "output_type": "stream",
     "text": [
      "True\n",
      "False\n"
     ]
    }
   ],
   "source": [
    "challenge = 'thirty days of python'\n",
    "print(challenge.islower())\n",
    "challenge = 'Thirty days of python'\n",
    "print(challenge.islower()) "
   ]
  },
  {
   "cell_type": "code",
   "execution_count": 161,
   "id": "6d737f94-ac75-4131-b67f-2ca4ff857152",
   "metadata": {},
   "outputs": [
    {
     "name": "stdout",
     "output_type": "stream",
     "text": [
      "False\n",
      "True\n"
     ]
    }
   ],
   "source": [
    "challenge = 'thirty days of python'\n",
    "print(challenge.isupper()) \n",
    "challenge = 'THIRTY DAYS OF PYTHON'\n",
    "print(challenge.isupper())"
   ]
  },
  {
   "cell_type": "code",
   "execution_count": 162,
   "id": "3b1c657f-0f09-47df-8aaf-172cb48a3619",
   "metadata": {},
   "outputs": [
    {
     "name": "stdout",
     "output_type": "stream",
     "text": [
      "True\n",
      "False\n"
     ]
    }
   ],
   "source": [
    "num = '10'\n",
    "print(num.isnumeric())   \n",
    "print('ten'.isnumeric())"
   ]
  },
  {
   "cell_type": "code",
   "execution_count": 163,
   "id": "00f20124-7fa6-49f5-816c-3e4223ecc3ad",
   "metadata": {},
   "outputs": [
    {
     "name": "stdout",
     "output_type": "stream",
     "text": [
      "HTML#, CSS#, JavaScript#, React\n"
     ]
    }
   ],
   "source": [
    "web_tech = ['HTML', 'CSS', 'JavaScript', 'React']\n",
    "result = '#, '.join(web_tech)\n",
    "print(result)"
   ]
  },
  {
   "cell_type": "code",
   "execution_count": 166,
   "id": "447801dc-a923-412c-8d1f-4a7b9e74a258",
   "metadata": {},
   "outputs": [
    {
     "name": "stdout",
     "output_type": "stream",
     "text": [
      " thirty days of python \n"
     ]
    }
   ],
   "source": [
    "challenge = ' thirty days of python y'\n",
    "print(challenge.strip('y'))"
   ]
  },
  {
   "cell_type": "code",
   "execution_count": 167,
   "id": "0a31302e-23aa-4efe-8817-2f07787a3c51",
   "metadata": {},
   "outputs": [
    {
     "name": "stdout",
     "output_type": "stream",
     "text": [
      "thirty days of coding\n"
     ]
    }
   ],
   "source": [
    "challenge = 'thirty days of python'\n",
    "print(challenge.replace('python', 'coding')) "
   ]
  },
  {
   "cell_type": "code",
   "execution_count": 168,
   "id": "30959dba-b794-439b-9a6f-84585197cc15",
   "metadata": {},
   "outputs": [
    {
     "name": "stdout",
     "output_type": "stream",
     "text": [
      "['thirty', 'days', 'of', 'python']\n"
     ]
    }
   ],
   "source": [
    "challenge = 'thirty days of python'\n",
    "print(challenge.split())"
   ]
  },
  {
   "cell_type": "code",
   "execution_count": 169,
   "id": "233053cc-c69c-4a96-9e27-80201407c276",
   "metadata": {},
   "outputs": [
    {
     "name": "stdout",
     "output_type": "stream",
     "text": [
      "Thirty Days Of Python\n"
     ]
    }
   ],
   "source": [
    "challenge = 'thirty days of python'\n",
    "print(challenge.title()) "
   ]
  },
  {
   "cell_type": "code",
   "execution_count": 170,
   "id": "305a11b6-9442-493c-b7e8-468e63bb9176",
   "metadata": {},
   "outputs": [
    {
     "name": "stdout",
     "output_type": "stream",
     "text": [
      "THIRTY DAYS OF PYTHON\n",
      "tHIRTY dAYS oF pYTHON\n"
     ]
    }
   ],
   "source": [
    "challenge = 'thirty days of python'\n",
    "print(challenge.swapcase())  \n",
    "challenge = 'Thirty Days Of Python'\n",
    "print(challenge.swapcase())"
   ]
  },
  {
   "cell_type": "code",
   "execution_count": 171,
   "id": "a19d2eb6-dde1-4176-8940-0f8be64d9542",
   "metadata": {},
   "outputs": [
    {
     "name": "stdout",
     "output_type": "stream",
     "text": [
      "True\n",
      "False\n"
     ]
    }
   ],
   "source": [
    "challenge = 'thirty days of python'\n",
    "print(challenge.startswith('thirty')) \n",
    "challenge = '30 days of python'\n",
    "print(challenge.startswith('thirty')) "
   ]
  },
  {
   "cell_type": "code",
   "execution_count": null,
   "id": "c9ab42e9-177f-4961-8260-3b405f5df5e8",
   "metadata": {},
   "outputs": [],
   "source": []
  }
 ],
 "metadata": {
  "kernelspec": {
   "display_name": "Python [conda env:base] *",
   "language": "python",
   "name": "conda-base-py"
  },
  "language_info": {
   "codemirror_mode": {
    "name": "ipython",
    "version": 3
   },
   "file_extension": ".py",
   "mimetype": "text/x-python",
   "name": "python",
   "nbconvert_exporter": "python",
   "pygments_lexer": "ipython3",
   "version": "3.12.7"
  }
 },
 "nbformat": 4,
 "nbformat_minor": 5
}

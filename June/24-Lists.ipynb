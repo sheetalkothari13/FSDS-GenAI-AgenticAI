{
 "cells": [
  {
   "cell_type": "markdown",
   "id": "b5408b2f-f0c6-470e-a117-9ec87c348e69",
   "metadata": {},
   "source": [
    "# Lists"
   ]
  },
  {
   "cell_type": "code",
   "execution_count": 1,
   "id": "417350fd-8acf-4c5a-a5d8-23959db3065a",
   "metadata": {},
   "outputs": [
    {
     "data": {
      "text/plain": [
       "[]"
      ]
     },
     "execution_count": 1,
     "metadata": {},
     "output_type": "execute_result"
    }
   ],
   "source": [
    "l = []\n",
    "l"
   ]
  },
  {
   "cell_type": "code",
   "execution_count": 2,
   "id": "cc70d701-58fe-4782-8a10-81aca9a4ed52",
   "metadata": {},
   "outputs": [
    {
     "data": {
      "text/plain": [
       "list"
      ]
     },
     "execution_count": 2,
     "metadata": {},
     "output_type": "execute_result"
    }
   ],
   "source": [
    "type(l)"
   ]
  },
  {
   "cell_type": "code",
   "execution_count": 3,
   "id": "9e5ed8a8-99b5-4b24-9c36-6f73f66a4ba4",
   "metadata": {},
   "outputs": [],
   "source": [
    "l.append(4)"
   ]
  },
  {
   "cell_type": "code",
   "execution_count": 4,
   "id": "01a72f32-bfa6-4512-b453-81ea5532b91d",
   "metadata": {},
   "outputs": [
    {
     "data": {
      "text/plain": [
       "[4]"
      ]
     },
     "execution_count": 4,
     "metadata": {},
     "output_type": "execute_result"
    }
   ],
   "source": [
    "l"
   ]
  },
  {
   "cell_type": "code",
   "execution_count": 5,
   "id": "04bfd092-d036-4910-b128-c6b9428088e0",
   "metadata": {},
   "outputs": [],
   "source": [
    "l.append(20)\n",
    "l.append(40)\n",
    "l.append(50)\n",
    "l.append(60)"
   ]
  },
  {
   "cell_type": "code",
   "execution_count": 6,
   "id": "eb91d471-659c-4a48-a4e1-553bae709b84",
   "metadata": {},
   "outputs": [
    {
     "data": {
      "text/plain": [
       "[4, 20, 40, 50, 60]"
      ]
     },
     "execution_count": 6,
     "metadata": {},
     "output_type": "execute_result"
    }
   ],
   "source": [
    "l"
   ]
  },
  {
   "cell_type": "code",
   "execution_count": 7,
   "id": "f98d26e6-2992-467e-80c5-dafe2324c6e8",
   "metadata": {},
   "outputs": [
    {
     "data": {
      "text/plain": [
       "5"
      ]
     },
     "execution_count": 7,
     "metadata": {},
     "output_type": "execute_result"
    }
   ],
   "source": [
    "len(l)"
   ]
  },
  {
   "cell_type": "code",
   "execution_count": 8,
   "id": "d7fde7e0-1150-4de3-a528-b7f55048e857",
   "metadata": {},
   "outputs": [
    {
     "ename": "TypeError",
     "evalue": "list.append() takes exactly one argument (2 given)",
     "output_type": "error",
     "traceback": [
      "\u001b[1;31m---------------------------------------------------------------------------\u001b[0m",
      "\u001b[1;31mTypeError\u001b[0m                                 Traceback (most recent call last)",
      "Cell \u001b[1;32mIn[8], line 1\u001b[0m\n\u001b[1;32m----> 1\u001b[0m l\u001b[38;5;241m.\u001b[39mappend(\u001b[38;5;241m5\u001b[39m,\u001b[38;5;241m10\u001b[39m)\n",
      "\u001b[1;31mTypeError\u001b[0m: list.append() takes exactly one argument (2 given)"
     ]
    }
   ],
   "source": [
    "l.append(5,10)"
   ]
  },
  {
   "cell_type": "code",
   "execution_count": 11,
   "id": "092862e8-075c-49f2-9c70-fe9e985cb5c0",
   "metadata": {},
   "outputs": [],
   "source": [
    "l.append(10)"
   ]
  },
  {
   "cell_type": "code",
   "execution_count": 12,
   "id": "01cd5a8b-7306-420b-b66f-c5b0aec0bb96",
   "metadata": {},
   "outputs": [
    {
     "data": {
      "text/plain": [
       "[4, 20, 40, 50, 60, 10, 10]"
      ]
     },
     "execution_count": 12,
     "metadata": {},
     "output_type": "execute_result"
    }
   ],
   "source": [
    "l"
   ]
  },
  {
   "cell_type": "code",
   "execution_count": 13,
   "id": "dedb9d01-c553-403c-b377-b16b567f5b8f",
   "metadata": {},
   "outputs": [
    {
     "data": {
      "text/plain": [
       "4"
      ]
     },
     "execution_count": 13,
     "metadata": {},
     "output_type": "execute_result"
    }
   ],
   "source": [
    "l[0]"
   ]
  },
  {
   "cell_type": "code",
   "execution_count": 14,
   "id": "e4b37848-1c2f-40b9-9d4b-2d784610f7d9",
   "metadata": {},
   "outputs": [],
   "source": [
    "l[4] = 80"
   ]
  },
  {
   "cell_type": "code",
   "execution_count": 15,
   "id": "56923e6d-229e-4c86-aef4-ec2742a71c8e",
   "metadata": {},
   "outputs": [
    {
     "data": {
      "text/plain": [
       "[4, 20, 40, 50, 80, 10, 10]"
      ]
     },
     "execution_count": 15,
     "metadata": {},
     "output_type": "execute_result"
    }
   ],
   "source": [
    "l"
   ]
  },
  {
   "cell_type": "code",
   "execution_count": 16,
   "id": "8fcd6752-1464-4880-9443-86a8ff864280",
   "metadata": {},
   "outputs": [],
   "source": [
    "l[-1] = -10"
   ]
  },
  {
   "cell_type": "code",
   "execution_count": 17,
   "id": "1e5ae0f0-514a-4c5c-999d-ffce1062ddf0",
   "metadata": {},
   "outputs": [
    {
     "data": {
      "text/plain": [
       "[4, 20, 40, 50, 80, 10, -10]"
      ]
     },
     "execution_count": 17,
     "metadata": {},
     "output_type": "execute_result"
    }
   ],
   "source": [
    "l"
   ]
  },
  {
   "cell_type": "code",
   "execution_count": 18,
   "id": "efc818e5-1079-4b6f-b320-4166c3338dbc",
   "metadata": {},
   "outputs": [
    {
     "data": {
      "text/plain": [
       "[4, 20, 40, 50, 80, 10, -10]"
      ]
     },
     "execution_count": 18,
     "metadata": {},
     "output_type": "execute_result"
    }
   ],
   "source": [
    "l1 = l.copy()\n",
    "l1"
   ]
  },
  {
   "cell_type": "code",
   "execution_count": 19,
   "id": "c9fad6c8-f5c8-40ea-bc62-f64bb459f2f1",
   "metadata": {},
   "outputs": [
    {
     "data": {
      "text/plain": [
       "True"
      ]
     },
     "execution_count": 19,
     "metadata": {},
     "output_type": "execute_result"
    }
   ],
   "source": [
    " l == l1"
   ]
  },
  {
   "cell_type": "code",
   "execution_count": 20,
   "id": "a501f59d-4a95-475d-a8dc-e56e0845435c",
   "metadata": {},
   "outputs": [
    {
     "data": {
      "text/plain": [
       "False"
      ]
     },
     "execution_count": 20,
     "metadata": {},
     "output_type": "execute_result"
    }
   ],
   "source": [
    "id(l) == id(l1)"
   ]
  },
  {
   "cell_type": "code",
   "execution_count": 21,
   "id": "93fb64f7-4b5b-49b6-aa64-c3c450d49abf",
   "metadata": {},
   "outputs": [
    {
     "data": {
      "text/plain": [
       "True"
      ]
     },
     "execution_count": 21,
     "metadata": {},
     "output_type": "execute_result"
    }
   ],
   "source": [
    "id(l) != id(l1)"
   ]
  },
  {
   "cell_type": "code",
   "execution_count": 22,
   "id": "c26fa126-52b5-43a0-bb4c-50dd49ac8d68",
   "metadata": {},
   "outputs": [
    {
     "data": {
      "text/plain": [
       "1"
      ]
     },
     "execution_count": 22,
     "metadata": {},
     "output_type": "execute_result"
    }
   ],
   "source": [
    "l.count(20)"
   ]
  },
  {
   "cell_type": "code",
   "execution_count": 23,
   "id": "abe323f2-91db-4070-94ea-150acb88a512",
   "metadata": {},
   "outputs": [
    {
     "data": {
      "text/plain": [
       "[4, 20, 40, 50, 80, 10, -10]"
      ]
     },
     "execution_count": 23,
     "metadata": {},
     "output_type": "execute_result"
    }
   ],
   "source": [
    "l"
   ]
  },
  {
   "cell_type": "code",
   "execution_count": 24,
   "id": "ab4985b1-be0c-43f9-8b78-d22cf025be36",
   "metadata": {},
   "outputs": [
    {
     "data": {
      "text/plain": [
       "1"
      ]
     },
     "execution_count": 24,
     "metadata": {},
     "output_type": "execute_result"
    }
   ],
   "source": [
    "l.count(40)"
   ]
  },
  {
   "cell_type": "code",
   "execution_count": 25,
   "id": "4a063970-d638-4daf-a4b2-aad8cd4016f6",
   "metadata": {},
   "outputs": [],
   "source": [
    "l.append(40)"
   ]
  },
  {
   "cell_type": "code",
   "execution_count": 26,
   "id": "4a4253b4-1d12-4db4-9f4b-ff5768c3f566",
   "metadata": {},
   "outputs": [
    {
     "data": {
      "text/plain": [
       "[4, 20, 40, 50, 80, 10, -10, 40]"
      ]
     },
     "execution_count": 26,
     "metadata": {},
     "output_type": "execute_result"
    }
   ],
   "source": [
    "l"
   ]
  },
  {
   "cell_type": "code",
   "execution_count": 27,
   "id": "bcd1d08f-2e43-41e2-a9a2-8d30c214ce29",
   "metadata": {},
   "outputs": [
    {
     "data": {
      "text/plain": [
       "2"
      ]
     },
     "execution_count": 27,
     "metadata": {},
     "output_type": "execute_result"
    }
   ],
   "source": [
    "l.count(40)"
   ]
  },
  {
   "cell_type": "code",
   "execution_count": 28,
   "id": "3f67a852-8d09-4513-a4c1-66f15d8858a0",
   "metadata": {},
   "outputs": [],
   "source": [
    "l1.clear()"
   ]
  },
  {
   "cell_type": "code",
   "execution_count": 29,
   "id": "9e65deff-80e5-4b3c-bf6e-6c90188d5b34",
   "metadata": {},
   "outputs": [
    {
     "data": {
      "text/plain": [
       "[]"
      ]
     },
     "execution_count": 29,
     "metadata": {},
     "output_type": "execute_result"
    }
   ],
   "source": [
    "l1"
   ]
  },
  {
   "cell_type": "code",
   "execution_count": 30,
   "id": "21954060-4cee-4cf8-9e58-db366ec6a44b",
   "metadata": {},
   "outputs": [],
   "source": [
    "del l1"
   ]
  },
  {
   "cell_type": "code",
   "execution_count": 31,
   "id": "73e0ff9a-7d7e-4f4e-8822-58c6b277aa62",
   "metadata": {},
   "outputs": [
    {
     "ename": "NameError",
     "evalue": "name 'l1' is not defined",
     "output_type": "error",
     "traceback": [
      "\u001b[1;31m---------------------------------------------------------------------------\u001b[0m",
      "\u001b[1;31mNameError\u001b[0m                                 Traceback (most recent call last)",
      "Cell \u001b[1;32mIn[31], line 1\u001b[0m\n\u001b[1;32m----> 1\u001b[0m l1\n",
      "\u001b[1;31mNameError\u001b[0m: name 'l1' is not defined"
     ]
    }
   ],
   "source": [
    "l1"
   ]
  },
  {
   "cell_type": "code",
   "execution_count": 32,
   "id": "39bbb670-61f0-4753-92a6-8e61eac43f62",
   "metadata": {},
   "outputs": [
    {
     "data": {
      "text/plain": [
       "[4, 20, 40, 50, 80, 10, -10, 40]"
      ]
     },
     "execution_count": 32,
     "metadata": {},
     "output_type": "execute_result"
    }
   ],
   "source": [
    "l"
   ]
  },
  {
   "cell_type": "code",
   "execution_count": 33,
   "id": "00f04627-fc55-44f0-bd9a-714011851eec",
   "metadata": {},
   "outputs": [],
   "source": [
    "l2 = []"
   ]
  },
  {
   "cell_type": "code",
   "execution_count": 34,
   "id": "c2c71314-72aa-43c6-a590-e2e142276a97",
   "metadata": {},
   "outputs": [],
   "source": [
    "l2.append(9)"
   ]
  },
  {
   "cell_type": "code",
   "execution_count": 35,
   "id": "64d70425-48ad-4481-9592-94de67087923",
   "metadata": {},
   "outputs": [],
   "source": [
    "l2.append('shee')\n",
    "l2.append(True)\n",
    "l2.append(1+3j)\n",
    "l2.append(5.6)"
   ]
  },
  {
   "cell_type": "code",
   "execution_count": 36,
   "id": "cf3d559b-304e-4ff8-83cf-d7f0338ba268",
   "metadata": {},
   "outputs": [
    {
     "name": "stdout",
     "output_type": "stream",
     "text": [
      "[4, 20, 40, 50, 80, 10, -10, 40]\n",
      "[9, 'shee', True, (1+3j), 5.6]\n"
     ]
    }
   ],
   "source": [
    "print(l)\n",
    "print(l2)"
   ]
  },
  {
   "cell_type": "code",
   "execution_count": 37,
   "id": "3d592f5c-1efe-4c9d-ab9c-4652aa901761",
   "metadata": {},
   "outputs": [
    {
     "data": {
      "text/plain": [
       "6"
      ]
     },
     "execution_count": 37,
     "metadata": {},
     "output_type": "execute_result"
    }
   ],
   "source": [
    "l.index(-10)"
   ]
  },
  {
   "cell_type": "code",
   "execution_count": 38,
   "id": "f9667410-0a0e-455f-9416-9623463a5971",
   "metadata": {},
   "outputs": [
    {
     "data": {
      "text/plain": [
       "'shee'"
      ]
     },
     "execution_count": 38,
     "metadata": {},
     "output_type": "execute_result"
    }
   ],
   "source": [
    "l2[1]"
   ]
  },
  {
   "cell_type": "code",
   "execution_count": 39,
   "id": "f7baf9fa-4451-4331-939f-0187caabf222",
   "metadata": {},
   "outputs": [
    {
     "data": {
      "text/plain": [
       "'s'"
      ]
     },
     "execution_count": 39,
     "metadata": {},
     "output_type": "execute_result"
    }
   ],
   "source": [
    "l2[1][0]"
   ]
  },
  {
   "cell_type": "code",
   "execution_count": 40,
   "id": "60ec435e-6f6d-42cd-94b0-7b475849fd39",
   "metadata": {},
   "outputs": [
    {
     "data": {
      "text/plain": [
       "[9, 'shee', True, (1+3j), 5.6]"
      ]
     },
     "execution_count": 40,
     "metadata": {},
     "output_type": "execute_result"
    }
   ],
   "source": [
    "l2"
   ]
  },
  {
   "cell_type": "code",
   "execution_count": 42,
   "id": "aeb92b1a-20e5-43a8-908d-9d545ad085d7",
   "metadata": {},
   "outputs": [
    {
     "name": "stdout",
     "output_type": "stream",
     "text": [
      "s\n",
      "h\n",
      "e\n",
      "e\n"
     ]
    }
   ],
   "source": [
    "print(l2[1][0])\n",
    "print(l2[1][1])\n",
    "print(l2[1][2])\n",
    "print(l2[1][3])"
   ]
  },
  {
   "cell_type": "code",
   "execution_count": 43,
   "id": "695f3139-d5aa-4160-8aeb-d966f2a315d4",
   "metadata": {},
   "outputs": [
    {
     "data": {
      "text/plain": [
       "[4, 20, 40, 50, 80, 10, -10, 40]"
      ]
     },
     "execution_count": 43,
     "metadata": {},
     "output_type": "execute_result"
    }
   ],
   "source": [
    "l"
   ]
  },
  {
   "cell_type": "code",
   "execution_count": 44,
   "id": "58c08bc5-4ac9-4e1b-9adc-089fb200bda5",
   "metadata": {},
   "outputs": [
    {
     "data": {
      "text/plain": [
       "[4, 20, 40, 50, 80, 10, -10, 40]"
      ]
     },
     "execution_count": 44,
     "metadata": {},
     "output_type": "execute_result"
    }
   ],
   "source": [
    "l[:]"
   ]
  },
  {
   "cell_type": "code",
   "execution_count": 45,
   "id": "bf0ab605-dd77-4930-bb86-ac3c7fbd3230",
   "metadata": {},
   "outputs": [
    {
     "data": {
      "text/plain": [
       "[50, 80, 10, -10, 40]"
      ]
     },
     "execution_count": 45,
     "metadata": {},
     "output_type": "execute_result"
    }
   ],
   "source": [
    "l[3:]"
   ]
  },
  {
   "cell_type": "code",
   "execution_count": 46,
   "id": "502da35f-77a1-4d03-ab8e-d28b85d451ff",
   "metadata": {},
   "outputs": [
    {
     "data": {
      "text/plain": [
       "[4, 20, 40, 50]"
      ]
     },
     "execution_count": 46,
     "metadata": {},
     "output_type": "execute_result"
    }
   ],
   "source": [
    "l[:4]"
   ]
  },
  {
   "cell_type": "code",
   "execution_count": 47,
   "id": "da6b58c7-7fbd-420a-87a0-91a4ac02bc8c",
   "metadata": {},
   "outputs": [
    {
     "data": {
      "text/plain": [
       "[4, 20, 40, 50, 80, 10, -10, 40]"
      ]
     },
     "execution_count": 47,
     "metadata": {},
     "output_type": "execute_result"
    }
   ],
   "source": [
    "l[:10]"
   ]
  },
  {
   "cell_type": "code",
   "execution_count": 49,
   "id": "a5545a5e-05f4-4b38-9410-a58b9e9dc3ec",
   "metadata": {},
   "outputs": [
    {
     "data": {
      "text/plain": [
       "[4, 50, -10]"
      ]
     },
     "execution_count": 49,
     "metadata": {},
     "output_type": "execute_result"
    }
   ],
   "source": [
    "l[0:10:3]"
   ]
  },
  {
   "cell_type": "code",
   "execution_count": 50,
   "id": "3ec6635e-d40c-40a8-aae1-7e51396ab5e2",
   "metadata": {},
   "outputs": [
    {
     "data": {
      "text/plain": [
       "[9, 'shee', True, (1+3j), 5.6]"
      ]
     },
     "execution_count": 50,
     "metadata": {},
     "output_type": "execute_result"
    }
   ],
   "source": [
    "l2"
   ]
  },
  {
   "cell_type": "code",
   "execution_count": 51,
   "id": "20186390-dd0e-472b-9310-e67def21e5bc",
   "metadata": {},
   "outputs": [
    {
     "data": {
      "text/plain": [
       "['shee', (1+3j)]"
      ]
     },
     "execution_count": 51,
     "metadata": {},
     "output_type": "execute_result"
    }
   ],
   "source": [
    "l2[1:6:2]"
   ]
  },
  {
   "cell_type": "code",
   "execution_count": 52,
   "id": "67bcae63-2b8c-414b-84ee-fe4be50da8c4",
   "metadata": {},
   "outputs": [
    {
     "data": {
      "text/plain": [
       "[4, 20, 40, 50, 80, 10, -10, 40]"
      ]
     },
     "execution_count": 52,
     "metadata": {},
     "output_type": "execute_result"
    }
   ],
   "source": [
    "l"
   ]
  },
  {
   "cell_type": "code",
   "execution_count": 53,
   "id": "2aad58e4-41f6-4081-955a-7ad0de08b6fd",
   "metadata": {},
   "outputs": [],
   "source": [
    "l.insert(3,15)"
   ]
  },
  {
   "cell_type": "code",
   "execution_count": 54,
   "id": "5f611398-cf49-4bff-8d1b-1bf81cfcab38",
   "metadata": {},
   "outputs": [
    {
     "data": {
      "text/plain": [
       "[4, 20, 40, 15, 50, 80, 10, -10, 40]"
      ]
     },
     "execution_count": 54,
     "metadata": {},
     "output_type": "execute_result"
    }
   ],
   "source": [
    "l"
   ]
  },
  {
   "cell_type": "code",
   "execution_count": 55,
   "id": "4d380572-0682-413c-aa36-b1526267bd2b",
   "metadata": {},
   "outputs": [
    {
     "data": {
      "text/plain": [
       "40"
      ]
     },
     "execution_count": 55,
     "metadata": {},
     "output_type": "execute_result"
    }
   ],
   "source": [
    "l.pop()"
   ]
  },
  {
   "cell_type": "code",
   "execution_count": 56,
   "id": "a8c7eb59-4404-43c7-bad4-c0da0fea3e6d",
   "metadata": {},
   "outputs": [
    {
     "data": {
      "text/plain": [
       "[4, 20, 40, 15, 50, 80, 10, -10]"
      ]
     },
     "execution_count": 56,
     "metadata": {},
     "output_type": "execute_result"
    }
   ],
   "source": [
    "l"
   ]
  },
  {
   "cell_type": "code",
   "execution_count": 57,
   "id": "de7280dc-3adc-426f-b1c0-7eeb3c5f0cc9",
   "metadata": {},
   "outputs": [
    {
     "data": {
      "text/plain": [
       "[4, 20, 40, 15, 50, 80, 10]"
      ]
     },
     "execution_count": 57,
     "metadata": {},
     "output_type": "execute_result"
    }
   ],
   "source": [
    "l.pop()\n",
    "l"
   ]
  },
  {
   "cell_type": "code",
   "execution_count": 58,
   "id": "5751fa9a-ada3-478d-b4c7-250b1b43f962",
   "metadata": {},
   "outputs": [
    {
     "data": {
      "text/plain": [
       "[9, 'shee', True, (1+3j), 5.6]"
      ]
     },
     "execution_count": 58,
     "metadata": {},
     "output_type": "execute_result"
    }
   ],
   "source": [
    "l2"
   ]
  },
  {
   "cell_type": "code",
   "execution_count": 59,
   "id": "3bbe18da-87e4-4f64-ab34-0fe42836b0de",
   "metadata": {},
   "outputs": [
    {
     "data": {
      "text/plain": [
       "(1+3j)"
      ]
     },
     "execution_count": 59,
     "metadata": {},
     "output_type": "execute_result"
    }
   ],
   "source": [
    "l2.pop(3)"
   ]
  },
  {
   "cell_type": "code",
   "execution_count": 60,
   "id": "85967af5-4c87-4f5b-83dd-a25efb659aac",
   "metadata": {},
   "outputs": [
    {
     "data": {
      "text/plain": [
       "[9, 'shee', True, 5.6]"
      ]
     },
     "execution_count": 60,
     "metadata": {},
     "output_type": "execute_result"
    }
   ],
   "source": [
    "l2"
   ]
  },
  {
   "cell_type": "code",
   "execution_count": 61,
   "id": "54671ca5-f0fc-434c-9072-4fa6aeed5001",
   "metadata": {},
   "outputs": [],
   "source": [
    "l2.remove(True)"
   ]
  },
  {
   "cell_type": "code",
   "execution_count": 62,
   "id": "f70cc5e0-383c-426a-8179-d7db8acb919b",
   "metadata": {},
   "outputs": [
    {
     "data": {
      "text/plain": [
       "[9, 'shee', 5.6]"
      ]
     },
     "execution_count": 62,
     "metadata": {},
     "output_type": "execute_result"
    }
   ],
   "source": [
    "l2"
   ]
  },
  {
   "cell_type": "code",
   "execution_count": 1,
   "id": "74a609a3-cb67-4c5a-8435-d9e04d506b79",
   "metadata": {},
   "outputs": [],
   "source": [
    "list1 = ['one', 'two', 'three', 'four'] \n",
    "list2 = ['five', 'six', 'seven', 'eight']"
   ]
  },
  {
   "cell_type": "code",
   "execution_count": 2,
   "id": "ad997c4c-4079-4831-889b-e9b0965ed8f9",
   "metadata": {},
   "outputs": [],
   "source": [
    "list3 = list1 + list2"
   ]
  },
  {
   "cell_type": "code",
   "execution_count": 3,
   "id": "e6e320bf-789f-44f5-9f3d-104b51538279",
   "metadata": {},
   "outputs": [
    {
     "data": {
      "text/plain": [
       "['one', 'two', 'three', 'four', 'five', 'six', 'seven', 'eight']"
      ]
     },
     "execution_count": 3,
     "metadata": {},
     "output_type": "execute_result"
    }
   ],
   "source": [
    "list3"
   ]
  },
  {
   "cell_type": "code",
   "execution_count": 5,
   "id": "893ea408-6696-4205-9a9f-9075aaf7f689",
   "metadata": {},
   "outputs": [
    {
     "name": "stdout",
     "output_type": "stream",
     "text": [
      "Three is present in the list\n"
     ]
    }
   ],
   "source": [
    "if 'three' in list1: \n",
    "    print('Three is present in the list') \n",
    "else: \n",
    "    print('Three is not present in the list') "
   ]
  },
  {
   "cell_type": "code",
   "execution_count": 6,
   "id": "a63bf094-91c6-4342-ae11-2a2ef920b609",
   "metadata": {},
   "outputs": [
    {
     "data": {
      "text/plain": [
       "['one', 'two', 'three', 'four']"
      ]
     },
     "execution_count": 6,
     "metadata": {},
     "output_type": "execute_result"
    }
   ],
   "source": [
    "list1"
   ]
  },
  {
   "cell_type": "code",
   "execution_count": 7,
   "id": "75753abe-f1d3-4880-975b-9983809977ce",
   "metadata": {},
   "outputs": [
    {
     "data": {
      "text/plain": [
       "['one', 'two', 'three', 'four', 'five', 'six', 'seven', 'eight']"
      ]
     },
     "execution_count": 7,
     "metadata": {},
     "output_type": "execute_result"
    }
   ],
   "source": [
    "list3"
   ]
  },
  {
   "cell_type": "code",
   "execution_count": 8,
   "id": "687dd494-0bf2-47fb-b491-caed35ddc09f",
   "metadata": {},
   "outputs": [],
   "source": [
    "list3.reverse()"
   ]
  },
  {
   "cell_type": "code",
   "execution_count": 9,
   "id": "db2b4bc2-5d7b-4eea-8d24-6d800652511a",
   "metadata": {},
   "outputs": [
    {
     "data": {
      "text/plain": [
       "['eight', 'seven', 'six', 'five', 'four', 'three', 'two', 'one']"
      ]
     },
     "execution_count": 9,
     "metadata": {},
     "output_type": "execute_result"
    }
   ],
   "source": [
    "list3"
   ]
  },
  {
   "cell_type": "code",
   "execution_count": 14,
   "id": "b1029286-a74a-4d6c-84b9-ab465f2b6c33",
   "metadata": {},
   "outputs": [],
   "source": [
    "list3 = list3[::-1]"
   ]
  },
  {
   "cell_type": "code",
   "execution_count": 15,
   "id": "41b0989e-ac15-488f-a0d3-51b94394732c",
   "metadata": {},
   "outputs": [
    {
     "data": {
      "text/plain": [
       "['one', 'two', 'three', 'four', 'five', 'six', 'seven', 'eight']"
      ]
     },
     "execution_count": 15,
     "metadata": {},
     "output_type": "execute_result"
    }
   ],
   "source": [
    "list3"
   ]
  },
  {
   "cell_type": "code",
   "execution_count": 16,
   "id": "1301f94d-cbe0-4d6d-a64e-44de9ad4c055",
   "metadata": {},
   "outputs": [
    {
     "data": {
      "text/plain": [
       "[2, 5, 9, 12, 34, 88, 99]"
      ]
     },
     "execution_count": 16,
     "metadata": {},
     "output_type": "execute_result"
    }
   ],
   "source": [
    "mylist3 = [9,5,2,99,12,88,34] \n",
    "mylist3.sort() \n",
    "mylist3 "
   ]
  },
  {
   "cell_type": "code",
   "execution_count": 19,
   "id": "81e95c6a-7ded-4925-bb07-fe836403c76f",
   "metadata": {},
   "outputs": [
    {
     "data": {
      "text/plain": [
       "[99, 88, 34, 12, 9, 5, 2]"
      ]
     },
     "execution_count": 19,
     "metadata": {},
     "output_type": "execute_result"
    }
   ],
   "source": [
    "mylist3.sort(reverse=True) \n",
    "mylist3"
   ]
  },
  {
   "cell_type": "code",
   "execution_count": 20,
   "id": "4eebe789-2246-4282-9037-39441e1eb6db",
   "metadata": {},
   "outputs": [
    {
     "data": {
      "text/plain": [
       "['one', 'two', 'three', 'four', 'five', 'six', 'seven', 'eight']"
      ]
     },
     "execution_count": 20,
     "metadata": {},
     "output_type": "execute_result"
    }
   ],
   "source": [
    "list3"
   ]
  },
  {
   "cell_type": "code",
   "execution_count": 21,
   "id": "5c7b2e3e-caf0-49f2-9102-63b4272abaef",
   "metadata": {},
   "outputs": [
    {
     "name": "stdout",
     "output_type": "stream",
     "text": [
      "one\n",
      "two\n",
      "three\n",
      "four\n",
      "five\n",
      "six\n",
      "seven\n",
      "eight\n"
     ]
    }
   ],
   "source": [
    "for i in list3: \n",
    "    print(i) "
   ]
  },
  {
   "cell_type": "code",
   "execution_count": 22,
   "id": "6f302ce3-8605-4401-bf51-a39f8654b4ed",
   "metadata": {},
   "outputs": [
    {
     "data": {
      "text/plain": [
       "False"
      ]
     },
     "execution_count": 22,
     "metadata": {},
     "output_type": "execute_result"
    }
   ],
   "source": [
    "L1 = [1,2,3,4,0]\n",
    "all(L1)"
   ]
  },
  {
   "cell_type": "code",
   "execution_count": 23,
   "id": "d85d1fc5-161e-42a8-ab87-cf0da53105b4",
   "metadata": {},
   "outputs": [
    {
     "data": {
      "text/plain": [
       "True"
      ]
     },
     "execution_count": 23,
     "metadata": {},
     "output_type": "execute_result"
    }
   ],
   "source": [
    "any(L1)"
   ]
  },
  {
   "cell_type": "code",
   "execution_count": 24,
   "id": "6ef3b9d1-0070-4ad5-ac02-8e1f5bc3b043",
   "metadata": {},
   "outputs": [
    {
     "data": {
      "text/plain": [
       "False"
      ]
     },
     "execution_count": 24,
     "metadata": {},
     "output_type": "execute_result"
    }
   ],
   "source": [
    "l2 = [0,0,0]\n",
    "all(l2)"
   ]
  },
  {
   "cell_type": "code",
   "execution_count": 25,
   "id": "491da45e-4848-45d6-8a63-d4b155b1d099",
   "metadata": {},
   "outputs": [
    {
     "data": {
      "text/plain": [
       "False"
      ]
     },
     "execution_count": 25,
     "metadata": {},
     "output_type": "execute_result"
    }
   ],
   "source": [
    "any(l2)"
   ]
  },
  {
   "cell_type": "code",
   "execution_count": 26,
   "id": "e0fd40f6-e44d-47db-b876-050bb542b3ad",
   "metadata": {},
   "outputs": [
    {
     "data": {
      "text/plain": [
       "True"
      ]
     },
     "execution_count": 26,
     "metadata": {},
     "output_type": "execute_result"
    }
   ],
   "source": [
    "l3 = [2,4,6,True]\n",
    "all(l3)"
   ]
  },
  {
   "cell_type": "code",
   "execution_count": 27,
   "id": "6f07821c-c0f2-4400-afb1-a6e2ec36c254",
   "metadata": {},
   "outputs": [
    {
     "data": {
      "text/plain": [
       "True"
      ]
     },
     "execution_count": 27,
     "metadata": {},
     "output_type": "execute_result"
    }
   ],
   "source": [
    "any(l3)"
   ]
  },
  {
   "cell_type": "code",
   "execution_count": 28,
   "id": "0ab29e2e-2d17-4ee2-bb14-eac7611cbd71",
   "metadata": {},
   "outputs": [],
   "source": [
    "a = [1,22,3424,4321,445]\n",
    "b = [553.4,66,1]"
   ]
  },
  {
   "cell_type": "code",
   "execution_count": 29,
   "id": "cf8b3744-52a1-4a94-97b2-88f3ad2bd3c7",
   "metadata": {},
   "outputs": [
    {
     "name": "stdout",
     "output_type": "stream",
     "text": [
      "(0, 1)\n",
      "(1, 22)\n",
      "(2, 3424)\n",
      "(3, 4321)\n",
      "(4, 445)\n"
     ]
    }
   ],
   "source": [
    "for i in enumerate(a):\n",
    "    print(i)"
   ]
  },
  {
   "cell_type": "code",
   "execution_count": 31,
   "id": "091a4326-2dee-4f52-b0cd-772d87b1109c",
   "metadata": {},
   "outputs": [],
   "source": [
    "a.extend(b)"
   ]
  },
  {
   "cell_type": "code",
   "execution_count": 32,
   "id": "5e409e2a-e238-4316-9d53-dd73fcebe48f",
   "metadata": {},
   "outputs": [
    {
     "data": {
      "text/plain": [
       "[1, 22, 3424, 4321, 445, 553.4, 66, 1]"
      ]
     },
     "execution_count": 32,
     "metadata": {},
     "output_type": "execute_result"
    }
   ],
   "source": [
    "a"
   ]
  },
  {
   "cell_type": "code",
   "execution_count": null,
   "id": "78d012af-1d58-499a-8efa-d9f18a6b8754",
   "metadata": {},
   "outputs": [],
   "source": []
  }
 ],
 "metadata": {
  "kernelspec": {
   "display_name": "Python [conda env:base] *",
   "language": "python",
   "name": "conda-base-py"
  },
  "language_info": {
   "codemirror_mode": {
    "name": "ipython",
    "version": 3
   },
   "file_extension": ".py",
   "mimetype": "text/x-python",
   "name": "python",
   "nbconvert_exporter": "python",
   "pygments_lexer": "ipython3",
   "version": "3.12.7"
  }
 },
 "nbformat": 4,
 "nbformat_minor": 5
}

{
 "cells": [
  {
   "cell_type": "code",
   "execution_count": 1,
   "id": "8a918e20-ee4c-446d-bf02-68ee1c12a6ba",
   "metadata": {},
   "outputs": [
    {
     "data": {
      "text/plain": [
       "[1, 22, 35, 42, 5, 2, 22, 5, 22]"
      ]
     },
     "execution_count": 1,
     "metadata": {},
     "output_type": "execute_result"
    }
   ],
   "source": [
    "my = [1,22,35,42,5,2,22,5,22]\n",
    "my"
   ]
  },
  {
   "cell_type": "code",
   "execution_count": 2,
   "id": "66419699-41fd-4e19-af15-10815785a30f",
   "metadata": {},
   "outputs": [
    {
     "data": {
      "text/plain": [
       "1"
      ]
     },
     "execution_count": 2,
     "metadata": {},
     "output_type": "execute_result"
    }
   ],
   "source": [
    "my.index(22)"
   ]
  },
  {
   "cell_type": "code",
   "execution_count": 3,
   "id": "975dd08b-0ad8-4c96-ac52-15a0791fd254",
   "metadata": {},
   "outputs": [
    {
     "data": {
      "text/plain": [
       "[1, 35, 42, 5, 2, 22, 5, 22]"
      ]
     },
     "execution_count": 3,
     "metadata": {},
     "output_type": "execute_result"
    }
   ],
   "source": [
    "my.remove(22)\n",
    "my"
   ]
  },
  {
   "cell_type": "code",
   "execution_count": 4,
   "id": "65d820a5-457e-4973-ae7e-80942655948a",
   "metadata": {},
   "outputs": [
    {
     "name": "stdout",
     "output_type": "stream",
     "text": [
      "[1, 2, 3]\n"
     ]
    }
   ],
   "source": [
    "my_list = [1, 2, 2, 3]\n",
    "my_list.remove(2)\n",
    "print(my_list)"
   ]
  },
  {
   "cell_type": "code",
   "execution_count": 5,
   "id": "b3a6c515-5781-4a9c-abe1-b1d225266372",
   "metadata": {},
   "outputs": [
    {
     "data": {
      "text/plain": [
       "(1, 2, 3, 4)"
      ]
     },
     "execution_count": 5,
     "metadata": {},
     "output_type": "execute_result"
    }
   ],
   "source": [
    "(1, 2) + (3, 4)"
   ]
  },
  {
   "cell_type": "code",
   "execution_count": 6,
   "id": "9736765c-62f6-4872-9554-3d054930c50e",
   "metadata": {},
   "outputs": [
    {
     "name": "stdout",
     "output_type": "stream",
     "text": [
      "[1, 2, 3]\n"
     ]
    }
   ],
   "source": [
    "print(list((1,2,3)))"
   ]
  },
  {
   "cell_type": "code",
   "execution_count": 7,
   "id": "2ed9a529-52f3-4fb6-8459-d1932cb8d4f6",
   "metadata": {},
   "outputs": [
    {
     "name": "stdout",
     "output_type": "stream",
     "text": [
      "(1, 2, 3)\n"
     ]
    }
   ],
   "source": [
    "print(tuple([1,2,3]))"
   ]
  },
  {
   "cell_type": "code",
   "execution_count": 8,
   "id": "4ccbe627-76fc-428d-be9d-e5785d2462ae",
   "metadata": {},
   "outputs": [],
   "source": [
    "my_tuple = (1)"
   ]
  },
  {
   "cell_type": "code",
   "execution_count": 9,
   "id": "b541cab6-3c79-4e87-9a2a-ea40834d45ad",
   "metadata": {},
   "outputs": [
    {
     "data": {
      "text/plain": [
       "1"
      ]
     },
     "execution_count": 9,
     "metadata": {},
     "output_type": "execute_result"
    }
   ],
   "source": [
    "my_tuple"
   ]
  },
  {
   "cell_type": "code",
   "execution_count": 10,
   "id": "d53686fd-6d2a-49ab-a6fb-0292d39a91a8",
   "metadata": {},
   "outputs": [],
   "source": [
    "my_tuple = (1,)"
   ]
  },
  {
   "cell_type": "code",
   "execution_count": 11,
   "id": "97ed2fae-4707-42e7-8d8e-481c583c460c",
   "metadata": {},
   "outputs": [
    {
     "data": {
      "text/plain": [
       "(1,)"
      ]
     },
     "execution_count": 11,
     "metadata": {},
     "output_type": "execute_result"
    }
   ],
   "source": [
    "my_tuple"
   ]
  },
  {
   "cell_type": "code",
   "execution_count": null,
   "id": "e25d2ff6-8a0a-429a-8e38-b7c3bd9f2b1b",
   "metadata": {},
   "outputs": [],
   "source": []
  }
 ],
 "metadata": {
  "kernelspec": {
   "display_name": "Python [conda env:base] *",
   "language": "python",
   "name": "conda-base-py"
  },
  "language_info": {
   "codemirror_mode": {
    "name": "ipython",
    "version": 3
   },
   "file_extension": ".py",
   "mimetype": "text/x-python",
   "name": "python",
   "nbconvert_exporter": "python",
   "pygments_lexer": "ipython3",
   "version": "3.12.7"
  }
 },
 "nbformat": 4,
 "nbformat_minor": 5
}

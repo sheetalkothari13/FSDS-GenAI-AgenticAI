{
 "cells": [
  {
   "cell_type": "markdown",
   "id": "c286d358-ab43-4944-8631-2d6f480c4548",
   "metadata": {},
   "source": [
    "# Functions\n",
    "Write it once call it again and again\n",
    "\n",
    "def function_name(parameters):\n",
    "\n",
    "    # function body\n",
    "    \n",
    "    return expression"
   ]
  },
  {
   "cell_type": "code",
   "execution_count": 1,
   "id": "af9550f8-f0b8-401c-8a45-6310abe3f8e2",
   "metadata": {},
   "outputs": [],
   "source": [
    "def greet():\n",
    "    print(\"Hello sheet\")"
   ]
  },
  {
   "cell_type": "code",
   "execution_count": 3,
   "id": "83177771-3826-4528-8c6e-abbe90e01d76",
   "metadata": {},
   "outputs": [
    {
     "name": "stdout",
     "output_type": "stream",
     "text": [
      "Hello sheet\n"
     ]
    }
   ],
   "source": [
    "def greet():\n",
    "    print(\"Hello sheet\")\n",
    "greet()\n",
    "\n",
    "# define the function \n",
    "#print or return \n",
    "#call the function "
   ]
  },
  {
   "cell_type": "code",
   "execution_count": 4,
   "id": "8db2ba55-1b22-47cd-bca6-1ea6614d4274",
   "metadata": {},
   "outputs": [
    {
     "name": "stdout",
     "output_type": "stream",
     "text": [
      "Hello sheet\n",
      "Hello sheet\n",
      "Hello sheet\n"
     ]
    }
   ],
   "source": [
    "def greet():\n",
    "    print(\"Hello sheet\")\n",
    "greet()\n",
    "\n",
    "def greet():\n",
    "    print(\"Hello sheet\")\n",
    "greet()\n",
    "\n",
    "def greet():\n",
    "    print(\"Hello sheet\")\n",
    "greet()"
   ]
  },
  {
   "cell_type": "code",
   "execution_count": 5,
   "id": "6b081d7a-d1ff-443b-b2ae-5ab3518ddb6d",
   "metadata": {},
   "outputs": [
    {
     "name": "stdout",
     "output_type": "stream",
     "text": [
      "Hello sheet\n",
      "Hello sheet\n",
      "Hello sheet\n",
      "Hello sheet\n",
      "Hello sheet\n"
     ]
    }
   ],
   "source": [
    "def greet():\n",
    "    print(\"Hello sheet\")\n",
    "greet()\n",
    "greet()\n",
    "greet()\n",
    "greet()\n",
    "greet()"
   ]
  },
  {
   "cell_type": "code",
   "execution_count": 8,
   "id": "38b1c0bb-3dc3-4f3b-90f5-f327bbde1eb9",
   "metadata": {},
   "outputs": [
    {
     "name": "stdout",
     "output_type": "stream",
     "text": [
      "Hello sheet\n",
      "**********\n",
      "Hello sheet\n",
      "**********\n",
      "Hello sheet\n",
      "**********\n",
      "Hello sheet\n",
      "**********\n",
      "Hello sheet\n",
      "**********\n"
     ]
    }
   ],
   "source": [
    "def greet():            #without any arguments\n",
    "    print(\"Hello sheet\")\n",
    "    print('*' * 10)\n",
    "greet()\n",
    "greet()\n",
    "greet()\n",
    "greet()\n",
    "greet()"
   ]
  },
  {
   "cell_type": "code",
   "execution_count": 10,
   "id": "cd4066d6-b569-4d63-a683-98f03ac7c6fa",
   "metadata": {},
   "outputs": [
    {
     "data": {
      "text/plain": [
       "30"
      ]
     },
     "execution_count": 10,
     "metadata": {},
     "output_type": "execute_result"
    }
   ],
   "source": [
    "# doing with arguments\n",
    "\n",
    "def add(x,y):    #formal parameters\n",
    "    z = x+y\n",
    "    return z\n",
    "add(10,20)       #actual parameters"
   ]
  },
  {
   "cell_type": "code",
   "execution_count": 11,
   "id": "0f497859-3d41-4f21-8846-a61b4d5506ee",
   "metadata": {},
   "outputs": [
    {
     "ename": "TypeError",
     "evalue": "add() missing 1 required positional argument: 'y'",
     "output_type": "error",
     "traceback": [
      "\u001b[1;31m---------------------------------------------------------------------------\u001b[0m",
      "\u001b[1;31mTypeError\u001b[0m                                 Traceback (most recent call last)",
      "Cell \u001b[1;32mIn[11], line 4\u001b[0m\n\u001b[0;32m      2\u001b[0m     z \u001b[38;5;241m=\u001b[39m x\u001b[38;5;241m+\u001b[39my\n\u001b[0;32m      3\u001b[0m     \u001b[38;5;28;01mreturn\u001b[39;00m z\n\u001b[1;32m----> 4\u001b[0m add(\u001b[38;5;241m10\u001b[39m)\n",
      "\u001b[1;31mTypeError\u001b[0m: add() missing 1 required positional argument: 'y'"
     ]
    }
   ],
   "source": [
    "def add(x,y):  \n",
    "    z = x+y\n",
    "    return z\n",
    "add(10)\n",
    "\n",
    "#type error"
   ]
  },
  {
   "cell_type": "code",
   "execution_count": 13,
   "id": "373570eb-fef0-4965-b999-704f07a39d40",
   "metadata": {},
   "outputs": [
    {
     "ename": "TypeError",
     "evalue": "add() takes 2 positional arguments but 3 were given",
     "output_type": "error",
     "traceback": [
      "\u001b[1;31m---------------------------------------------------------------------------\u001b[0m",
      "\u001b[1;31mTypeError\u001b[0m                                 Traceback (most recent call last)",
      "Cell \u001b[1;32mIn[13], line 4\u001b[0m\n\u001b[0;32m      2\u001b[0m     z \u001b[38;5;241m=\u001b[39m x\u001b[38;5;241m+\u001b[39my\n\u001b[0;32m      3\u001b[0m     \u001b[38;5;28;01mreturn\u001b[39;00m z\n\u001b[1;32m----> 4\u001b[0m add(\u001b[38;5;241m10\u001b[39m,\u001b[38;5;241m20\u001b[39m,\u001b[38;5;241m30\u001b[39m)\n",
      "\u001b[1;31mTypeError\u001b[0m: add() takes 2 positional arguments but 3 were given"
     ]
    }
   ],
   "source": [
    "def add(x,y):  \n",
    "    z = x+y\n",
    "    return z\n",
    "add(10,20,30)"
   ]
  },
  {
   "cell_type": "code",
   "execution_count": 14,
   "id": "f68045d0-5fad-49c5-9073-bdd92ca138a7",
   "metadata": {},
   "outputs": [
    {
     "ename": "NameError",
     "evalue": "name 'm' is not defined",
     "output_type": "error",
     "traceback": [
      "\u001b[1;31m---------------------------------------------------------------------------\u001b[0m",
      "\u001b[1;31mNameError\u001b[0m                                 Traceback (most recent call last)",
      "Cell \u001b[1;32mIn[14], line 5\u001b[0m\n\u001b[0;32m      2\u001b[0m     c\u001b[38;5;241m=\u001b[39mx\u001b[38;5;241m+\u001b[39my\u001b[38;5;241m+\u001b[39mz\u001b[38;5;241m+\u001b[39mm \n\u001b[0;32m      3\u001b[0m     \u001b[38;5;28;01mreturn\u001b[39;00m c  \n\u001b[1;32m----> 5\u001b[0m add(\u001b[38;5;241m5\u001b[39m,\u001b[38;5;241m6\u001b[39m,\u001b[38;5;241m7\u001b[39m)\n",
      "Cell \u001b[1;32mIn[14], line 2\u001b[0m, in \u001b[0;36madd\u001b[1;34m(x, y, z)\u001b[0m\n\u001b[0;32m      1\u001b[0m \u001b[38;5;28;01mdef\u001b[39;00m \u001b[38;5;21madd\u001b[39m(x,y,z):\n\u001b[1;32m----> 2\u001b[0m     c\u001b[38;5;241m=\u001b[39mx\u001b[38;5;241m+\u001b[39my\u001b[38;5;241m+\u001b[39mz\u001b[38;5;241m+\u001b[39mm \n\u001b[0;32m      3\u001b[0m     \u001b[38;5;28;01mreturn\u001b[39;00m c\n",
      "\u001b[1;31mNameError\u001b[0m: name 'm' is not defined"
     ]
    }
   ],
   "source": [
    "def add(x,y,z):\n",
    "    c=x+y+z+m \n",
    "    return c  \n",
    "   \n",
    "add(5,6,7)\n",
    "# name error - m not defined"
   ]
  },
  {
   "cell_type": "code",
   "execution_count": 15,
   "id": "9888f5ff-5ab1-4a6c-b3f9-f5642e7acd9b",
   "metadata": {},
   "outputs": [
    {
     "name": "stdout",
     "output_type": "stream",
     "text": [
      "Hello sheet\n",
      "**********\n"
     ]
    }
   ],
   "source": [
    "greet()"
   ]
  },
  {
   "cell_type": "code",
   "execution_count": 19,
   "id": "3239a000-24d7-48a7-8d90-2d2cb3ebec66",
   "metadata": {},
   "outputs": [
    {
     "data": {
      "text/plain": [
       "27"
      ]
     },
     "execution_count": 19,
     "metadata": {},
     "output_type": "execute_result"
    }
   ],
   "source": [
    "def add(x,y,z):\n",
    "    c=x+y+z\n",
    "    return c  \n",
    "   \n",
    "add(8,9,10)"
   ]
  },
  {
   "cell_type": "code",
   "execution_count": 21,
   "id": "5af283d3-bfa9-4cee-919a-ffa8aca5aec5",
   "metadata": {},
   "outputs": [
    {
     "data": {
      "text/plain": [
       "6"
      ]
     },
     "execution_count": 21,
     "metadata": {},
     "output_type": "execute_result"
    }
   ],
   "source": [
    "add(1,2,3)"
   ]
  },
  {
   "cell_type": "code",
   "execution_count": 22,
   "id": "693b6149-4993-4bfb-8b62-96dab4afb75f",
   "metadata": {},
   "outputs": [],
   "source": [
    "def sub(x,y,z):\n",
    "    d = x-y-z\n",
    "    return d"
   ]
  },
  {
   "cell_type": "code",
   "execution_count": 23,
   "id": "6c8116f4-6663-4709-97b8-c9d789127311",
   "metadata": {},
   "outputs": [
    {
     "data": {
      "text/plain": [
       "-7"
      ]
     },
     "execution_count": 23,
     "metadata": {},
     "output_type": "execute_result"
    }
   ],
   "source": [
    "sub(10,9,8)"
   ]
  },
  {
   "cell_type": "code",
   "execution_count": 24,
   "id": "6b6c908f-2bea-4d1f-b991-8e8da7380d65",
   "metadata": {},
   "outputs": [
    {
     "name": "stdout",
     "output_type": "stream",
     "text": [
      "Hello sheet\n",
      "**********\n",
      "18\n",
      "-8\n"
     ]
    }
   ],
   "source": [
    "greet()   \n",
    "print(add(5,6,7))\n",
    "print(sub(5,6,7))"
   ]
  },
  {
   "cell_type": "code",
   "execution_count": 25,
   "id": "19cfe719-5c96-4a07-942f-b9ad753efdd0",
   "metadata": {},
   "outputs": [
    {
     "name": "stdout",
     "output_type": "stream",
     "text": [
      "(15, -1)\n",
      "<class 'tuple'>\n"
     ]
    }
   ],
   "source": [
    "def add_sub(x,y): \n",
    "    c= x+y\n",
    "    d= x-y\n",
    "    return c, d \n",
    "    \n",
    "result = add_sub(7,8)\n",
    "print(result)\n",
    "print(type(result))"
   ]
  },
  {
   "cell_type": "code",
   "execution_count": 26,
   "id": "b066b0e7-8ccd-4003-8ec3-d5e687c54df4",
   "metadata": {},
   "outputs": [],
   "source": [
    "# its giving output in tuple, we cant use this tuple as it is immutable,\n",
    "# we have to not make it as a tuple and print it as different no's.\n",
    "# for that we have to declare the no. of varaiables in result same as that of we return"
   ]
  },
  {
   "cell_type": "code",
   "execution_count": 28,
   "id": "12d04161-9519-46bd-a810-dc9df73ee61f",
   "metadata": {},
   "outputs": [
    {
     "name": "stdout",
     "output_type": "stream",
     "text": [
      "30\n",
      "-10\n",
      "200\n"
     ]
    }
   ],
   "source": [
    "def add_sub_mul(x,y): \n",
    "    c= x+y\n",
    "    d= x-y\n",
    "    e= x*y\n",
    "    return c, d, e \n",
    "    \n",
    "add, sub, mul = add_sub_mul(10,20)\n",
    "print(add)\n",
    "print(sub)\n",
    "print(mul)"
   ]
  },
  {
   "cell_type": "code",
   "execution_count": 29,
   "id": "a8b9d49b-4085-427d-9c4b-c442edbcf89e",
   "metadata": {},
   "outputs": [
    {
     "name": "stdout",
     "output_type": "stream",
     "text": [
      "8\n"
     ]
    }
   ],
   "source": [
    "def update(): \n",
    "    x = 8\n",
    "    print(x)\n",
    "update()"
   ]
  },
  {
   "cell_type": "code",
   "execution_count": 30,
   "id": "8811269e-2f5e-4414-85be-19ca285f3a98",
   "metadata": {},
   "outputs": [
    {
     "ename": "TypeError",
     "evalue": "update() takes 0 positional arguments but 1 was given",
     "output_type": "error",
     "traceback": [
      "\u001b[1;31m---------------------------------------------------------------------------\u001b[0m",
      "\u001b[1;31mTypeError\u001b[0m                                 Traceback (most recent call last)",
      "Cell \u001b[1;32mIn[30], line 1\u001b[0m\n\u001b[1;32m----> 1\u001b[0m update(\u001b[38;5;241m8\u001b[39m)\n",
      "\u001b[1;31mTypeError\u001b[0m: update() takes 0 positional arguments but 1 was given"
     ]
    }
   ],
   "source": [
    "update(8)"
   ]
  },
  {
   "cell_type": "code",
   "execution_count": 32,
   "id": "b519211b-aade-451f-8bee-7f0a3216dc66",
   "metadata": {},
   "outputs": [
    {
     "data": {
      "text/plain": [
       "8"
      ]
     },
     "execution_count": 32,
     "metadata": {},
     "output_type": "execute_result"
    }
   ],
   "source": [
    "def update(x): #update function take the value from the user and updates it\n",
    "    x = 8\n",
    "    return x\n",
    "    \n",
    "update(100)"
   ]
  },
  {
   "cell_type": "code",
   "execution_count": 33,
   "id": "95a249c2-58f8-4e0f-9851-c2e6e79bb177",
   "metadata": {},
   "outputs": [
    {
     "name": "stdout",
     "output_type": "stream",
     "text": [
      "8\n",
      "15\n"
     ]
    }
   ],
   "source": [
    "def update(x):  \n",
    "    x = 8\n",
    "    return x\n",
    "    \n",
    "a = 15\n",
    "print(update(a))\n",
    "print(a)"
   ]
  },
  {
   "cell_type": "code",
   "execution_count": 34,
   "id": "634d8e4c-23fb-489e-b261-f82f4f80bedc",
   "metadata": {},
   "outputs": [],
   "source": [
    "def EvenOdd(x):\n",
    "    if (x % 2 == 0):\n",
    "        return \"Even\"\n",
    "    else:\n",
    "        return \"Odd\""
   ]
  },
  {
   "cell_type": "code",
   "execution_count": 35,
   "id": "b0c5c340-15f6-4920-80bd-778fa10ca69c",
   "metadata": {},
   "outputs": [
    {
     "name": "stdout",
     "output_type": "stream",
     "text": [
      "Even\n",
      "Odd\n",
      "Even\n"
     ]
    }
   ],
   "source": [
    "print(EvenOdd(10))\n",
    "print(EvenOdd(101))\n",
    "print(EvenOdd(10010))"
   ]
  },
  {
   "cell_type": "code",
   "execution_count": null,
   "id": "a40993cd-981a-4d8c-8459-0226ed87e2d3",
   "metadata": {},
   "outputs": [],
   "source": []
  }
 ],
 "metadata": {
  "kernelspec": {
   "display_name": "Python [conda env:base] *",
   "language": "python",
   "name": "conda-base-py"
  },
  "language_info": {
   "codemirror_mode": {
    "name": "ipython",
    "version": 3
   },
   "file_extension": ".py",
   "mimetype": "text/x-python",
   "name": "python",
   "nbconvert_exporter": "python",
   "pygments_lexer": "ipython3",
   "version": "3.12.7"
  }
 },
 "nbformat": 4,
 "nbformat_minor": 5
}

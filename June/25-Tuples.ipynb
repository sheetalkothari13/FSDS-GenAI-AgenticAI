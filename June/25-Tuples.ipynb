{
 "cells": [
  {
   "cell_type": "markdown",
   "id": "820c7bd7-e34c-42dd-8983-810e6dd1eccf",
   "metadata": {},
   "source": [
    "# Tuples"
   ]
  },
  {
   "cell_type": "code",
   "execution_count": 3,
   "id": "5316da0a-f492-4eba-9a85-01c0c9aa1af1",
   "metadata": {},
   "outputs": [],
   "source": [
    "t = ()"
   ]
  },
  {
   "cell_type": "code",
   "execution_count": 4,
   "id": "7e4bcf0e-ff36-4d29-bc7e-fd0d19f8d305",
   "metadata": {},
   "outputs": [
    {
     "data": {
      "text/plain": [
       "tuple"
      ]
     },
     "execution_count": 4,
     "metadata": {},
     "output_type": "execute_result"
    }
   ],
   "source": [
    "type(t)"
   ]
  },
  {
   "cell_type": "code",
   "execution_count": 6,
   "id": "2df11edb-8ba1-4992-b932-a8f30a9d84bb",
   "metadata": {},
   "outputs": [],
   "source": [
    "tup1 = ()\n",
    "tup2 = (10,20,30)\n",
    "tup3 = (10,20.4,'sheet',(2,5,5.5),False,[2,4,5],{'John','David'})"
   ]
  },
  {
   "cell_type": "code",
   "execution_count": 7,
   "id": "0348a980-c4ee-43f8-8ba7-d83de7dac6bf",
   "metadata": {},
   "outputs": [
    {
     "name": "stdout",
     "output_type": "stream",
     "text": [
      "()\n",
      "(10, 20, 30)\n",
      "(10, 20.4, 'sheet', (2, 5, 5.5), False, [2, 4, 5], {'John', 'David'})\n"
     ]
    }
   ],
   "source": [
    "print(tup1)\n",
    "print(tup2)\n",
    "print(tup3)"
   ]
  },
  {
   "cell_type": "code",
   "execution_count": 8,
   "id": "4df21651-36f9-4f82-9768-133a9533905f",
   "metadata": {},
   "outputs": [
    {
     "data": {
      "text/plain": [
       "7"
      ]
     },
     "execution_count": 8,
     "metadata": {},
     "output_type": "execute_result"
    }
   ],
   "source": [
    "len(tup3)"
   ]
  },
  {
   "cell_type": "code",
   "execution_count": 9,
   "id": "dd137dc8-0ba4-47d9-b00e-427adebdc1a5",
   "metadata": {},
   "outputs": [
    {
     "data": {
      "text/plain": [
       "30"
      ]
     },
     "execution_count": 9,
     "metadata": {},
     "output_type": "execute_result"
    }
   ],
   "source": [
    "tup2[2]"
   ]
  },
  {
   "cell_type": "code",
   "execution_count": 10,
   "id": "48ee8e72-83b6-4d61-b171-13b5cc096c7d",
   "metadata": {},
   "outputs": [
    {
     "data": {
      "text/plain": [
       "'e'"
      ]
     },
     "execution_count": 10,
     "metadata": {},
     "output_type": "execute_result"
    }
   ],
   "source": [
    "tup3[2][2]"
   ]
  },
  {
   "cell_type": "code",
   "execution_count": 11,
   "id": "97a0e759-aa21-480e-b1fd-c244dc7508c4",
   "metadata": {},
   "outputs": [
    {
     "data": {
      "text/plain": [
       "5.5"
      ]
     },
     "execution_count": 11,
     "metadata": {},
     "output_type": "execute_result"
    }
   ],
   "source": [
    "tup3[3][2]"
   ]
  },
  {
   "cell_type": "code",
   "execution_count": 12,
   "id": "a49dc727-2492-4dd0-924d-37a022ac3f5e",
   "metadata": {},
   "outputs": [
    {
     "data": {
      "text/plain": [
       "float"
      ]
     },
     "execution_count": 12,
     "metadata": {},
     "output_type": "execute_result"
    }
   ],
   "source": [
    "type(tup3[3][2])"
   ]
  },
  {
   "cell_type": "code",
   "execution_count": 13,
   "id": "f9f888b1-ed31-481f-bbcc-96c308c93351",
   "metadata": {},
   "outputs": [
    {
     "data": {
      "text/plain": [
       "{'David', 'John'}"
      ]
     },
     "execution_count": 13,
     "metadata": {},
     "output_type": "execute_result"
    }
   ],
   "source": [
    "tup3[-1]"
   ]
  },
  {
   "cell_type": "code",
   "execution_count": 14,
   "id": "d6d040f9-482a-49b1-b559-ba26ee93fed3",
   "metadata": {},
   "outputs": [],
   "source": [
    "mytuple = ('zero','one','two','three','four','five','six','seven')"
   ]
  },
  {
   "cell_type": "code",
   "execution_count": 15,
   "id": "223e9ceb-7450-4d91-b793-eece63118bd6",
   "metadata": {},
   "outputs": [
    {
     "data": {
      "text/plain": [
       "('zero', 'one', 'two')"
      ]
     },
     "execution_count": 15,
     "metadata": {},
     "output_type": "execute_result"
    }
   ],
   "source": [
    "mytuple[0:3]"
   ]
  },
  {
   "cell_type": "code",
   "execution_count": 16,
   "id": "f7695b0d-8508-44c6-86fd-c33387f7e1d9",
   "metadata": {},
   "outputs": [
    {
     "data": {
      "text/plain": [
       "('two', 'three', 'four')"
      ]
     },
     "execution_count": 16,
     "metadata": {},
     "output_type": "execute_result"
    }
   ],
   "source": [
    "mytuple[2:5]"
   ]
  },
  {
   "cell_type": "code",
   "execution_count": 17,
   "id": "798d5728-33e7-4db1-ad7a-7f1b19a8755b",
   "metadata": {},
   "outputs": [
    {
     "data": {
      "text/plain": [
       "('six', 'seven')"
      ]
     },
     "execution_count": 17,
     "metadata": {},
     "output_type": "execute_result"
    }
   ],
   "source": [
    "mytuple[-2:]"
   ]
  },
  {
   "cell_type": "code",
   "execution_count": 18,
   "id": "c23d0276-65a8-47dc-8650-89b26db9edb4",
   "metadata": {},
   "outputs": [
    {
     "data": {
      "text/plain": [
       "('zero', 'one', 'two', 'three', 'four', 'five', 'six', 'seven')"
      ]
     },
     "execution_count": 18,
     "metadata": {},
     "output_type": "execute_result"
    }
   ],
   "source": [
    "mytuple[:]"
   ]
  },
  {
   "cell_type": "code",
   "execution_count": 19,
   "id": "44e39700-b3cc-435b-9368-d43c2ac1b0ec",
   "metadata": {},
   "outputs": [
    {
     "ename": "TypeError",
     "evalue": "'tuple' object doesn't support item deletion",
     "output_type": "error",
     "traceback": [
      "\u001b[1;31m---------------------------------------------------------------------------\u001b[0m",
      "\u001b[1;31mTypeError\u001b[0m                                 Traceback (most recent call last)",
      "Cell \u001b[1;32mIn[19], line 1\u001b[0m\n\u001b[1;32m----> 1\u001b[0m \u001b[38;5;28;01mdel\u001b[39;00m mytuple[\u001b[38;5;241m0\u001b[39m]\n",
      "\u001b[1;31mTypeError\u001b[0m: 'tuple' object doesn't support item deletion"
     ]
    }
   ],
   "source": [
    "del mytuple[0]"
   ]
  },
  {
   "cell_type": "code",
   "execution_count": 20,
   "id": "9ab9ac63-5b04-406c-807d-957aca52420b",
   "metadata": {},
   "outputs": [
    {
     "ename": "TypeError",
     "evalue": "'tuple' object does not support item assignment",
     "output_type": "error",
     "traceback": [
      "\u001b[1;31m---------------------------------------------------------------------------\u001b[0m",
      "\u001b[1;31mTypeError\u001b[0m                                 Traceback (most recent call last)",
      "Cell \u001b[1;32mIn[20], line 1\u001b[0m\n\u001b[1;32m----> 1\u001b[0m mytuple[\u001b[38;5;241m0\u001b[39m] \u001b[38;5;241m=\u001b[39m \u001b[38;5;241m1\u001b[39m\n",
      "\u001b[1;31mTypeError\u001b[0m: 'tuple' object does not support item assignment"
     ]
    }
   ],
   "source": [
    "mytuple[0] = 1"
   ]
  },
  {
   "cell_type": "code",
   "execution_count": 21,
   "id": "84e642c9-c108-4d30-a7b3-461b1891539f",
   "metadata": {},
   "outputs": [
    {
     "name": "stdout",
     "output_type": "stream",
     "text": [
      "()\n",
      "(10, 20, 30)\n",
      "(10, 20.4, 'sheet', (2, 5, 5.5), False, [2, 4, 5], {'John', 'David'})\n",
      "('zero', 'one', 'two', 'three', 'four', 'five', 'six', 'seven')\n"
     ]
    }
   ],
   "source": [
    "print(tup1)\n",
    "print(tup2)\n",
    "print(tup3)\n",
    "print(mytuple)"
   ]
  },
  {
   "cell_type": "code",
   "execution_count": 22,
   "id": "52f1b2b8-7743-47e4-b74b-0e9a823e9108",
   "metadata": {},
   "outputs": [],
   "source": [
    "del tup1"
   ]
  },
  {
   "cell_type": "code",
   "execution_count": 23,
   "id": "6ea91aeb-31a2-4396-83b5-8d8d7076ef94",
   "metadata": {},
   "outputs": [
    {
     "ename": "NameError",
     "evalue": "name 'tup1' is not defined",
     "output_type": "error",
     "traceback": [
      "\u001b[1;31m---------------------------------------------------------------------------\u001b[0m",
      "\u001b[1;31mNameError\u001b[0m                                 Traceback (most recent call last)",
      "Cell \u001b[1;32mIn[23], line 1\u001b[0m\n\u001b[1;32m----> 1\u001b[0m \u001b[38;5;28mprint\u001b[39m(tup1)\n\u001b[0;32m      2\u001b[0m \u001b[38;5;28mprint\u001b[39m(tup2)\n\u001b[0;32m      3\u001b[0m \u001b[38;5;28mprint\u001b[39m(tup3)\n",
      "\u001b[1;31mNameError\u001b[0m: name 'tup1' is not defined"
     ]
    }
   ],
   "source": [
    "print(tup1)\n",
    "print(tup2)\n",
    "print(tup3)\n",
    "print(mytuple)"
   ]
  },
  {
   "cell_type": "code",
   "execution_count": 24,
   "id": "c1e6a73d-6ec3-4536-a4ad-911869991f8a",
   "metadata": {},
   "outputs": [
    {
     "name": "stdout",
     "output_type": "stream",
     "text": [
      "(10, 20, 30)\n",
      "(10, 20.4, 'sheet', (2, 5, 5.5), False, [2, 4, 5], {'John', 'David'})\n",
      "('zero', 'one', 'two', 'three', 'four', 'five', 'six', 'seven')\n"
     ]
    }
   ],
   "source": [
    "print(tup2)\n",
    "print(tup3)\n",
    "print(mytuple)"
   ]
  },
  {
   "cell_type": "code",
   "execution_count": 25,
   "id": "d00a6e61-2c42-4b68-a742-fb667d643d01",
   "metadata": {},
   "outputs": [
    {
     "data": {
      "text/plain": [
       "('zero', 'one', 'two', 'three', 'four', 'five', 'six', 'seven')"
      ]
     },
     "execution_count": 25,
     "metadata": {},
     "output_type": "execute_result"
    }
   ],
   "source": [
    "mytuple"
   ]
  },
  {
   "cell_type": "code",
   "execution_count": 26,
   "id": "20b98a2e-3304-4502-b0db-d3655c4c5f34",
   "metadata": {},
   "outputs": [
    {
     "name": "stdout",
     "output_type": "stream",
     "text": [
      "zero\n",
      "one\n",
      "two\n",
      "three\n",
      "four\n",
      "five\n",
      "six\n",
      "seven\n"
     ]
    }
   ],
   "source": [
    "for i in mytuple:\n",
    "    print(i)"
   ]
  },
  {
   "cell_type": "code",
   "execution_count": 28,
   "id": "1faf8e37-ad93-44b9-b228-4eb8fc2d0bbb",
   "metadata": {},
   "outputs": [
    {
     "name": "stdout",
     "output_type": "stream",
     "text": [
      "(1, 'zero')\n",
      "(2, 'one')\n",
      "(3, 'two')\n",
      "(4, 'three')\n",
      "(5, 'four')\n",
      "(6, 'five')\n",
      "(7, 'six')\n",
      "(8, 'seven')\n"
     ]
    }
   ],
   "source": [
    "for i in enumerate(mytuple,start = 1):\n",
    "    print(i)"
   ]
  },
  {
   "cell_type": "code",
   "execution_count": 29,
   "id": "6c6fc804-d176-466f-9986-8ad28290c2cd",
   "metadata": {},
   "outputs": [
    {
     "name": "stdout",
     "output_type": "stream",
     "text": [
      "(0, 'zero')\n",
      "(1, 'one')\n",
      "(2, 'two')\n",
      "(3, 'three')\n",
      "(4, 'four')\n",
      "(5, 'five')\n",
      "(6, 'six')\n",
      "(7, 'seven')\n"
     ]
    }
   ],
   "source": [
    "for i in enumerate(mytuple):\n",
    "    print(i)"
   ]
  },
  {
   "cell_type": "code",
   "execution_count": 30,
   "id": "3b17788a-9b6f-440c-8145-8dbe64117518",
   "metadata": {},
   "outputs": [
    {
     "data": {
      "text/plain": [
       "True"
      ]
     },
     "execution_count": 30,
     "metadata": {},
     "output_type": "execute_result"
    }
   ],
   "source": [
    "'one' in mytuple"
   ]
  },
  {
   "cell_type": "code",
   "execution_count": 31,
   "id": "85501f6f-a30f-4e85-bc5f-bde2c7b5e2fd",
   "metadata": {},
   "outputs": [
    {
     "data": {
      "text/plain": [
       "False"
      ]
     },
     "execution_count": 31,
     "metadata": {},
     "output_type": "execute_result"
    }
   ],
   "source": [
    "'te' in mytuple"
   ]
  },
  {
   "cell_type": "code",
   "execution_count": 32,
   "id": "7c6127e0-43c7-4812-a7ad-b04d2dca8673",
   "metadata": {},
   "outputs": [
    {
     "data": {
      "text/plain": [
       "('zero', 'one', 'two', 'three', 'four', 'five', 'six', 'seven')"
      ]
     },
     "execution_count": 32,
     "metadata": {},
     "output_type": "execute_result"
    }
   ],
   "source": [
    "mytuple"
   ]
  },
  {
   "cell_type": "code",
   "execution_count": 33,
   "id": "91160406-4499-4ea5-b13c-f6384c42295f",
   "metadata": {},
   "outputs": [
    {
     "data": {
      "text/plain": [
       "5"
      ]
     },
     "execution_count": 33,
     "metadata": {},
     "output_type": "execute_result"
    }
   ],
   "source": [
    "mytuple.index('five')"
   ]
  },
  {
   "cell_type": "code",
   "execution_count": 34,
   "id": "5bd448ba-a390-4681-b8c4-5248ce7c5c52",
   "metadata": {},
   "outputs": [
    {
     "data": {
      "text/plain": [
       "['five', 'four', 'one', 'seven', 'six', 'three', 'two', 'zero']"
      ]
     },
     "execution_count": 34,
     "metadata": {},
     "output_type": "execute_result"
    }
   ],
   "source": [
    "sorted(mytuple)"
   ]
  },
  {
   "cell_type": "code",
   "execution_count": 35,
   "id": "5ea42942-6202-4bf8-a2d2-3d944937ad29",
   "metadata": {},
   "outputs": [
    {
     "data": {
      "text/plain": [
       "['zero', 'two', 'three', 'six', 'seven', 'one', 'four', 'five']"
      ]
     },
     "execution_count": 35,
     "metadata": {},
     "output_type": "execute_result"
    }
   ],
   "source": [
    "sorted(mytuple,reverse=True)"
   ]
  },
  {
   "cell_type": "code",
   "execution_count": 36,
   "id": "08798c36-4da2-4630-93d1-d2a197fa23ac",
   "metadata": {},
   "outputs": [
    {
     "data": {
      "text/plain": [
       "('zero', 'one', 'two', 'three', 'four', 'five', 'six', 'seven')"
      ]
     },
     "execution_count": 36,
     "metadata": {},
     "output_type": "execute_result"
    }
   ],
   "source": [
    "mytuple"
   ]
  },
  {
   "cell_type": "code",
   "execution_count": 37,
   "id": "a1f8fa0c-0b41-4355-8717-d52abb4fb438",
   "metadata": {},
   "outputs": [
    {
     "ename": "AttributeError",
     "evalue": "'tuple' object has no attribute 'append'",
     "output_type": "error",
     "traceback": [
      "\u001b[1;31m---------------------------------------------------------------------------\u001b[0m",
      "\u001b[1;31mAttributeError\u001b[0m                            Traceback (most recent call last)",
      "Cell \u001b[1;32mIn[37], line 1\u001b[0m\n\u001b[1;32m----> 1\u001b[0m mytuple\u001b[38;5;241m.\u001b[39mappend(\u001b[38;5;124m'\u001b[39m\u001b[38;5;124mshee\u001b[39m\u001b[38;5;124m'\u001b[39m)\n",
      "\u001b[1;31mAttributeError\u001b[0m: 'tuple' object has no attribute 'append'"
     ]
    }
   ],
   "source": [
    "mytuple.append('shee')"
   ]
  },
  {
   "cell_type": "code",
   "execution_count": 38,
   "id": "056784c3-15bc-4bab-9452-bc718d363710",
   "metadata": {},
   "outputs": [
    {
     "data": {
      "text/plain": [
       "('zero', 'one', 'two', 'three', 'four', 'five', 'six', 'seven')"
      ]
     },
     "execution_count": 38,
     "metadata": {},
     "output_type": "execute_result"
    }
   ],
   "source": [
    "mytuple"
   ]
  },
  {
   "cell_type": "code",
   "execution_count": 39,
   "id": "92e21117-c939-4342-bc43-ee84239fe913",
   "metadata": {},
   "outputs": [
    {
     "name": "stdout",
     "output_type": "stream",
     "text": [
      "<class 'tuple'>\n"
     ]
    }
   ],
   "source": [
    "print(type(mytuple[2:3]))"
   ]
  },
  {
   "cell_type": "code",
   "execution_count": null,
   "id": "de4a3234-3607-4e9a-960b-7fc8e31b2c0c",
   "metadata": {},
   "outputs": [],
   "source": []
  }
 ],
 "metadata": {
  "kernelspec": {
   "display_name": "Python [conda env:base] *",
   "language": "python",
   "name": "conda-base-py"
  },
  "language_info": {
   "codemirror_mode": {
    "name": "ipython",
    "version": 3
   },
   "file_extension": ".py",
   "mimetype": "text/x-python",
   "name": "python",
   "nbconvert_exporter": "python",
   "pygments_lexer": "ipython3",
   "version": "3.12.7"
  }
 },
 "nbformat": 4,
 "nbformat_minor": 5
}

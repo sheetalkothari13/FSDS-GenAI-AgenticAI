{
 "cells": [
  {
   "cell_type": "markdown",
   "id": "8b5cd2f4-05f5-406c-9489-f7bf06f17385",
   "metadata": {},
   "source": [
    "# Functions"
   ]
  },
  {
   "cell_type": "code",
   "execution_count": 14,
   "id": "59c4e7e7-8513-4c39-811a-24e3667b67e1",
   "metadata": {},
   "outputs": [],
   "source": [
    "#  def function_name(formal parameters):\n",
    "#          .........\n",
    "#  function_name(actual parameters)"
   ]
  },
  {
   "cell_type": "markdown",
   "id": "1b6188c3-b6ad-4193-89b6-cba3a66e9402",
   "metadata": {},
   "source": [
    "## Positional Arguments"
   ]
  },
  {
   "cell_type": "code",
   "execution_count": 4,
   "id": "386bd9d8-63f4-4e98-9bb8-a330d6ce951a",
   "metadata": {},
   "outputs": [],
   "source": [
    "# Positions of the actual arguments should match with the positions of formal\n",
    "# how many arguments given in the formal same that many also in the actual\n",
    "# take care of the datatype mentioned for the fomal and actual, should be same"
   ]
  },
  {
   "cell_type": "code",
   "execution_count": 2,
   "id": "a09ce830-ee87-4501-a9df-fa4713cc7a22",
   "metadata": {},
   "outputs": [
    {
     "name": "stdout",
     "output_type": "stream",
     "text": [
      "shee\n",
      "20\n"
     ]
    }
   ],
   "source": [
    "def person(name,age):\n",
    "    print(name)\n",
    "    print(age)\n",
    "\n",
    "person('shee',20)"
   ]
  },
  {
   "cell_type": "code",
   "execution_count": 3,
   "id": "cbb728a9-836c-4d95-bb53-d36dbfc40567",
   "metadata": {},
   "outputs": [
    {
     "name": "stdout",
     "output_type": "stream",
     "text": [
      "name 20\n",
      "age Shee\n"
     ]
    }
   ],
   "source": [
    "def person(name,age):\n",
    "    print('name',name)\n",
    "    print('age',age)\n",
    "\n",
    "person(20,'Shee')"
   ]
  },
  {
   "cell_type": "code",
   "execution_count": 5,
   "id": "2411ef6e-6a6f-4269-bc23-27c347af4f9a",
   "metadata": {},
   "outputs": [
    {
     "ename": "TypeError",
     "evalue": "person() missing 1 required positional argument: 'age'",
     "output_type": "error",
     "traceback": [
      "\u001b[1;31m---------------------------------------------------------------------------\u001b[0m",
      "\u001b[1;31mTypeError\u001b[0m                                 Traceback (most recent call last)",
      "Cell \u001b[1;32mIn[5], line 5\u001b[0m\n\u001b[0;32m      2\u001b[0m     \u001b[38;5;28mprint\u001b[39m(name)\n\u001b[0;32m      3\u001b[0m     \u001b[38;5;28mprint\u001b[39m(age)\n\u001b[1;32m----> 5\u001b[0m person(\u001b[38;5;124m'\u001b[39m\u001b[38;5;124mshee\u001b[39m\u001b[38;5;124m'\u001b[39m)\n",
      "\u001b[1;31mTypeError\u001b[0m: person() missing 1 required positional argument: 'age'"
     ]
    }
   ],
   "source": [
    "def person(name,age):\n",
    "    print(name)\n",
    "    print(age)\n",
    "\n",
    "person('shee')"
   ]
  },
  {
   "cell_type": "code",
   "execution_count": 6,
   "id": "fe4190fd-72bd-4f30-b738-b06924181923",
   "metadata": {},
   "outputs": [
    {
     "ename": "TypeError",
     "evalue": "person() takes 2 positional arguments but 4 were given",
     "output_type": "error",
     "traceback": [
      "\u001b[1;31m---------------------------------------------------------------------------\u001b[0m",
      "\u001b[1;31mTypeError\u001b[0m                                 Traceback (most recent call last)",
      "Cell \u001b[1;32mIn[6], line 5\u001b[0m\n\u001b[0;32m      2\u001b[0m     \u001b[38;5;28mprint\u001b[39m(name)\n\u001b[0;32m      3\u001b[0m     \u001b[38;5;28mprint\u001b[39m(age)\n\u001b[1;32m----> 5\u001b[0m person(\u001b[38;5;124m'\u001b[39m\u001b[38;5;124mshee\u001b[39m\u001b[38;5;124m'\u001b[39m,\u001b[38;5;241m20\u001b[39m,\u001b[38;5;241m12\u001b[39m,\u001b[38;5;241m13\u001b[39m)\n",
      "\u001b[1;31mTypeError\u001b[0m: person() takes 2 positional arguments but 4 were given"
     ]
    }
   ],
   "source": [
    "def person(name,age):\n",
    "    print(name)\n",
    "    print(age)\n",
    "\n",
    "person('shee',20,12,13)"
   ]
  },
  {
   "cell_type": "code",
   "execution_count": 7,
   "id": "b48f719a-fffe-4b6f-b87e-85c22558ea88",
   "metadata": {},
   "outputs": [
    {
     "name": "stdout",
     "output_type": "stream",
     "text": [
      "shee\n",
      "21\n"
     ]
    }
   ],
   "source": [
    "def person(name,age):\n",
    "    print(name)\n",
    "    print(age+1)\n",
    "\n",
    "person('shee',20)"
   ]
  },
  {
   "cell_type": "code",
   "execution_count": 9,
   "id": "32dffbca-f3bf-4beb-b521-13d6a08ef89b",
   "metadata": {},
   "outputs": [
    {
     "name": "stdout",
     "output_type": "stream",
     "text": [
      "20\n"
     ]
    },
    {
     "ename": "TypeError",
     "evalue": "can only concatenate str (not \"int\") to str",
     "output_type": "error",
     "traceback": [
      "\u001b[1;31m---------------------------------------------------------------------------\u001b[0m",
      "\u001b[1;31mTypeError\u001b[0m                                 Traceback (most recent call last)",
      "Cell \u001b[1;32mIn[9], line 5\u001b[0m\n\u001b[0;32m      2\u001b[0m     \u001b[38;5;28mprint\u001b[39m(name)\n\u001b[0;32m      3\u001b[0m     \u001b[38;5;28mprint\u001b[39m(age\u001b[38;5;241m+\u001b[39m\u001b[38;5;241m1\u001b[39m)\n\u001b[1;32m----> 5\u001b[0m person(\u001b[38;5;241m20\u001b[39m,\u001b[38;5;124m'\u001b[39m\u001b[38;5;124mshee\u001b[39m\u001b[38;5;124m'\u001b[39m)\n",
      "Cell \u001b[1;32mIn[9], line 3\u001b[0m, in \u001b[0;36mperson\u001b[1;34m(name, age)\u001b[0m\n\u001b[0;32m      1\u001b[0m \u001b[38;5;28;01mdef\u001b[39;00m \u001b[38;5;21mperson\u001b[39m(name,age):\n\u001b[0;32m      2\u001b[0m     \u001b[38;5;28mprint\u001b[39m(name)\n\u001b[1;32m----> 3\u001b[0m     \u001b[38;5;28mprint\u001b[39m(age\u001b[38;5;241m+\u001b[39m\u001b[38;5;241m1\u001b[39m)\n",
      "\u001b[1;31mTypeError\u001b[0m: can only concatenate str (not \"int\") to str"
     ]
    }
   ],
   "source": [
    "def person(name,age):\n",
    "    print(name)\n",
    "    print(age+1)\n",
    "\n",
    "person(20,'shee')"
   ]
  },
  {
   "cell_type": "markdown",
   "id": "9a776fac-5597-417c-9be7-fd9a55a599ea",
   "metadata": {},
   "source": [
    "## Keyword argument"
   ]
  },
  {
   "cell_type": "code",
   "execution_count": 10,
   "id": "b7eef5c2-a1d7-4384-bc13-7358e0986cdf",
   "metadata": {},
   "outputs": [],
   "source": [
    "# give the keywords to avoid the confustion\n",
    "# fomal parameters are given as keywords in actual parameters"
   ]
  },
  {
   "cell_type": "code",
   "execution_count": 11,
   "id": "6929033b-2915-4080-ab81-38e4b6c7f986",
   "metadata": {},
   "outputs": [
    {
     "name": "stdout",
     "output_type": "stream",
     "text": [
      "shee\n",
      "20\n"
     ]
    }
   ],
   "source": [
    "def person(name,age):\n",
    "    print(name)\n",
    "    print(age)\n",
    "\n",
    "person(name='shee',age=20)"
   ]
  },
  {
   "cell_type": "code",
   "execution_count": 12,
   "id": "9d5094e3-5b2a-4435-b4cf-9b1235681251",
   "metadata": {},
   "outputs": [
    {
     "name": "stdout",
     "output_type": "stream",
     "text": [
      "she\n",
      "21\n"
     ]
    }
   ],
   "source": [
    "def person(name,age):\n",
    "    print(name)\n",
    "    print(age+1)\n",
    "\n",
    "person(age=20,name='she')"
   ]
  },
  {
   "cell_type": "markdown",
   "id": "c6f13ae6-5b69-47df-84af-be61eabb1e89",
   "metadata": {},
   "source": [
    "## Default arguments"
   ]
  },
  {
   "cell_type": "code",
   "execution_count": 13,
   "id": "edea7790-0e1f-4fd4-b6b3-1a0d2c3f5c93",
   "metadata": {},
   "outputs": [],
   "source": [
    "# set a default value in the function defining, \n",
    "# this is used when we do not define its value in the actual parameter"
   ]
  },
  {
   "cell_type": "code",
   "execution_count": 15,
   "id": "826284d1-9a77-4251-b8d2-3364fdd3fb7e",
   "metadata": {},
   "outputs": [
    {
     "name": "stdout",
     "output_type": "stream",
     "text": [
      "shee\n",
      "17\n"
     ]
    }
   ],
   "source": [
    "def person(name,age=17):\n",
    "    print(name)\n",
    "    print(age)\n",
    "\n",
    "person('shee')"
   ]
  },
  {
   "cell_type": "markdown",
   "id": "ab9916c2-091a-474c-9d1d-ddbd910b374e",
   "metadata": {},
   "source": [
    "## Variable length "
   ]
  },
  {
   "cell_type": "code",
   "execution_count": 22,
   "id": "7454dda8-6ddf-4562-b197-dfc6a3568501",
   "metadata": {},
   "outputs": [],
   "source": [
    "# include a * in the last formal parameter\n",
    "# this converts the last parameter including all the extras into a tuple\n",
    "# Each element of the tuple is accessed using a for loop"
   ]
  },
  {
   "cell_type": "code",
   "execution_count": 18,
   "id": "1d337952-7428-48de-9caf-4a527fcf4ccb",
   "metadata": {},
   "outputs": [
    {
     "ename": "TypeError",
     "evalue": "person() takes 2 positional arguments but 4 were given",
     "output_type": "error",
     "traceback": [
      "\u001b[1;31m---------------------------------------------------------------------------\u001b[0m",
      "\u001b[1;31mTypeError\u001b[0m                                 Traceback (most recent call last)",
      "Cell \u001b[1;32mIn[18], line 5\u001b[0m\n\u001b[0;32m      2\u001b[0m     \u001b[38;5;28mprint\u001b[39m(name)\n\u001b[0;32m      3\u001b[0m     \u001b[38;5;28mprint\u001b[39m(age)\n\u001b[1;32m----> 5\u001b[0m person(\u001b[38;5;124m'\u001b[39m\u001b[38;5;124mshee\u001b[39m\u001b[38;5;124m'\u001b[39m,\u001b[38;5;241m20\u001b[39m,\u001b[38;5;241m21\u001b[39m,\u001b[38;5;241m28\u001b[39m)\n",
      "\u001b[1;31mTypeError\u001b[0m: person() takes 2 positional arguments but 4 were given"
     ]
    }
   ],
   "source": [
    "def person(name,age):\n",
    "    print(name)\n",
    "    print(age)\n",
    "\n",
    "person('shee',20,21,28)"
   ]
  },
  {
   "cell_type": "code",
   "execution_count": 19,
   "id": "fd4f6b6c-b3a8-4932-a072-c4567498cadd",
   "metadata": {},
   "outputs": [
    {
     "name": "stdout",
     "output_type": "stream",
     "text": [
      "shee\n",
      "(20, 21, 28)\n"
     ]
    }
   ],
   "source": [
    "def person(name,*age):\n",
    "    print(name)\n",
    "    print(age)\n",
    "\n",
    "person('shee',20,21,28)"
   ]
  },
  {
   "cell_type": "code",
   "execution_count": 20,
   "id": "016faf06-f3c1-4026-be8f-231e263cd774",
   "metadata": {},
   "outputs": [
    {
     "name": "stdout",
     "output_type": "stream",
     "text": [
      "<class 'str'>\n",
      "<class 'tuple'>\n"
     ]
    }
   ],
   "source": [
    "def person(name,*age):\n",
    "    print(type(name))\n",
    "    print(type(age))\n",
    "\n",
    "person('shee',20,21,28)"
   ]
  },
  {
   "cell_type": "code",
   "execution_count": 21,
   "id": "3effb97a-6b8f-48e9-8f0c-eb71410e8991",
   "metadata": {},
   "outputs": [
    {
     "name": "stdout",
     "output_type": "stream",
     "text": [
      "55\n"
     ]
    }
   ],
   "source": [
    "def sum(a, *b): # 1st arg is fixed & fetch each value from the tuple & we can add them. \n",
    "    c = a   \n",
    "    for i in b:\n",
    "        c = c + i \n",
    "    print(c)\n",
    "        \n",
    "sum(5,6,7,8,9,20) "
   ]
  },
  {
   "cell_type": "markdown",
   "id": "2686742d-4999-40f8-8bdb-d8e0ccfcde2e",
   "metadata": {},
   "source": [
    "## Kwargs argument"
   ]
  },
  {
   "cell_type": "code",
   "execution_count": 23,
   "id": "4124b359-45f0-4e6d-bd34-05ac69880bc2",
   "metadata": {},
   "outputs": [],
   "source": [
    "# include ** in the last formal parameter\n",
    "# they must include key and its values which are extra in actual parameter\n",
    "# this converts the last parameter including all the extras into a dictionary"
   ]
  },
  {
   "cell_type": "code",
   "execution_count": 24,
   "id": "279fd780-0bc3-4640-bebc-47a1671dfdf9",
   "metadata": {},
   "outputs": [
    {
     "ename": "TypeError",
     "evalue": "person() got an unexpected keyword argument 'age'",
     "output_type": "error",
     "traceback": [
      "\u001b[1;31m---------------------------------------------------------------------------\u001b[0m",
      "\u001b[1;31mTypeError\u001b[0m                                 Traceback (most recent call last)",
      "Cell \u001b[1;32mIn[24], line 5\u001b[0m\n\u001b[0;32m      2\u001b[0m     \u001b[38;5;28mprint\u001b[39m(\u001b[38;5;124m'\u001b[39m\u001b[38;5;124mname\u001b[39m\u001b[38;5;124m'\u001b[39m)\n\u001b[0;32m      3\u001b[0m     \u001b[38;5;28mprint\u001b[39m(data)\n\u001b[1;32m----> 5\u001b[0m person(\u001b[38;5;124m'\u001b[39m\u001b[38;5;124mALEX\u001b[39m\u001b[38;5;124m'\u001b[39m, age \u001b[38;5;241m=\u001b[39m \u001b[38;5;241m36\u001b[39m, home_place \u001b[38;5;241m=\u001b[39m\u001b[38;5;124m'\u001b[39m\u001b[38;5;124msouthcity\u001b[39m\u001b[38;5;124m'\u001b[39m, mob \u001b[38;5;241m=\u001b[39m\u001b[38;5;241m987767\u001b[39m)\n",
      "\u001b[1;31mTypeError\u001b[0m: person() got an unexpected keyword argument 'age'"
     ]
    }
   ],
   "source": [
    "def person(name,*data):\n",
    "    print('name')\n",
    "    print(data)\n",
    "\n",
    "person('ALEX', age = 36, home_place ='southcity', mob =987767)"
   ]
  },
  {
   "cell_type": "code",
   "execution_count": 25,
   "id": "05e1ceb4-3c72-4658-af72-29ccf695680d",
   "metadata": {},
   "outputs": [
    {
     "name": "stdout",
     "output_type": "stream",
     "text": [
      "name\n",
      "{'age': 36, 'home_place': 'southcity', 'mob': 987767}\n"
     ]
    }
   ],
   "source": [
    "def person(name,**data):\n",
    "    print('name')\n",
    "    print(data)\n",
    "\n",
    "person('ALEX', age = 36, home_place ='southcity', mob =987767)"
   ]
  },
  {
   "cell_type": "markdown",
   "id": "166f4eb2-d482-4045-b7f2-486a7faff51f",
   "metadata": {},
   "source": [
    "# Global Variable and Local Variable"
   ]
  },
  {
   "cell_type": "code",
   "execution_count": 27,
   "id": "32549449-14c8-4cf3-b525-fad0e876822c",
   "metadata": {},
   "outputs": [],
   "source": [
    "# Global- Defined outside the function used for entire program\n",
    "# Local - Defined inside the function used for the function only\n",
    "\n",
    "a = 10  #-- globla variable \n",
    "def something():\n",
    "    b = 15 #local variable"
   ]
  },
  {
   "cell_type": "code",
   "execution_count": 28,
   "id": "6044cb39-aa0e-40b0-b0cb-d1f604443c90",
   "metadata": {},
   "outputs": [],
   "source": [
    "a = 10  #-- globla variable \n",
    "\n",
    "def something():\n",
    "    b = 15 #local variable\n",
    "    \n",
    "    print('in function',b)    \n",
    "    print('out function',a)  "
   ]
  },
  {
   "cell_type": "code",
   "execution_count": 30,
   "id": "fe27c1e9-4347-4220-a32b-f13d4a77a552",
   "metadata": {},
   "outputs": [
    {
     "name": "stdout",
     "output_type": "stream",
     "text": [
      "out function 10\n",
      "in function 15\n"
     ]
    }
   ],
   "source": [
    "a = 10  #-- globla variable \n",
    "\n",
    "def something():\n",
    "    b = 15 #local variable\n",
    "    print('in function',b)    \n",
    "print('out function',a)\n",
    "something()"
   ]
  },
  {
   "cell_type": "code",
   "execution_count": 33,
   "id": "8638ded2-58da-496e-aa89-549959f5b134",
   "metadata": {},
   "outputs": [
    {
     "name": "stdout",
     "output_type": "stream",
     "text": [
      "in function 10\n",
      "out function 10\n"
     ]
    }
   ],
   "source": [
    "a = 10  \n",
    "\n",
    "def something():\n",
    "    #default it consider as global variable\n",
    "    print('in function',a)\n",
    "    \n",
    "something()\n",
    "print('out function',a)"
   ]
  },
  {
   "cell_type": "code",
   "execution_count": 35,
   "id": "2b290884-8202-4362-a8de-1ca621416076",
   "metadata": {},
   "outputs": [
    {
     "name": "stdout",
     "output_type": "stream",
     "text": [
      "in function b= 15\n",
      "gloabl variable a= 10\n",
      "out function 10\n"
     ]
    }
   ],
   "source": [
    "a = 10  \n",
    "def something():\n",
    "    global a   #a is converted to local when user assigned global a \n",
    "    b = 15\n",
    "    print('in function b=',b)\n",
    "    print('gloabl variable a=', a)\n",
    "    \n",
    "something()\n",
    "print('out function',a)"
   ]
  },
  {
   "cell_type": "code",
   "execution_count": 37,
   "id": "a14ba44e-02f8-4755-84b8-89705e87cf22",
   "metadata": {},
   "outputs": [
    {
     "name": "stdout",
     "output_type": "stream",
     "text": [
      "in function b= 15\n",
      "gloabl converted to local variable a= 12\n",
      "out function 10\n"
     ]
    }
   ],
   "source": [
    "a = 10  \n",
    "def something():\n",
    "    global a   #a is converted to local when user assigned global a \n",
    "    b = 15\n",
    "    print('in function b=',b)\n",
    "    print('gloabl converted to local variable a=', a+2)\n",
    "    \n",
    "something()\n",
    "print('out function',a)"
   ]
  },
  {
   "cell_type": "code",
   "execution_count": 38,
   "id": "6513384c-4be7-4e02-b2db-48a1bfa14e6d",
   "metadata": {},
   "outputs": [
    {
     "name": "stdout",
     "output_type": "stream",
     "text": [
      "in function 19\n",
      "out function 15\n"
     ]
    }
   ],
   "source": [
    "a = 20  \n",
    "\n",
    "def something():\n",
    "    global a\n",
    "    a = 19     \n",
    "    print('in function',a)\n",
    "    a = 15\n",
    "    \n",
    "something()\n",
    "print('out function',a)"
   ]
  },
  {
   "cell_type": "code",
   "execution_count": 39,
   "id": "66f6f12b-3c82-4d1a-9a1b-25fc01708358",
   "metadata": {},
   "outputs": [
    {
     "name": "stdout",
     "output_type": "stream",
     "text": [
      "in function b= 15\n",
      "gloabl converted to local variable a= 12\n",
      "out function 12\n"
     ]
    }
   ],
   "source": [
    "a = 10  \n",
    "def something():\n",
    "    global a  # Declares that we want to modify the global variable 'y'\n",
    "    a = 5      # This now changes the global variable\n",
    "    a=a+2\n",
    "    print('gloabl converted to local variable a=', a)\n",
    "    \n",
    "something()\n",
    "print('out function',a)"
   ]
  },
  {
   "cell_type": "code",
   "execution_count": 40,
   "id": "876987ad-94af-4527-bfb7-d123b7f528c1",
   "metadata": {},
   "outputs": [
    {
     "name": "stdout",
     "output_type": "stream",
     "text": [
      "15\n"
     ]
    }
   ],
   "source": [
    "#globals() to modify global variables by changing the values in the returned dictionary.\n",
    "x = 10  # Global variable\n",
    "\n",
    "def update_x():\n",
    "    globals()['x'] += 5  # Access and modify the global variable using the dictionary\n",
    "\n",
    "update_x()\n",
    "print(x)"
   ]
  },
  {
   "cell_type": "markdown",
   "id": "3a1afcdd-deaa-4bce-ace3-3c66ca13adac",
   "metadata": {},
   "source": [
    "# Global\n",
    "The global keyword is used to change the value of a global variable from within a function. Without it, any assignment to a variable inside a function creates a new local variable, which doesn't affect the global one\n",
    "\n",
    "# Globals\n",
    "The globals() function returns a dictionary that represents the global symbol table. You can use this dictionary to inspect, and even modify, all global variables."
   ]
  },
  {
   "cell_type": "code",
   "execution_count": null,
   "id": "72cf60bb-2056-42f3-8d0b-fd2fceaae156",
   "metadata": {},
   "outputs": [],
   "source": []
  }
 ],
 "metadata": {
  "kernelspec": {
   "display_name": "Python [conda env:base] *",
   "language": "python",
   "name": "conda-base-py"
  },
  "language_info": {
   "codemirror_mode": {
    "name": "ipython",
    "version": 3
   },
   "file_extension": ".py",
   "mimetype": "text/x-python",
   "name": "python",
   "nbconvert_exporter": "python",
   "pygments_lexer": "ipython3",
   "version": "3.12.7"
  }
 },
 "nbformat": 4,
 "nbformat_minor": 5
}

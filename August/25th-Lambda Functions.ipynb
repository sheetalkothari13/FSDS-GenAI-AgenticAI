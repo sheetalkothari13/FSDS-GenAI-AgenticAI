{
 "cells": [
  {
   "cell_type": "markdown",
   "id": "9b2af219-331b-4f89-b6d3-e7548e01cf47",
   "metadata": {},
   "source": [
    "# Python Lambda Functions"
   ]
  },
  {
   "cell_type": "markdown",
   "id": "2687bdee-c0ef-48f0-ba71-dd7702318a02",
   "metadata": {},
   "source": [
    "#### Python lambda functions, also known as anonymous functions, are small, single-expression functions that don't have a name. They're defined using the lambda keyword and are useful for short, throwaway functions that are only needed for a single purpose."
   ]
  },
  {
   "cell_type": "markdown",
   "id": "3b80614f-5801-4ad5-a9f7-0ae7a59c5779",
   "metadata": {},
   "source": [
    "## lambda arguments: expression"
   ]
  },
  {
   "cell_type": "markdown",
   "id": "5e4b7252-c406-4fd8-8066-a38ef95bf3fd",
   "metadata": {},
   "source": [
    "* they are not assigned a name in the same way def functions are.\n",
    "* The most significant limitation is that a lambda function must be a single expression that evaluates to a return value. It implicitly returns the result of the expression."
   ]
  },
  {
   "cell_type": "code",
   "execution_count": 1,
   "id": "2c245567-35bd-4349-9cf8-daa4343ba2a9",
   "metadata": {},
   "outputs": [
    {
     "data": {
      "text/plain": [
       "25"
      ]
     },
     "execution_count": 1,
     "metadata": {},
     "output_type": "execute_result"
    }
   ],
   "source": [
    "r = lambda a:a*a\n",
    "result = r(5)\n",
    "result"
   ]
  },
  {
   "cell_type": "code",
   "execution_count": 4,
   "id": "3d86f6f1-ceaa-4aae-8751-33d81d613d8d",
   "metadata": {},
   "outputs": [
    {
     "data": {
      "text/plain": [
       "30"
      ]
     },
     "execution_count": 4,
     "metadata": {},
     "output_type": "execute_result"
    }
   ],
   "source": [
    "r = lambda a,b:a*b\n",
    "result = r(5,6)\n",
    "result"
   ]
  },
  {
   "cell_type": "markdown",
   "id": "38d2fab9-56e4-46a6-a4de-268f54e34c71",
   "metadata": {},
   "source": [
    "* sorted(): A lambda can specify a custom sorting key\n",
    "* map(): Applies a function to every item in an iterable.\n",
    "* filter(): Constructs an iterator from elements of an iterable for which a function returns true."
   ]
  },
  {
   "cell_type": "code",
   "execution_count": null,
   "id": "4ac8bc63-8460-4afe-8e24-f490350fa772",
   "metadata": {},
   "outputs": [],
   "source": []
  }
 ],
 "metadata": {
  "kernelspec": {
   "display_name": "Python [conda env:base] *",
   "language": "python",
   "name": "conda-base-py"
  },
  "language_info": {
   "codemirror_mode": {
    "name": "ipython",
    "version": 3
   },
   "file_extension": ".py",
   "mimetype": "text/x-python",
   "name": "python",
   "nbconvert_exporter": "python",
   "pygments_lexer": "ipython3",
   "version": "3.12.7"
  }
 },
 "nbformat": 4,
 "nbformat_minor": 5
}

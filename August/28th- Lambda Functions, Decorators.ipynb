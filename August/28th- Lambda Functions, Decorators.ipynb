{
 "cells": [
  {
   "cell_type": "markdown",
   "id": "c32752c6-4766-4887-8701-b99f775b3b8e",
   "metadata": {},
   "source": [
    "# Lambda Functions"
   ]
  },
  {
   "cell_type": "markdown",
   "id": "625812ed-d212-4a07-9eab-352e8dd59e1f",
   "metadata": {},
   "source": [
    "## filter()\n",
    "* filters items based on a condition."
   ]
  },
  {
   "cell_type": "code",
   "execution_count": 2,
   "id": "9b33a095-c818-4d6d-8c05-ba4542fe4612",
   "metadata": {},
   "outputs": [
    {
     "data": {
      "text/plain": [
       "[4, 12, 36]"
      ]
     },
     "execution_count": 2,
     "metadata": {},
     "output_type": "execute_result"
    }
   ],
   "source": [
    "nums = [4,5,12,11,3,7,19,36]\n",
    "evens = list(filter(lambda n:n%2==0,nums))\n",
    "evens"
   ]
  },
  {
   "cell_type": "code",
   "execution_count": 3,
   "id": "e173110e-6ff2-4b3a-a7bc-6cb4b61cb3ca",
   "metadata": {},
   "outputs": [
    {
     "name": "stdout",
     "output_type": "stream",
     "text": [
      "[5, 11, 3, 7, 19]\n"
     ]
    }
   ],
   "source": [
    "odd = list(filter(lambda n : n%2 !=0, nums))\n",
    "print(odd) "
   ]
  },
  {
   "cell_type": "markdown",
   "id": "fa718835-6d3e-473f-ab71-b736db1bca1d",
   "metadata": {},
   "source": [
    "## map()\n",
    "* applies a function to each item."
   ]
  },
  {
   "cell_type": "code",
   "execution_count": 4,
   "id": "3640f62f-7ec3-49a2-baec-3eba86ca6813",
   "metadata": {},
   "outputs": [
    {
     "name": "stdout",
     "output_type": "stream",
     "text": [
      "[3, 2, 6, 8, 4, 6, 2, 9]\n",
      "[2, 6, 8, 4, 6, 2]\n",
      "[4, 12, 16, 8, 12, 4]\n",
      "[0, 4, 6, 2, 4, 0]\n"
     ]
    }
   ],
   "source": [
    "nums = [3,2,6,8,4,6,2,9]\n",
    "evens = list(filter(lambda n:n%2==0, nums))\n",
    "double = list(map(lambda n : n*2, evens))\n",
    "double_ = list(map(lambda n : n-2, evens))\n",
    "print(nums)\n",
    "print(evens)\n",
    "print(double)  \n",
    "print(double_)"
   ]
  },
  {
   "cell_type": "markdown",
   "id": "e99f1151-3d40-4435-b729-3f90efcf775c",
   "metadata": {},
   "source": [
    "## reduce()\n",
    "* repeatedly applies a function to reduce the list to a single value."
   ]
  },
  {
   "cell_type": "code",
   "execution_count": 5,
   "id": "d2a92264-0471-4957-b3bc-60990762ab05",
   "metadata": {},
   "outputs": [
    {
     "name": "stdout",
     "output_type": "stream",
     "text": [
      "[2, 6, 8, 4, 6, 2]\n",
      "[4, 12, 16, 8, 12, 4]\n",
      "56\n"
     ]
    }
   ],
   "source": [
    "from functools import reduce\n",
    "\n",
    "nums = [3,2,6,8,4,6,2,9]\n",
    "\n",
    "evens = list(filter(lambda n: n%2 ==0 , nums))\n",
    "double = list(map(lambda n : n*2, evens))\n",
    "sums = (reduce(lambda a,b : a + b, double))\n",
    "\n",
    "print(evens)\n",
    "print(double)     \n",
    "print(sums) "
   ]
  },
  {
   "cell_type": "markdown",
   "id": "edcc94a7-e203-4d6d-9461-87aaea3e919c",
   "metadata": {},
   "source": [
    "* lambda → creates anonymous functions.\n",
    "\n",
    "* filter() → keeps elements that match a condition.\n",
    "\n",
    "* map() → transforms each element.\n",
    "\n",
    "* reduce() → combines all elements into one value."
   ]
  },
  {
   "cell_type": "markdown",
   "id": "c53789b4-c976-43dc-8b67-2aa5f632cca1",
   "metadata": {},
   "source": [
    "# Python Decorators"
   ]
  },
  {
   "cell_type": "markdown",
   "id": "1c541eb2-f5c8-49d1-ad38-e294e0feeabe",
   "metadata": {},
   "source": [
    "* A decorator is a special function that adds extra functionality to another function without changing its code.\n",
    "* Decorators wrap a function inside another function (wrapper) to extend its behavior.\n",
    "*  being a developer you need to swap the value without touching the existing function \n",
    "* thats the reason DECORATOR comes into the picture\n",
    "* using the help of DECORATOR you can add the extra feature in the existing function \n",
    "* lets create a new function for decorator \n",
    "* we can write functin inside the funtion thats why we called as python is functional programing language"
   ]
  },
  {
   "cell_type": "code",
   "execution_count": 6,
   "id": "5aa8ddea-8795-432f-9a14-d56c577a2464",
   "metadata": {},
   "outputs": [
    {
     "name": "stdout",
     "output_type": "stream",
     "text": [
      "2.0\n"
     ]
    }
   ],
   "source": [
    "def div(a,b):\n",
    "    print(a / b)\n",
    "\n",
    "def div_decorator(func):\n",
    "    def inner(a,b):\n",
    "        if a<b:\n",
    "            a,b = b,a\n",
    "        return func(a,b)\n",
    "    return inner\n",
    "\n",
    "div = div_decorator(div)\n",
    "\n",
    "div(2,4)     "
   ]
  },
  {
   "cell_type": "markdown",
   "id": "fd7c147c-b08f-485f-aa1f-16cd9eca4ab0",
   "metadata": {},
   "source": [
    "* div_decorator takes a function (func) as an argument.\n",
    "* Inside it, another function inner is defined:\n",
    "* It checks if a < b.\n",
    "* If yes → swap values (so that a is always bigger).\n",
    "* Then call the original function func(a,b).\n",
    "* Finally, it returns the inner function.\n",
    "\n",
    "#### This is how a decorator works: it wraps extra logic around another function."
   ]
  },
  {
   "cell_type": "code",
   "execution_count": 7,
   "id": "1fabab95-f807-4070-aa7b-80ce49d912c1",
   "metadata": {},
   "outputs": [
    {
     "name": "stdout",
     "output_type": "stream",
     "text": [
      "Something is happening before the function is called.\n",
      "Hello!\n",
      "Something is happening after the function is called.\n"
     ]
    }
   ],
   "source": [
    "def my_decorator(func):\n",
    "    def wrapper():\n",
    "        print(\"Something is happening before the function is called.\")\n",
    "        func()\n",
    "        print(\"Something is happening after the function is called.\")\n",
    "    return wrapper\n",
    "\n",
    "@my_decorator\n",
    "def say_hello():\n",
    "    print(\"Hello!\")\n",
    "\n",
    "say_hello()"
   ]
  },
  {
   "cell_type": "markdown",
   "id": "87e43fc4-1b35-40bc-a12b-509601ad0e25",
   "metadata": {},
   "source": [
    "* my_decorator is a decorator function.\n",
    "* It takes another function func as input.\n",
    "* Inside, it defines wrapper():\n",
    "* Prints a message before calling the original function.\n",
    "* * Calls the original function func().\n",
    "* * Prints a message after calling it.\n",
    "* * Finally, it returns the wrapper function.\n",
    "* So my_decorator adds extra behavior (before & after) around func."
   ]
  },
  {
   "cell_type": "code",
   "execution_count": null,
   "id": "e0ede845-60a1-4eee-8296-e46cfbca3cae",
   "metadata": {},
   "outputs": [],
   "source": []
  }
 ],
 "metadata": {
  "kernelspec": {
   "display_name": "Python [conda env:base] *",
   "language": "python",
   "name": "conda-base-py"
  },
  "language_info": {
   "codemirror_mode": {
    "name": "ipython",
    "version": 3
   },
   "file_extension": ".py",
   "mimetype": "text/x-python",
   "name": "python",
   "nbconvert_exporter": "python",
   "pygments_lexer": "ipython3",
   "version": "3.12.7"
  }
 },
 "nbformat": 4,
 "nbformat_minor": 5
}

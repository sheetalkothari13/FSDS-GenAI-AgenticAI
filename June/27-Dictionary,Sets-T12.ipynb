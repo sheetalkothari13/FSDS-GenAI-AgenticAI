{
 "cells": [
  {
   "cell_type": "markdown",
   "id": "6d2b22e8-160e-4435-8d90-5a0ffbb7661e",
   "metadata": {},
   "source": [
    "## Set Operations"
   ]
  },
  {
   "cell_type": "code",
   "execution_count": 1,
   "id": "0a0b06ab-957e-4d59-bf41-30efb4892a6b",
   "metadata": {},
   "outputs": [],
   "source": [
    "a = {22,44,13,535,88,100}\n",
    "b = {22,44,100,56,190,400}\n",
    "c = {2,13,320,141,100}"
   ]
  },
  {
   "cell_type": "code",
   "execution_count": 2,
   "id": "cc0d4cba-0904-4433-b40a-073b9803e513",
   "metadata": {},
   "outputs": [
    {
     "data": {
      "text/plain": [
       "{13, 22, 44, 56, 88, 100, 190, 400, 535}"
      ]
     },
     "execution_count": 2,
     "metadata": {},
     "output_type": "execute_result"
    }
   ],
   "source": [
    "a|b     #union"
   ]
  },
  {
   "cell_type": "code",
   "execution_count": 3,
   "id": "0e9801de-570f-4d5a-ba8d-75fea19e5265",
   "metadata": {},
   "outputs": [
    {
     "data": {
      "text/plain": [
       "{2, 13, 22, 44, 56, 100, 141, 190, 320, 400}"
      ]
     },
     "execution_count": 3,
     "metadata": {},
     "output_type": "execute_result"
    }
   ],
   "source": [
    "b.union(c)"
   ]
  },
  {
   "cell_type": "code",
   "execution_count": 4,
   "id": "408855e1-586e-40f1-98c9-7a2f14542d18",
   "metadata": {},
   "outputs": [
    {
     "data": {
      "text/plain": [
       "{2, 13, 22, 44, 88, 100, 141, 320, 535}"
      ]
     },
     "execution_count": 4,
     "metadata": {},
     "output_type": "execute_result"
    }
   ],
   "source": [
    "a|c"
   ]
  },
  {
   "cell_type": "code",
   "execution_count": 5,
   "id": "d8d1881a-bb0f-4bca-85e6-b632f1b1b8a3",
   "metadata": {},
   "outputs": [
    {
     "data": {
      "text/plain": [
       "{22, 44, 100}"
      ]
     },
     "execution_count": 5,
     "metadata": {},
     "output_type": "execute_result"
    }
   ],
   "source": [
    "a & b     #intersection"
   ]
  },
  {
   "cell_type": "code",
   "execution_count": 6,
   "id": "ce871d80-880f-4838-9721-8094ac298ac1",
   "metadata": {},
   "outputs": [
    {
     "data": {
      "text/plain": [
       "{100}"
      ]
     },
     "execution_count": 6,
     "metadata": {},
     "output_type": "execute_result"
    }
   ],
   "source": [
    "b.intersection(c)"
   ]
  },
  {
   "cell_type": "code",
   "execution_count": 7,
   "id": "dfc408a9-cfe7-4a5b-a8ce-345c84d53574",
   "metadata": {},
   "outputs": [
    {
     "data": {
      "text/plain": [
       "{13, 100}"
      ]
     },
     "execution_count": 7,
     "metadata": {},
     "output_type": "execute_result"
    }
   ],
   "source": [
    "a & c"
   ]
  },
  {
   "cell_type": "code",
   "execution_count": 8,
   "id": "45b1b997-69f5-47a7-8020-6d1b3ab30724",
   "metadata": {},
   "outputs": [
    {
     "name": "stdout",
     "output_type": "stream",
     "text": [
      "{100, 22, 535, 88, 44, 13}\n",
      "{400, 100, 22, 56, 44, 190}\n",
      "{320, 2, 100, 141, 13}\n"
     ]
    }
   ],
   "source": [
    "print(a)\n",
    "print(b)\n",
    "print(c)"
   ]
  },
  {
   "cell_type": "code",
   "execution_count": 9,
   "id": "90fe7eca-c744-4007-a692-d8bfe718d1f3",
   "metadata": {},
   "outputs": [
    {
     "data": {
      "text/plain": [
       "{13, 88, 535}"
      ]
     },
     "execution_count": 9,
     "metadata": {},
     "output_type": "execute_result"
    }
   ],
   "source": [
    "a - b      #difference"
   ]
  },
  {
   "cell_type": "code",
   "execution_count": 10,
   "id": "2379c6cd-575d-4415-b7da-49518dd82565",
   "metadata": {},
   "outputs": [
    {
     "data": {
      "text/plain": [
       "{22, 44, 88, 535}"
      ]
     },
     "execution_count": 10,
     "metadata": {},
     "output_type": "execute_result"
    }
   ],
   "source": [
    "a - c"
   ]
  },
  {
   "cell_type": "code",
   "execution_count": 11,
   "id": "6dd1f8c2-4fe0-470e-bf08-bdea00086bd8",
   "metadata": {},
   "outputs": [
    {
     "data": {
      "text/plain": [
       "{22, 44, 88, 535}"
      ]
     },
     "execution_count": 11,
     "metadata": {},
     "output_type": "execute_result"
    }
   ],
   "source": [
    "a.difference(c)"
   ]
  },
  {
   "cell_type": "code",
   "execution_count": 12,
   "id": "ffa1bafb-c276-4b46-97bb-ec8627dfc35f",
   "metadata": {},
   "outputs": [
    {
     "data": {
      "text/plain": [
       "{22, 44, 56, 190, 400}"
      ]
     },
     "execution_count": 12,
     "metadata": {},
     "output_type": "execute_result"
    }
   ],
   "source": [
    "b.difference(c)"
   ]
  },
  {
   "cell_type": "code",
   "execution_count": 13,
   "id": "1cf19a46-fcd7-4e2a-aa51-55e6a7cd8743",
   "metadata": {},
   "outputs": [
    {
     "data": {
      "text/plain": [
       "{13, 56, 88, 190, 400, 535}"
      ]
     },
     "execution_count": 13,
     "metadata": {},
     "output_type": "execute_result"
    }
   ],
   "source": [
    "a.symmetric_difference(b)"
   ]
  },
  {
   "cell_type": "code",
   "execution_count": 14,
   "id": "11bfd5bd-d57c-4077-a4df-9ff02fc92712",
   "metadata": {},
   "outputs": [
    {
     "data": {
      "text/plain": [
       "{13, 56, 88, 190, 400, 535}"
      ]
     },
     "execution_count": 14,
     "metadata": {},
     "output_type": "execute_result"
    }
   ],
   "source": [
    "a^b"
   ]
  },
  {
   "cell_type": "code",
   "execution_count": 15,
   "id": "7abb598e-727f-439d-ad88-9075f256384e",
   "metadata": {},
   "outputs": [
    {
     "data": {
      "text/plain": [
       "{2, 22, 44, 88, 141, 320, 535}"
      ]
     },
     "execution_count": 15,
     "metadata": {},
     "output_type": "execute_result"
    }
   ],
   "source": [
    "a^c"
   ]
  },
  {
   "cell_type": "code",
   "execution_count": 16,
   "id": "0407aa15-aeec-4e93-87e7-134fadf2b761",
   "metadata": {},
   "outputs": [],
   "source": [
    "a.symmetric_difference_update(b)"
   ]
  },
  {
   "cell_type": "code",
   "execution_count": 17,
   "id": "295d5195-e9da-4295-9014-4faa64092b4c",
   "metadata": {},
   "outputs": [
    {
     "data": {
      "text/plain": [
       "{13, 56, 88, 190, 400, 535}"
      ]
     },
     "execution_count": 17,
     "metadata": {},
     "output_type": "execute_result"
    }
   ],
   "source": [
    "a"
   ]
  },
  {
   "cell_type": "code",
   "execution_count": 18,
   "id": "f6f835ab-e3d1-4238-a7c2-dafe65308734",
   "metadata": {},
   "outputs": [
    {
     "name": "stdout",
     "output_type": "stream",
     "text": [
      "{13, 400, 535, 88, 56, 190}\n",
      "{400, 100, 22, 56, 44, 190}\n",
      "{320, 2, 100, 141, 13}\n"
     ]
    }
   ],
   "source": [
    "print(a)\n",
    "print(b)\n",
    "print(c)"
   ]
  },
  {
   "cell_type": "code",
   "execution_count": 23,
   "id": "1b702b1b-89e4-427c-9f94-6ca788002f45",
   "metadata": {},
   "outputs": [],
   "source": [
    "A = {1,2,3,4,5,6,7,8,9} \n",
    "B = {3,4,5,6,7,8} \n",
    "C = {10,20,30,40} "
   ]
  },
  {
   "cell_type": "code",
   "execution_count": 24,
   "id": "631ae827-f310-4ecd-9f01-63b460f84401",
   "metadata": {},
   "outputs": [
    {
     "data": {
      "text/plain": [
       "True"
      ]
     },
     "execution_count": 24,
     "metadata": {},
     "output_type": "execute_result"
    }
   ],
   "source": [
    "B.issubset(A)"
   ]
  },
  {
   "cell_type": "code",
   "execution_count": 25,
   "id": "0d65c1b4-97af-463e-8883-9c970bd61b56",
   "metadata": {},
   "outputs": [
    {
     "data": {
      "text/plain": [
       "True"
      ]
     },
     "execution_count": 25,
     "metadata": {},
     "output_type": "execute_result"
    }
   ],
   "source": [
    "A.issuperset(B)"
   ]
  },
  {
   "cell_type": "code",
   "execution_count": 26,
   "id": "fabad8f0-43bc-45a8-ad50-a09b8b0abfc9",
   "metadata": {},
   "outputs": [
    {
     "data": {
      "text/plain": [
       "False"
      ]
     },
     "execution_count": 26,
     "metadata": {},
     "output_type": "execute_result"
    }
   ],
   "source": [
    "A.issuperset(C)"
   ]
  },
  {
   "cell_type": "code",
   "execution_count": 27,
   "id": "0fb0bc21-05c6-4537-bb2d-75843353311c",
   "metadata": {},
   "outputs": [
    {
     "data": {
      "text/plain": [
       "False"
      ]
     },
     "execution_count": 27,
     "metadata": {},
     "output_type": "execute_result"
    }
   ],
   "source": [
    "A.isdisjoint(B)"
   ]
  },
  {
   "cell_type": "code",
   "execution_count": 28,
   "id": "19f38f9c-10fd-46d2-986e-060d6b280ca7",
   "metadata": {},
   "outputs": [
    {
     "data": {
      "text/plain": [
       "True"
      ]
     },
     "execution_count": 28,
     "metadata": {},
     "output_type": "execute_result"
    }
   ],
   "source": [
    "A.isdisjoint(C)"
   ]
  },
  {
   "cell_type": "code",
   "execution_count": 29,
   "id": "e4b25d3c-8fb4-404d-9a45-0ee0e0db16f7",
   "metadata": {},
   "outputs": [
    {
     "data": {
      "text/plain": [
       "45"
      ]
     },
     "execution_count": 29,
     "metadata": {},
     "output_type": "execute_result"
    }
   ],
   "source": [
    "sum(A)"
   ]
  },
  {
   "cell_type": "code",
   "execution_count": 30,
   "id": "5c906c6a-975d-4c84-8453-8d9343a02efe",
   "metadata": {},
   "outputs": [
    {
     "data": {
      "text/plain": [
       "9"
      ]
     },
     "execution_count": 30,
     "metadata": {},
     "output_type": "execute_result"
    }
   ],
   "source": [
    "max(A)"
   ]
  },
  {
   "cell_type": "code",
   "execution_count": 31,
   "id": "150108d7-0e46-4cce-a6ec-6012efe370ee",
   "metadata": {},
   "outputs": [
    {
     "data": {
      "text/plain": [
       "1"
      ]
     },
     "execution_count": 31,
     "metadata": {},
     "output_type": "execute_result"
    }
   ],
   "source": [
    "min(A)"
   ]
  },
  {
   "cell_type": "code",
   "execution_count": 32,
   "id": "77b04d65-a6f0-469e-8c26-b82d97b7da13",
   "metadata": {},
   "outputs": [
    {
     "data": {
      "text/plain": [
       "9"
      ]
     },
     "execution_count": 32,
     "metadata": {},
     "output_type": "execute_result"
    }
   ],
   "source": [
    "len(A)"
   ]
  },
  {
   "cell_type": "code",
   "execution_count": 33,
   "id": "2b3d8ec3-c139-4be6-a42e-5310cf8c0dc9",
   "metadata": {},
   "outputs": [
    {
     "data": {
      "text/plain": [
       "[1, 2, 3, 4, 5, 6, 7, 8, 9]"
      ]
     },
     "execution_count": 33,
     "metadata": {},
     "output_type": "execute_result"
    }
   ],
   "source": [
    "sorted(A)"
   ]
  },
  {
   "cell_type": "code",
   "execution_count": 34,
   "id": "dde0df4f-a8c1-4d20-a0e2-1db7d4c701b6",
   "metadata": {},
   "outputs": [
    {
     "data": {
      "text/plain": [
       "[(0, 1), (1, 2), (2, 3), (3, 4), (4, 5), (5, 6), (6, 7), (7, 8), (8, 9)]"
      ]
     },
     "execution_count": 34,
     "metadata": {},
     "output_type": "execute_result"
    }
   ],
   "source": [
    "list(enumerate(A))"
   ]
  },
  {
   "cell_type": "code",
   "execution_count": 35,
   "id": "64f59715-da2d-4c33-9193-23c013c70418",
   "metadata": {},
   "outputs": [
    {
     "data": {
      "text/plain": [
       "[9, 8, 7, 6, 5, 4, 3, 2, 1]"
      ]
     },
     "execution_count": 35,
     "metadata": {},
     "output_type": "execute_result"
    }
   ],
   "source": [
    "D =sorted(A,reverse=True)\n",
    "D"
   ]
  },
  {
   "cell_type": "code",
   "execution_count": 36,
   "id": "9c41d001-c3f4-4cc5-9ed5-727b91d9efcd",
   "metadata": {},
   "outputs": [
    {
     "data": {
      "text/plain": [
       "[1, 2, 3, 4, 5, 6, 7, 8, 9]"
      ]
     },
     "execution_count": 36,
     "metadata": {},
     "output_type": "execute_result"
    }
   ],
   "source": [
    "sorted(D)"
   ]
  },
  {
   "cell_type": "markdown",
   "id": "d3d45c8d-0edf-4b64-810c-6681592c38dc",
   "metadata": {},
   "source": [
    "# Dictionary"
   ]
  },
  {
   "cell_type": "code",
   "execution_count": 37,
   "id": "776e1baf-471c-46cd-a225-5202ee1c64db",
   "metadata": {},
   "outputs": [
    {
     "data": {
      "text/plain": [
       "{}"
      ]
     },
     "execution_count": 37,
     "metadata": {},
     "output_type": "execute_result"
    }
   ],
   "source": [
    "mydict = dict()\n",
    "mydict"
   ]
  },
  {
   "cell_type": "code",
   "execution_count": 38,
   "id": "44a33ba7-aa83-4f7b-a601-db57964a4635",
   "metadata": {},
   "outputs": [
    {
     "data": {
      "text/plain": [
       "{1: 'hello', 2: 'from', 3: 'three'}"
      ]
     },
     "execution_count": 38,
     "metadata": {},
     "output_type": "execute_result"
    }
   ],
   "source": [
    "mydict = {1:'hello' , 2:'from' , 3:'three'}\n",
    "mydict"
   ]
  },
  {
   "cell_type": "code",
   "execution_count": 39,
   "id": "ec8b7113-1a5c-4d5f-b2a9-8b230add687b",
   "metadata": {},
   "outputs": [
    {
     "data": {
      "text/plain": [
       "{1: 'one', 2: 'two', 3: 'three'}"
      ]
     },
     "execution_count": 39,
     "metadata": {},
     "output_type": "execute_result"
    }
   ],
   "source": [
    "mydict = dict({1:'one' , 2:'two' , 3:'three'})\n",
    "mydict"
   ]
  },
  {
   "cell_type": "code",
   "execution_count": 40,
   "id": "693283c1-e6b7-4fa4-b089-75c7b67c9c81",
   "metadata": {},
   "outputs": [
    {
     "data": {
      "text/plain": [
       "{1: 'one', 2: 'two', 3: 'three'}"
      ]
     },
     "execution_count": 40,
     "metadata": {},
     "output_type": "execute_result"
    }
   ],
   "source": [
    "mydict"
   ]
  },
  {
   "cell_type": "code",
   "execution_count": 41,
   "id": "4bd3b647-58d4-4227-b0ee-bbe5791e6563",
   "metadata": {},
   "outputs": [
    {
     "data": {
      "text/plain": [
       "dict_keys([1, 2, 3])"
      ]
     },
     "execution_count": 41,
     "metadata": {},
     "output_type": "execute_result"
    }
   ],
   "source": [
    "mydict.keys()"
   ]
  },
  {
   "cell_type": "code",
   "execution_count": 42,
   "id": "e97861a6-7e5e-407d-bb9d-8160642cf1ab",
   "metadata": {},
   "outputs": [
    {
     "data": {
      "text/plain": [
       "dict_values(['one', 'two', 'three'])"
      ]
     },
     "execution_count": 42,
     "metadata": {},
     "output_type": "execute_result"
    }
   ],
   "source": [
    "mydict.values()"
   ]
  },
  {
   "cell_type": "code",
   "execution_count": 44,
   "id": "768f4969-399a-4bac-bdc2-310842c59afb",
   "metadata": {},
   "outputs": [
    {
     "data": {
      "text/plain": [
       "dict_items([(1, 'one'), (2, 'two'), (3, 'three')])"
      ]
     },
     "execution_count": 44,
     "metadata": {},
     "output_type": "execute_result"
    }
   ],
   "source": [
    "mydict.items()"
   ]
  },
  {
   "cell_type": "code",
   "execution_count": 45,
   "id": "e8f94582-8fbc-4366-9e0f-8c279fcb94d0",
   "metadata": {},
   "outputs": [
    {
     "data": {
      "text/plain": [
       "{1: 'one', 2: 'two', 'A': ['asif', 'john', 'Maria']}"
      ]
     },
     "execution_count": 45,
     "metadata": {},
     "output_type": "execute_result"
    }
   ],
   "source": [
    "mydict = {1:'one' , 2:'two' , 'A':['asif' , 'john' , 'Maria']}\n",
    "mydict"
   ]
  },
  {
   "cell_type": "code",
   "execution_count": 46,
   "id": "e1bffaf6-04ae-4568-b7d7-ab2fc669d9ec",
   "metadata": {},
   "outputs": [
    {
     "data": {
      "text/plain": [
       "dict_values(['one', 'two', ['asif', 'john', 'Maria']])"
      ]
     },
     "execution_count": 46,
     "metadata": {},
     "output_type": "execute_result"
    }
   ],
   "source": [
    "mydict.values()"
   ]
  },
  {
   "cell_type": "code",
   "execution_count": 47,
   "id": "f31ea896-290f-44b3-8497-d637a3453b40",
   "metadata": {},
   "outputs": [
    {
     "data": {
      "text/plain": [
       "dict_keys([1, 2, 'A'])"
      ]
     },
     "execution_count": 47,
     "metadata": {},
     "output_type": "execute_result"
    }
   ],
   "source": [
    "mydict.keys()"
   ]
  },
  {
   "cell_type": "code",
   "execution_count": 48,
   "id": "71999b69-d88c-4946-9afe-c6977ca0b29d",
   "metadata": {},
   "outputs": [
    {
     "data": {
      "text/plain": [
       "{1: 'one',\n",
       " 2: 'two',\n",
       " 'A': ['asif', 'john', 'Maria'],\n",
       " 'B': ('Bat', 'cat', 'hat')}"
      ]
     },
     "execution_count": 48,
     "metadata": {},
     "output_type": "execute_result"
    }
   ],
   "source": [
    "mydict = {1:'one' , 2:'two' , 'A':['asif' , 'john' , 'Maria'], 'B':('Bat' , 'cat' , 'hat')}\n",
    "mydict "
   ]
  },
  {
   "cell_type": "code",
   "execution_count": 51,
   "id": "2751536f-c770-470d-82fb-083279b4e6be",
   "metadata": {},
   "outputs": [
    {
     "data": {
      "text/plain": [
       "{'d': None, 'a': None, 'c': None, 'b': None}"
      ]
     },
     "execution_count": 51,
     "metadata": {},
     "output_type": "execute_result"
    }
   ],
   "source": [
    "keys = {'a' , 'b' , 'c' , 'd'} \n",
    "mydict3 = dict.fromkeys(keys) # Create a dictionary from a sequence of keys \n",
    "mydict3 "
   ]
  },
  {
   "cell_type": "code",
   "execution_count": 52,
   "id": "99b59b55-f3bb-4f34-8502-eac65141b301",
   "metadata": {},
   "outputs": [
    {
     "data": {
      "text/plain": [
       "{'d': 25, 'a': 25, 'c': 25, 'b': 25}"
      ]
     },
     "execution_count": 52,
     "metadata": {},
     "output_type": "execute_result"
    }
   ],
   "source": [
    "keys = {'a' , 'b' , 'c' , 'd'} \n",
    "value = 25 \n",
    "mydict3 = dict.fromkeys(keys , value) # Create a dictionary from a sequence of \n",
    "mydict3 "
   ]
  },
  {
   "cell_type": "code",
   "execution_count": 54,
   "id": "17c4339c-b680-40bd-aec6-e976fdd41c91",
   "metadata": {},
   "outputs": [
    {
     "data": {
      "text/plain": [
       "{'d': [25, 20, 30], 'a': [25, 20, 30], 'c': [25, 20, 30], 'b': [25, 20, 30]}"
      ]
     },
     "execution_count": 54,
     "metadata": {},
     "output_type": "execute_result"
    }
   ],
   "source": [
    "keys = {'a' , 'b' , 'c' , 'd'} \n",
    "value = [25 , 20 , 30]\n",
    "mydict3 = dict.fromkeys(keys , value)\n",
    "mydict3 "
   ]
  },
  {
   "cell_type": "code",
   "execution_count": 56,
   "id": "cd085554-1412-428f-9212-7e2e14964661",
   "metadata": {},
   "outputs": [],
   "source": [
    "value.append(35)"
   ]
  },
  {
   "cell_type": "code",
   "execution_count": 57,
   "id": "1882e2bd-c8d3-4527-b2be-3751826b3a74",
   "metadata": {},
   "outputs": [
    {
     "data": {
      "text/plain": [
       "{'d': [25, 20, 30, 35, 35],\n",
       " 'a': [25, 20, 30, 35, 35],\n",
       " 'c': [25, 20, 30, 35, 35],\n",
       " 'b': [25, 20, 30, 35, 35]}"
      ]
     },
     "execution_count": 57,
     "metadata": {},
     "output_type": "execute_result"
    }
   ],
   "source": [
    "mydict3"
   ]
  },
  {
   "cell_type": "code",
   "execution_count": 58,
   "id": "26ea51bc-a96e-411a-8b47-b6ab735874f0",
   "metadata": {},
   "outputs": [
    {
     "data": {
      "text/plain": [
       "{'d': [25, 20, 30, 35],\n",
       " 'a': [25, 20, 30, 35],\n",
       " 'c': [25, 20, 30, 35],\n",
       " 'b': [25, 20, 30, 35]}"
      ]
     },
     "execution_count": 58,
     "metadata": {},
     "output_type": "execute_result"
    }
   ],
   "source": [
    "value.pop()\n",
    "mydict3"
   ]
  },
  {
   "cell_type": "code",
   "execution_count": 60,
   "id": "e93001c9-9e55-4288-baa5-9ed5366cafb6",
   "metadata": {},
   "outputs": [
    {
     "data": {
      "text/plain": [
       "[25, 20, 30, 35]"
      ]
     },
     "execution_count": 60,
     "metadata": {},
     "output_type": "execute_result"
    }
   ],
   "source": [
    "mydict3['a']"
   ]
  },
  {
   "cell_type": "code",
   "execution_count": 61,
   "id": "ec2bf7b1-c611-4a69-be65-9f728bff1657",
   "metadata": {},
   "outputs": [
    {
     "ename": "KeyError",
     "evalue": "'z'",
     "output_type": "error",
     "traceback": [
      "\u001b[1;31m---------------------------------------------------------------------------\u001b[0m",
      "\u001b[1;31mKeyError\u001b[0m                                  Traceback (most recent call last)",
      "Cell \u001b[1;32mIn[61], line 1\u001b[0m\n\u001b[1;32m----> 1\u001b[0m mydict3[\u001b[38;5;124m'\u001b[39m\u001b[38;5;124mz\u001b[39m\u001b[38;5;124m'\u001b[39m]\n",
      "\u001b[1;31mKeyError\u001b[0m: 'z'"
     ]
    }
   ],
   "source": [
    "mydict3['z']"
   ]
  },
  {
   "cell_type": "code",
   "execution_count": 62,
   "id": "294eab54-379f-43ce-af89-77c391681191",
   "metadata": {},
   "outputs": [
    {
     "data": {
      "text/plain": [
       "[25, 20, 30, 35]"
      ]
     },
     "execution_count": 62,
     "metadata": {},
     "output_type": "execute_result"
    }
   ],
   "source": [
    "mydict3.get('b')"
   ]
  },
  {
   "cell_type": "code",
   "execution_count": 63,
   "id": "868c4faa-0887-4a5d-bbe7-8b647c7add13",
   "metadata": {},
   "outputs": [],
   "source": [
    "mydict3.get('z')    #Return the value for key if key is in the dictionary, else default"
   ]
  },
  {
   "cell_type": "code",
   "execution_count": 67,
   "id": "0f7a7abc-74c3-47ec-b514-32bd79333b24",
   "metadata": {},
   "outputs": [
    {
     "data": {
      "text/plain": [
       "{'Name': 'Sheet', 'ID': 16678, 'Age': 20, 'City': 'Hyd', 'DOY': 2005}"
      ]
     },
     "execution_count": 67,
     "metadata": {},
     "output_type": "execute_result"
    }
   ],
   "source": [
    "mydict1 = {'Name':'Sheet' , 'ID':16678 , 'Age':20 , 'City':'Hyd' , 'DOY':2005}\n",
    "mydict1"
   ]
  },
  {
   "cell_type": "code",
   "execution_count": 68,
   "id": "00f88b42-6267-40d3-888d-dd14c8e1e892",
   "metadata": {},
   "outputs": [
    {
     "data": {
      "text/plain": [
       "{'Name': 'Sheet', 'ID': 16678, 'Age': 20, 'City': 'Hyd', 'DOY': 2003}"
      ]
     },
     "execution_count": 68,
     "metadata": {},
     "output_type": "execute_result"
    }
   ],
   "source": [
    "mydict1['DOY'] = 2003\n",
    "mydict1"
   ]
  },
  {
   "cell_type": "code",
   "execution_count": 69,
   "id": "64be1255-b548-4aef-afc2-9cd29ea3e945",
   "metadata": {},
   "outputs": [
    {
     "data": {
      "text/plain": [
       "{'Name': 'Sheet', 'ID': 16678, 'Age': 21, 'City': 'Hyd', 'DOY': 2003}"
      ]
     },
     "execution_count": 69,
     "metadata": {},
     "output_type": "execute_result"
    }
   ],
   "source": [
    "dict1 = {'Age':21}\n",
    "mydict1.update(dict1)\n",
    "mydict1"
   ]
  },
  {
   "cell_type": "code",
   "execution_count": 70,
   "id": "e70c13a2-fcc9-42c3-b205-e46a113bdad5",
   "metadata": {},
   "outputs": [
    {
     "data": {
      "text/plain": [
       "{'Name': 'Sheet',\n",
       " 'ID': 16678,\n",
       " 'Age': 21,\n",
       " 'City': 'Hyd',\n",
       " 'DOY': 2003,\n",
       " 'Job': 'Student'}"
      ]
     },
     "execution_count": 70,
     "metadata": {},
     "output_type": "execute_result"
    }
   ],
   "source": [
    "mydict1['Job'] = 'Student'\n",
    "mydict1"
   ]
  },
  {
   "cell_type": "code",
   "execution_count": 71,
   "id": "f2df0d45-0565-44b1-9151-54720a1218c0",
   "metadata": {},
   "outputs": [
    {
     "data": {
      "text/plain": [
       "21"
      ]
     },
     "execution_count": 71,
     "metadata": {},
     "output_type": "execute_result"
    }
   ],
   "source": [
    "mydict1.pop('Age')"
   ]
  },
  {
   "cell_type": "code",
   "execution_count": 72,
   "id": "33281f78-79ed-4144-afcb-660cbaac5e96",
   "metadata": {},
   "outputs": [
    {
     "data": {
      "text/plain": [
       "{'Name': 'Sheet', 'ID': 16678, 'City': 'Hyd', 'DOY': 2003, 'Job': 'Student'}"
      ]
     },
     "execution_count": 72,
     "metadata": {},
     "output_type": "execute_result"
    }
   ],
   "source": [
    "mydict1"
   ]
  },
  {
   "cell_type": "code",
   "execution_count": 73,
   "id": "e6bbae01-52ba-416f-a225-f863a7321336",
   "metadata": {},
   "outputs": [
    {
     "data": {
      "text/plain": [
       "('Job', 'Student')"
      ]
     },
     "execution_count": 73,
     "metadata": {},
     "output_type": "execute_result"
    }
   ],
   "source": [
    "mydict1.popitem()"
   ]
  },
  {
   "cell_type": "code",
   "execution_count": 74,
   "id": "28c8c4c9-536c-447e-a415-842c7e478e4b",
   "metadata": {},
   "outputs": [
    {
     "data": {
      "text/plain": [
       "{'Name': 'Sheet', 'City': 'Hyd', 'DOY': 2003}"
      ]
     },
     "execution_count": 74,
     "metadata": {},
     "output_type": "execute_result"
    }
   ],
   "source": [
    "del[mydict1['ID']]\n",
    "mydict1"
   ]
  },
  {
   "cell_type": "code",
   "execution_count": 75,
   "id": "f873d46b-9f3f-4aea-8179-7d1687ed3dd9",
   "metadata": {},
   "outputs": [
    {
     "data": {
      "text/plain": [
       "{}"
      ]
     },
     "execution_count": 75,
     "metadata": {},
     "output_type": "execute_result"
    }
   ],
   "source": [
    "mydict1.clear()\n",
    "mydict1"
   ]
  },
  {
   "cell_type": "code",
   "execution_count": 76,
   "id": "af3ebc7c-f4ff-4f0a-b8b8-9791cb9ec51e",
   "metadata": {},
   "outputs": [],
   "source": [
    "del mydict1"
   ]
  },
  {
   "cell_type": "code",
   "execution_count": 77,
   "id": "511d2d83-af66-400f-8e06-4622b4aff5c1",
   "metadata": {},
   "outputs": [
    {
     "ename": "NameError",
     "evalue": "name 'mydict1' is not defined",
     "output_type": "error",
     "traceback": [
      "\u001b[1;31m---------------------------------------------------------------------------\u001b[0m",
      "\u001b[1;31mNameError\u001b[0m                                 Traceback (most recent call last)",
      "Cell \u001b[1;32mIn[77], line 1\u001b[0m\n\u001b[1;32m----> 1\u001b[0m mydict1\n",
      "\u001b[1;31mNameError\u001b[0m: name 'mydict1' is not defined"
     ]
    }
   ],
   "source": [
    "mydict1"
   ]
  },
  {
   "cell_type": "code",
   "execution_count": 78,
   "id": "a1c07c1f-f4ce-41a6-abbc-99f524c3609d",
   "metadata": {},
   "outputs": [
    {
     "data": {
      "text/plain": [
       "{'Name': 'Sheet', 'ID': 16678, 'Age': 20, 'City': 'Hyd', 'DOY': 2005}"
      ]
     },
     "execution_count": 78,
     "metadata": {},
     "output_type": "execute_result"
    }
   ],
   "source": [
    "mydict2 = {'Name':'Sheet' , 'ID':16678 , 'Age':20 , 'City':'Hyd' , 'DOY':2005}\n",
    "mydict2"
   ]
  },
  {
   "cell_type": "code",
   "execution_count": 79,
   "id": "c06f56ca-c1ae-45bb-8267-710e57122f23",
   "metadata": {},
   "outputs": [
    {
     "data": {
      "text/plain": [
       "{'Name': 'Sheet', 'ID': 16678, 'Age': 20, 'City': 'Hyd', 'DOY': 2005}"
      ]
     },
     "execution_count": 79,
     "metadata": {},
     "output_type": "execute_result"
    }
   ],
   "source": [
    "mydict1 = mydict2\n",
    "mydict1"
   ]
  },
  {
   "cell_type": "code",
   "execution_count": 80,
   "id": "0210cbb3-6e1b-4502-870e-ca9f61afb717",
   "metadata": {},
   "outputs": [
    {
     "data": {
      "text/plain": [
       "(3031180514624, 3031180514624)"
      ]
     },
     "execution_count": 80,
     "metadata": {},
     "output_type": "execute_result"
    }
   ],
   "source": [
    "id(mydict1),id(mydict2)"
   ]
  },
  {
   "cell_type": "code",
   "execution_count": 81,
   "id": "e348c765-b6f7-4e00-aead-547dc8136024",
   "metadata": {},
   "outputs": [],
   "source": [
    "mydict4 = mydict2.copy()"
   ]
  },
  {
   "cell_type": "code",
   "execution_count": 83,
   "id": "8111c77e-99b8-4c58-95e8-ac4a9dd22941",
   "metadata": {},
   "outputs": [
    {
     "data": {
      "text/plain": [
       "3031179923648"
      ]
     },
     "execution_count": 83,
     "metadata": {},
     "output_type": "execute_result"
    }
   ],
   "source": [
    "id(mydict4)     # The address will be different"
   ]
  },
  {
   "cell_type": "code",
   "execution_count": 84,
   "id": "409d1317-3690-4e17-a1d8-d954061626c8",
   "metadata": {},
   "outputs": [],
   "source": [
    "mydict4['Add'] = 'Amp'"
   ]
  },
  {
   "cell_type": "code",
   "execution_count": 85,
   "id": "799ea4df-74ca-4216-96aa-9b1816476934",
   "metadata": {},
   "outputs": [
    {
     "name": "stdout",
     "output_type": "stream",
     "text": [
      "{'Name': 'Sheet', 'ID': 16678, 'Age': 20, 'City': 'Hyd', 'DOY': 2005, 'Add': 'Amp'}\n",
      "{'Name': 'Sheet', 'ID': 16678, 'Age': 20, 'City': 'Hyd', 'DOY': 2005}\n",
      "{'Name': 'Sheet', 'ID': 16678, 'Age': 20, 'City': 'Hyd', 'DOY': 2005}\n"
     ]
    }
   ],
   "source": [
    "print(mydict4)\n",
    "print(mydict1)\n",
    "print(mydict2)"
   ]
  },
  {
   "cell_type": "code",
   "execution_count": 86,
   "id": "2c07ccbf-5991-496b-b892-2403ac6dfe8f",
   "metadata": {},
   "outputs": [
    {
     "data": {
      "text/plain": [
       "{'Name': 'Sheet',\n",
       " 'ID': 16678,\n",
       " 'Age': 20,\n",
       " 'City': 'Hyd',\n",
       " 'DOY': 2005,\n",
       " 'Add': 'Amp'}"
      ]
     },
     "execution_count": 86,
     "metadata": {},
     "output_type": "execute_result"
    }
   ],
   "source": [
    "mydict4"
   ]
  },
  {
   "cell_type": "code",
   "execution_count": 87,
   "id": "684b01ba-1aab-459f-bc0c-171709ecc977",
   "metadata": {},
   "outputs": [
    {
     "name": "stdout",
     "output_type": "stream",
     "text": [
      "Name\n",
      "ID\n",
      "Age\n",
      "City\n",
      "DOY\n",
      "Add\n"
     ]
    }
   ],
   "source": [
    "for i in mydict4:\n",
    "    print(i)"
   ]
  },
  {
   "cell_type": "code",
   "execution_count": 88,
   "id": "a6e58395-8818-4391-864c-a589310681cb",
   "metadata": {},
   "outputs": [
    {
     "name": "stdout",
     "output_type": "stream",
     "text": [
      "Name = Sheet\n",
      "ID = 16678\n",
      "Age = 20\n",
      "City = Hyd\n",
      "DOY = 2005\n",
      "Add = Amp\n"
     ]
    }
   ],
   "source": [
    "for i in mydict4:\n",
    "    print(i , \"=\" , mydict4[i])"
   ]
  },
  {
   "cell_type": "code",
   "execution_count": 89,
   "id": "7a43b3bb-205a-4bc4-a7ca-bd41ce907ce7",
   "metadata": {},
   "outputs": [
    {
     "name": "stdout",
     "output_type": "stream",
     "text": [
      "Sheet\n",
      "16678\n",
      "20\n",
      "Hyd\n",
      "2005\n",
      "Amp\n"
     ]
    }
   ],
   "source": [
    "for i in mydict4:\n",
    "    print(mydict4[i])"
   ]
  },
  {
   "cell_type": "code",
   "execution_count": 90,
   "id": "027af65c-bc68-4ae8-9b6f-b10222a1a619",
   "metadata": {},
   "outputs": [
    {
     "data": {
      "text/plain": [
       "{'Name': 'Sheet',\n",
       " 'ID': 16678,\n",
       " 'Age': 20,\n",
       " 'City': 'Hyd',\n",
       " 'DOY': 2005,\n",
       " 'Add': 'Amp'}"
      ]
     },
     "execution_count": 90,
     "metadata": {},
     "output_type": "execute_result"
    }
   ],
   "source": [
    "mydict4"
   ]
  },
  {
   "cell_type": "code",
   "execution_count": 91,
   "id": "60161c3d-8a61-439f-a3d1-14eb0ab19712",
   "metadata": {},
   "outputs": [
    {
     "data": {
      "text/plain": [
       "False"
      ]
     },
     "execution_count": 91,
     "metadata": {},
     "output_type": "execute_result"
    }
   ],
   "source": [
    "'name' in mydict4"
   ]
  },
  {
   "cell_type": "code",
   "execution_count": 92,
   "id": "793f7254-d85f-47c3-8280-b8b689e50cdb",
   "metadata": {},
   "outputs": [
    {
     "data": {
      "text/plain": [
       "True"
      ]
     },
     "execution_count": 92,
     "metadata": {},
     "output_type": "execute_result"
    }
   ],
   "source": [
    "'Name'in mydict4"
   ]
  },
  {
   "cell_type": "code",
   "execution_count": 93,
   "id": "197d9ec3-0cd8-4e0f-a4f6-cf0e6ecfb8f5",
   "metadata": {},
   "outputs": [
    {
     "data": {
      "text/plain": [
       "False"
      ]
     },
     "execution_count": 93,
     "metadata": {},
     "output_type": "execute_result"
    }
   ],
   "source": [
    "'Name ' in mydict4  #space bhi nahi rehna when we r trying to check if its present or not"
   ]
  },
  {
   "cell_type": "code",
   "execution_count": 94,
   "id": "53a9f9d0-99e2-47dd-8d1c-27b28a83f299",
   "metadata": {},
   "outputs": [
    {
     "data": {
      "text/plain": [
       "True"
      ]
     },
     "execution_count": 94,
     "metadata": {},
     "output_type": "execute_result"
    }
   ],
   "source": [
    "all(mydict4)"
   ]
  },
  {
   "cell_type": "code",
   "execution_count": 95,
   "id": "d7cd7de5-6260-43e0-990e-06e92472987b",
   "metadata": {},
   "outputs": [
    {
     "data": {
      "text/plain": [
       "{'Name': 'Sheet',\n",
       " 'ID': 16678,\n",
       " 'Age': 20,\n",
       " 'City': 'Hyd',\n",
       " 'DOY': 2005,\n",
       " 'Add': 'Amp',\n",
       " 'Gen': 0}"
      ]
     },
     "execution_count": 95,
     "metadata": {},
     "output_type": "execute_result"
    }
   ],
   "source": [
    "mydict4['Gen'] = 0\n",
    "mydict4"
   ]
  },
  {
   "cell_type": "code",
   "execution_count": 96,
   "id": "646eb4f1-7710-485d-9fc7-e48a32a6c788",
   "metadata": {},
   "outputs": [
    {
     "data": {
      "text/plain": [
       "True"
      ]
     },
     "execution_count": 96,
     "metadata": {},
     "output_type": "execute_result"
    }
   ],
   "source": [
    "all(mydict4)"
   ]
  },
  {
   "cell_type": "code",
   "execution_count": 98,
   "id": "5e509feb-88bb-4c87-8b6b-6e2f48c05854",
   "metadata": {},
   "outputs": [
    {
     "data": {
      "text/plain": [
       "0"
      ]
     },
     "execution_count": 98,
     "metadata": {},
     "output_type": "execute_result"
    }
   ],
   "source": [
    "mydict4.pop('Gen')"
   ]
  },
  {
   "cell_type": "code",
   "execution_count": 99,
   "id": "376589dc-a5f0-4188-8862-1f2fa4c8d1fe",
   "metadata": {},
   "outputs": [
    {
     "data": {
      "text/plain": [
       "{'Name': 'Sheet',\n",
       " 'ID': 16678,\n",
       " 'Age': 20,\n",
       " 'City': 'Hyd',\n",
       " 'DOY': 2005,\n",
       " 'Add': 'Amp'}"
      ]
     },
     "execution_count": 99,
     "metadata": {},
     "output_type": "execute_result"
    }
   ],
   "source": [
    "mydict4"
   ]
  },
  {
   "cell_type": "code",
   "execution_count": 100,
   "id": "0fdc185c-b76a-441c-bf20-ea2cec0e20e5",
   "metadata": {},
   "outputs": [],
   "source": [
    "mydict4['0'] = 'kuch tho bhi'"
   ]
  },
  {
   "cell_type": "code",
   "execution_count": 101,
   "id": "7c54fe5b-6488-4983-846e-af24eca94b71",
   "metadata": {},
   "outputs": [
    {
     "data": {
      "text/plain": [
       "{'Name': 'Sheet',\n",
       " 'ID': 16678,\n",
       " 'Age': 20,\n",
       " 'City': 'Hyd',\n",
       " 'DOY': 2005,\n",
       " 'Add': 'Amp',\n",
       " '0': 'kuch tho bhi'}"
      ]
     },
     "execution_count": 101,
     "metadata": {},
     "output_type": "execute_result"
    }
   ],
   "source": [
    "mydict4"
   ]
  },
  {
   "cell_type": "code",
   "execution_count": 102,
   "id": "5837b43c-533d-4cd3-9296-ed576c355d09",
   "metadata": {},
   "outputs": [
    {
     "data": {
      "text/plain": [
       "True"
      ]
     },
     "execution_count": 102,
     "metadata": {},
     "output_type": "execute_result"
    }
   ],
   "source": [
    "all(mydict4)     # 0 can be inside a string for it to be true"
   ]
  },
  {
   "cell_type": "code",
   "execution_count": 103,
   "id": "64c992a5-f69f-4a76-b0d3-51d41dcb6910",
   "metadata": {},
   "outputs": [
    {
     "data": {
      "text/plain": [
       "'kuch tho bhi'"
      ]
     },
     "execution_count": 103,
     "metadata": {},
     "output_type": "execute_result"
    }
   ],
   "source": [
    "mydict4.pop('0')"
   ]
  },
  {
   "cell_type": "code",
   "execution_count": 104,
   "id": "46bdf14d-c9a7-4976-aec1-f1360a2af3a0",
   "metadata": {},
   "outputs": [
    {
     "data": {
      "text/plain": [
       "{'Name': 'Sheet',\n",
       " 'ID': 16678,\n",
       " 'Age': 20,\n",
       " 'City': 'Hyd',\n",
       " 'DOY': 2005,\n",
       " 'Add': 'Amp'}"
      ]
     },
     "execution_count": 104,
     "metadata": {},
     "output_type": "execute_result"
    }
   ],
   "source": [
    "mydict4"
   ]
  },
  {
   "cell_type": "code",
   "execution_count": 105,
   "id": "3690b8e6-5423-4e53-9486-60ed3beb3aef",
   "metadata": {},
   "outputs": [
    {
     "name": "stdout",
     "output_type": "stream",
     "text": [
      "1\n",
      "0\n"
     ]
    }
   ],
   "source": [
    "print(int(True))\n",
    "print(int(False))"
   ]
  },
  {
   "cell_type": "code",
   "execution_count": 106,
   "id": "99c697c5-7cbf-4995-ab39-60fc8b8e4e20",
   "metadata": {},
   "outputs": [
    {
     "data": {
      "text/plain": [
       "{'Name': 'Sheet',\n",
       " 'ID': 16678,\n",
       " 'Age': 20,\n",
       " 'City': 'Hyd',\n",
       " 'DOY': 2005,\n",
       " 'Add': 'Amp'}"
      ]
     },
     "execution_count": 106,
     "metadata": {},
     "output_type": "execute_result"
    }
   ],
   "source": [
    "mydict4"
   ]
  },
  {
   "cell_type": "code",
   "execution_count": 107,
   "id": "2266c6a7-a6ee-41b2-a075-46fd8e27fb0b",
   "metadata": {},
   "outputs": [
    {
     "data": {
      "text/plain": [
       "{'Name': 'Sheet',\n",
       " 'ID': 16678,\n",
       " 'Age': 20,\n",
       " 'City': 'Hyd',\n",
       " 'DOY': 2005,\n",
       " 'Add': 'Amp',\n",
       " 0: 'Hope'}"
      ]
     },
     "execution_count": 107,
     "metadata": {},
     "output_type": "execute_result"
    }
   ],
   "source": [
    "mydict4[0] = 'Hope'\n",
    "mydict4"
   ]
  },
  {
   "cell_type": "code",
   "execution_count": 109,
   "id": "44747ef7-0e87-4b88-aa5e-0bd42f2dfd1d",
   "metadata": {},
   "outputs": [
    {
     "data": {
      "text/plain": [
       "False"
      ]
     },
     "execution_count": 109,
     "metadata": {},
     "output_type": "execute_result"
    }
   ],
   "source": [
    "all(mydict4)   # 0 directly as  key is not accepted"
   ]
  },
  {
   "cell_type": "code",
   "execution_count": null,
   "id": "7ca8e351-0f19-4c7c-a5a6-fb9d6d3a04f1",
   "metadata": {},
   "outputs": [],
   "source": []
  }
 ],
 "metadata": {
  "kernelspec": {
   "display_name": "Python [conda env:base] *",
   "language": "python",
   "name": "conda-base-py"
  },
  "language_info": {
   "codemirror_mode": {
    "name": "ipython",
    "version": 3
   },
   "file_extension": ".py",
   "mimetype": "text/x-python",
   "name": "python",
   "nbconvert_exporter": "python",
   "pygments_lexer": "ipython3",
   "version": "3.12.7"
  }
 },
 "nbformat": 4,
 "nbformat_minor": 5
}

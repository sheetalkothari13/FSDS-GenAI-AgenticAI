{
 "cells": [
  {
   "cell_type": "code",
   "execution_count": 1,
   "id": "20f9a9be-0e4f-4f3d-b7b6-a256c0c7fd20",
   "metadata": {},
   "outputs": [
    {
     "data": {
      "text/plain": [
       "5"
      ]
     },
     "execution_count": 1,
     "metadata": {},
     "output_type": "execute_result"
    }
   ],
   "source": [
    "v = 5  #variable declaration\n",
    "v"
   ]
  },
  {
   "cell_type": "code",
   "execution_count": 2,
   "id": "41ba3a03-3253-4fc9-b7c9-02f4e2c83e30",
   "metadata": {},
   "outputs": [
    {
     "data": {
      "text/plain": [
       "140719502207544"
      ]
     },
     "execution_count": 2,
     "metadata": {},
     "output_type": "execute_result"
    }
   ],
   "source": [
    "id(v)  #address of the memory location"
   ]
  },
  {
   "cell_type": "code",
   "execution_count": 3,
   "id": "f2165100-69a4-4687-b3f9-fe186607f1a9",
   "metadata": {},
   "outputs": [
    {
     "ename": "SyntaxError",
     "evalue": "cannot assign to literal here. Maybe you meant '==' instead of '='? (2288598382.py, line 1)",
     "output_type": "error",
     "traceback": [
      "\u001b[1;36m  Cell \u001b[1;32mIn[3], line 1\u001b[1;36m\u001b[0m\n\u001b[1;33m    5 = v\u001b[0m\n\u001b[1;37m    ^\u001b[0m\n\u001b[1;31mSyntaxError\u001b[0m\u001b[1;31m:\u001b[0m cannot assign to literal here. Maybe you meant '==' instead of '='?\n"
     ]
    }
   ],
   "source": [
    "5 = v"
   ]
  },
  {
   "cell_type": "code",
   "execution_count": 4,
   "id": "3e5d3592-4fe3-4e2c-b828-792726c6cdc8",
   "metadata": {},
   "outputs": [
    {
     "ename": "SyntaxError",
     "evalue": "invalid decimal literal (3264032593.py, line 1)",
     "output_type": "error",
     "traceback": [
      "\u001b[1;36m  Cell \u001b[1;32mIn[4], line 1\u001b[1;36m\u001b[0m\n\u001b[1;33m    1v = 9\u001b[0m\n\u001b[1;37m    ^\u001b[0m\n\u001b[1;31mSyntaxError\u001b[0m\u001b[1;31m:\u001b[0m invalid decimal literal\n"
     ]
    }
   ],
   "source": [
    "1v = 9"
   ]
  },
  {
   "cell_type": "code",
   "execution_count": 5,
   "id": "a11d28d3-29ce-4122-bb18-0cfc0f700631",
   "metadata": {},
   "outputs": [],
   "source": [
    "v1= 9"
   ]
  },
  {
   "cell_type": "code",
   "execution_count": 6,
   "id": "0464b659-c19d-43ff-8aef-64a73ef9ed34",
   "metadata": {},
   "outputs": [
    {
     "data": {
      "text/plain": [
       "'{\"dataframes\": [], \"user\": \"Sheetal\"}'"
      ]
     },
     "execution_count": 6,
     "metadata": {},
     "output_type": "execute_result"
    }
   ],
   "source": [
    "_"
   ]
  },
  {
   "cell_type": "code",
   "execution_count": 7,
   "id": "d5732319-cbbe-405d-ab89-1aa892a905a3",
   "metadata": {},
   "outputs": [
    {
     "data": {
      "text/plain": [
       "9"
      ]
     },
     "execution_count": 7,
     "metadata": {},
     "output_type": "execute_result"
    }
   ],
   "source": [
    "v1"
   ]
  },
  {
   "cell_type": "code",
   "execution_count": 12,
   "id": "5d280f84-81a5-45f9-acda-62d725287c54",
   "metadata": {},
   "outputs": [
    {
     "ename": "SyntaxError",
     "evalue": "invalid syntax (3100855996.py, line 1)",
     "output_type": "error",
     "traceback": [
      "\u001b[1;36m  Cell \u001b[1;32mIn[12], line 1\u001b[1;36m\u001b[0m\n\u001b[1;33m    v@ = 70\u001b[0m\n\u001b[1;37m       ^\u001b[0m\n\u001b[1;31mSyntaxError\u001b[0m\u001b[1;31m:\u001b[0m invalid syntax\n"
     ]
    }
   ],
   "source": [
    "v@ = 70"
   ]
  },
  {
   "cell_type": "code",
   "execution_count": 13,
   "id": "c1bdfcee-72ba-43bf-a157-65fd36427275",
   "metadata": {},
   "outputs": [
    {
     "data": {
      "text/plain": [
       "10"
      ]
     },
     "execution_count": 13,
     "metadata": {},
     "output_type": "execute_result"
    }
   ],
   "source": [
    "v_ = 10\n",
    "v_"
   ]
  },
  {
   "cell_type": "code",
   "execution_count": 16,
   "id": "f0aca3f2-fa04-42fe-8ee2-44bda22d87a5",
   "metadata": {},
   "outputs": [
    {
     "data": {
      "text/plain": [
       "['False',\n",
       " 'None',\n",
       " 'True',\n",
       " 'and',\n",
       " 'as',\n",
       " 'assert',\n",
       " 'async',\n",
       " 'await',\n",
       " 'break',\n",
       " 'class',\n",
       " 'continue',\n",
       " 'def',\n",
       " 'del',\n",
       " 'elif',\n",
       " 'else',\n",
       " 'except',\n",
       " 'finally',\n",
       " 'for',\n",
       " 'from',\n",
       " 'global',\n",
       " 'if',\n",
       " 'import',\n",
       " 'in',\n",
       " 'is',\n",
       " 'lambda',\n",
       " 'nonlocal',\n",
       " 'not',\n",
       " 'or',\n",
       " 'pass',\n",
       " 'raise',\n",
       " 'return',\n",
       " 'try',\n",
       " 'while',\n",
       " 'with',\n",
       " 'yield']"
      ]
     },
     "execution_count": 16,
     "metadata": {},
     "output_type": "execute_result"
    }
   ],
   "source": [
    "import keyword\n",
    "keyword.kwlist"
   ]
  },
  {
   "cell_type": "code",
   "execution_count": 17,
   "id": "6675e9a3-4843-4fe5-a062-d085c1e17f82",
   "metadata": {},
   "outputs": [
    {
     "data": {
      "text/plain": [
       "35"
      ]
     },
     "execution_count": 17,
     "metadata": {},
     "output_type": "execute_result"
    }
   ],
   "source": [
    "len(keyword.kwlist)"
   ]
  },
  {
   "cell_type": "code",
   "execution_count": 4,
   "id": "1ad101cd-3e23-43a9-ba3d-33bd5b2eec7e",
   "metadata": {},
   "outputs": [
    {
     "data": {
      "text/plain": [
       "'first line. \\nsecond line'"
      ]
     },
     "execution_count": 4,
     "metadata": {},
     "output_type": "execute_result"
    }
   ],
   "source": [
    "n = 'first line. \\nsecond line'\n",
    "n"
   ]
  },
  {
   "cell_type": "code",
   "execution_count": 5,
   "id": "2be30e80-a65b-49ab-82fc-bb776526e115",
   "metadata": {},
   "outputs": [
    {
     "name": "stdout",
     "output_type": "stream",
     "text": [
      "first line. \n",
      "second line\n"
     ]
    }
   ],
   "source": [
    "print(n)"
   ]
  },
  {
   "cell_type": "code",
   "execution_count": 1,
   "id": "b3846312-591d-4e8e-a8fc-51d4355f1856",
   "metadata": {},
   "outputs": [
    {
     "name": "stdout",
     "output_type": "stream",
     "text": [
      "20\n",
      "20\n",
      "20\n"
     ]
    }
   ],
   "source": [
    "p = q = r = 20\n",
    "print(p)\n",
    "print(q)\n",
    "print(r)"
   ]
  },
  {
   "cell_type": "code",
   "execution_count": 2,
   "id": "9c1f1885-7571-4d82-af18-b5bc4d5c1a6a",
   "metadata": {},
   "outputs": [
    {
     "name": "stdout",
     "output_type": "stream",
     "text": [
      "140719699536920\n",
      "140719699536920\n",
      "140719699536920\n"
     ]
    }
   ],
   "source": [
    "print(id(p))\n",
    "print(id(q))\n",
    "print(id(r))\n"
   ]
  },
  {
   "cell_type": "code",
   "execution_count": 3,
   "id": "eda8fd09-428b-49f1-94e6-f00ac41bb1ba",
   "metadata": {},
   "outputs": [
    {
     "name": "stdout",
     "output_type": "stream",
     "text": [
      "140719699536600\n",
      "140719699536760\n",
      "140719699536920\n"
     ]
    }
   ],
   "source": [
    "p1,q1,r1=10,15,20\n",
    "print(id(p1))\n",
    "print(id(q1))\n",
    "print(id(r1))"
   ]
  },
  {
   "cell_type": "code",
   "execution_count": 4,
   "id": "27395538-31ac-4f41-8836-37d16cf32576",
   "metadata": {},
   "outputs": [
    {
     "name": "stdout",
     "output_type": "stream",
     "text": [
      "H \n"
     ]
    }
   ],
   "source": [
    "s = \"Hello Python\"\n",
    "print(s[0:10:5])"
   ]
  },
  {
   "cell_type": "code",
   "execution_count": 5,
   "id": "d793349a-9b00-4da0-bf44-c7a27fbc6a12",
   "metadata": {},
   "outputs": [
    {
     "name": "stdout",
     "output_type": "stream",
     "text": [
      "H o\n"
     ]
    }
   ],
   "source": [
    "print(s[0:12:5])"
   ]
  },
  {
   "cell_type": "code",
   "execution_count": 1,
   "id": "fff0f5d7-33f9-4b69-9d41-beb42e5b0e5c",
   "metadata": {},
   "outputs": [
    {
     "data": {
      "text/plain": [
       "5"
      ]
     },
     "execution_count": 1,
     "metadata": {},
     "output_type": "execute_result"
    }
   ],
   "source": [
    "#this is a comment\n",
    "a =5\n",
    "a"
   ]
  },
  {
   "cell_type": "code",
   "execution_count": 2,
   "id": "f4ddcdf4-c325-4daa-8e66-d281aeaf5cbd",
   "metadata": {},
   "outputs": [
    {
     "data": {
      "text/plain": [
       "4"
      ]
     },
     "execution_count": 2,
     "metadata": {},
     "output_type": "execute_result"
    }
   ],
   "source": [
    "2+2"
   ]
  },
  {
   "cell_type": "code",
   "execution_count": 4,
   "id": "8bfe1f0b-3ca1-4ec5-8ac1-13ed56750360",
   "metadata": {},
   "outputs": [
    {
     "data": {
      "text/plain": [
       "100"
      ]
     },
     "execution_count": 4,
     "metadata": {},
     "output_type": "execute_result"
    }
   ],
   "source": [
    "50*2"
   ]
  },
  {
   "cell_type": "code",
   "execution_count": 5,
   "id": "b7a77be3-823e-40dd-a6b9-7a25a9b41c57",
   "metadata": {},
   "outputs": [
    {
     "data": {
      "text/plain": [
       "5.0"
      ]
     },
     "execution_count": 5,
     "metadata": {},
     "output_type": "execute_result"
    }
   ],
   "source": [
    "(50 - 5*6)/4"
   ]
  },
  {
   "cell_type": "code",
   "execution_count": 6,
   "id": "0ce6b911-a168-4030-9803-83738db00edd",
   "metadata": {},
   "outputs": [
    {
     "data": {
      "text/plain": [
       "1.6"
      ]
     },
     "execution_count": 6,
     "metadata": {},
     "output_type": "execute_result"
    }
   ],
   "source": [
    "8/5"
   ]
  },
  {
   "cell_type": "code",
   "execution_count": 7,
   "id": "3ed24459-c055-4101-ad43-6acb81fb6c03",
   "metadata": {},
   "outputs": [
    {
     "data": {
      "text/plain": [
       "25"
      ]
     },
     "execution_count": 7,
     "metadata": {},
     "output_type": "execute_result"
    }
   ],
   "source": [
    "5**2"
   ]
  },
  {
   "cell_type": "code",
   "execution_count": 8,
   "id": "5ccd2ea1-c7eb-450f-8690-da199e4ae13a",
   "metadata": {},
   "outputs": [
    {
     "data": {
      "text/plain": [
       "50"
      ]
     },
     "execution_count": 8,
     "metadata": {},
     "output_type": "execute_result"
    }
   ],
   "source": [
    "w = 5\n",
    "h = 10\n",
    "w * h"
   ]
  },
  {
   "cell_type": "code",
   "execution_count": 9,
   "id": "ab75c4a7-07a7-4e10-9b77-816351776bba",
   "metadata": {},
   "outputs": [
    {
     "ename": "NameError",
     "evalue": "name 'n' is not defined",
     "output_type": "error",
     "traceback": [
      "\u001b[1;31m---------------------------------------------------------------------------\u001b[0m",
      "\u001b[1;31mNameError\u001b[0m                                 Traceback (most recent call last)",
      "Cell \u001b[1;32mIn[9], line 1\u001b[0m\n\u001b[1;32m----> 1\u001b[0m n\n",
      "\u001b[1;31mNameError\u001b[0m: name 'n' is not defined"
     ]
    }
   ],
   "source": [
    "n"
   ]
  },
  {
   "cell_type": "code",
   "execution_count": 17,
   "id": "f092bdc1-ded7-443e-b7f7-b3fb2cdfb2ef",
   "metadata": {},
   "outputs": [
    {
     "data": {
      "text/plain": [
       "12.5068875"
      ]
     },
     "execution_count": 17,
     "metadata": {},
     "output_type": "execute_result"
    }
   ],
   "source": [
    "tax = 12.5/100\n",
    "price = 100.0551000\n",
    "price*tax"
   ]
  },
  {
   "cell_type": "code",
   "execution_count": 19,
   "id": "8795f774-01d5-47b8-878b-f8c9b799d09b",
   "metadata": {},
   "outputs": [
    {
     "ename": "TypeError",
     "evalue": "unsupported operand type(s) for +: 'float' and 'str'",
     "output_type": "error",
     "traceback": [
      "\u001b[1;31m---------------------------------------------------------------------------\u001b[0m",
      "\u001b[1;31mTypeError\u001b[0m                                 Traceback (most recent call last)",
      "Cell \u001b[1;32mIn[19], line 1\u001b[0m\n\u001b[1;32m----> 1\u001b[0m price \u001b[38;5;241m+\u001b[39m _\n",
      "\u001b[1;31mTypeError\u001b[0m: unsupported operand type(s) for +: 'float' and 'str'"
     ]
    }
   ],
   "source": [
    "price + _"
   ]
  },
  {
   "cell_type": "code",
   "execution_count": 20,
   "id": "8c3ff37f-6eac-455f-9410-6590bc0327f6",
   "metadata": {},
   "outputs": [
    {
     "data": {
      "text/plain": [
       "100.06"
      ]
     },
     "execution_count": 20,
     "metadata": {},
     "output_type": "execute_result"
    }
   ],
   "source": [
    "round(price,2)"
   ]
  },
  {
   "cell_type": "code",
   "execution_count": 21,
   "id": "15afb206-94b8-4d26-9730-0b92ed2c77c8",
   "metadata": {},
   "outputs": [
    {
     "data": {
      "text/plain": [
       "'holiday'"
      ]
     },
     "execution_count": 21,
     "metadata": {},
     "output_type": "execute_result"
    }
   ],
   "source": [
    "'holiday'"
   ]
  },
  {
   "cell_type": "code",
   "execution_count": 26,
   "id": "e491b52e-39e6-44ff-afa7-e5a1759351b6",
   "metadata": {},
   "outputs": [
    {
     "data": {
      "text/plain": [
       "\"!@#$%^&*() yesss,.;/''=-<>?:{}|_+\""
      ]
     },
     "execution_count": 26,
     "metadata": {},
     "output_type": "execute_result"
    }
   ],
   "source": [
    "\"!@#$%^&*() yesss,.;/'\\'=-<>?:{}|_+\""
   ]
  },
  {
   "cell_type": "code",
   "execution_count": 29,
   "id": "5113d25f-3b3e-4779-a4b0-1248ba559fe0",
   "metadata": {},
   "outputs": [
    {
     "data": {
      "text/plain": [
       "'\"Yes,\" they said.'"
      ]
     },
     "execution_count": 29,
     "metadata": {},
     "output_type": "execute_result"
    }
   ],
   "source": [
    "\"\\\"Yes,\\\" they said.\""
   ]
  },
  {
   "cell_type": "code",
   "execution_count": 30,
   "id": "390ae961-106d-4144-83b2-9a8fdf7aa214",
   "metadata": {},
   "outputs": [
    {
     "data": {
      "text/plain": [
       "\"don't\""
      ]
     },
     "execution_count": 30,
     "metadata": {},
     "output_type": "execute_result"
    }
   ],
   "source": [
    "\"don't\""
   ]
  },
  {
   "cell_type": "code",
   "execution_count": 31,
   "id": "b5e90820-227d-4193-8a5f-21ad2f000b97",
   "metadata": {},
   "outputs": [
    {
     "name": "stdout",
     "output_type": "stream",
     "text": [
      "C:\\some\n",
      "ame\n"
     ]
    },
    {
     "name": "stderr",
     "output_type": "stream",
     "text": [
      "<>:1: SyntaxWarning: invalid escape sequence '\\s'\n",
      "<>:1: SyntaxWarning: invalid escape sequence '\\s'\n",
      "C:\\Users\\Sheetal\\AppData\\Local\\Temp\\ipykernel_22652\\3441249919.py:1: SyntaxWarning: invalid escape sequence '\\s'\n",
      "  print('C:\\some\\name')\n"
     ]
    }
   ],
   "source": [
    "print('C:\\some\\name')"
   ]
  },
  {
   "cell_type": "code",
   "execution_count": 33,
   "id": "d11dd89e-6b3b-4ef8-a806-7d03b7d63d39",
   "metadata": {},
   "outputs": [
    {
     "name": "stdout",
     "output_type": "stream",
     "text": [
      "C:\\some\\name\\app\n"
     ]
    }
   ],
   "source": [
    "print(r'C:\\some\\name\\app')"
   ]
  },
  {
   "cell_type": "code",
   "execution_count": 34,
   "id": "423ebaea-7a2e-4460-81d7-9f8a3368a980",
   "metadata": {},
   "outputs": [
    {
     "name": "stdout",
     "output_type": "stream",
     "text": [
      " \n",
      "    a = apple\n",
      "    b = ball\n",
      "    c = cat\n"
     ]
    }
   ],
   "source": [
    "print(''' \n",
    "    a = apple\n",
    "    b = ball\n",
    "    c = cat''')"
   ]
  },
  {
   "cell_type": "code",
   "execution_count": 36,
   "id": "edad6b26-f5b8-4a9a-a795-580374178ce3",
   "metadata": {},
   "outputs": [],
   "source": [
    "a = 'apple'\n",
    "b = 'ball'\n",
    "c = 'cat'"
   ]
  },
  {
   "cell_type": "code",
   "execution_count": 37,
   "id": "3edd8a99-854d-441c-a8d1-4d8a692ea521",
   "metadata": {},
   "outputs": [
    {
     "data": {
      "text/plain": [
       "'appleball'"
      ]
     },
     "execution_count": 37,
     "metadata": {},
     "output_type": "execute_result"
    }
   ],
   "source": [
    "a + b"
   ]
  },
  {
   "cell_type": "code",
   "execution_count": 38,
   "id": "4519b5d0-9187-454b-ad50-bab58e8810c8",
   "metadata": {},
   "outputs": [
    {
     "data": {
      "text/plain": [
       "'appleappleappleball'"
      ]
     },
     "execution_count": 38,
     "metadata": {},
     "output_type": "execute_result"
    }
   ],
   "source": [
    "a*3 + b*1"
   ]
  },
  {
   "cell_type": "code",
   "execution_count": 39,
   "id": "c3515145-6801-4d21-b0c1-cf599bc9eee3",
   "metadata": {},
   "outputs": [
    {
     "data": {
      "text/plain": [
       "'applecustard'"
      ]
     },
     "execution_count": 39,
     "metadata": {},
     "output_type": "execute_result"
    }
   ],
   "source": [
    "a + 'custard'"
   ]
  },
  {
   "cell_type": "code",
   "execution_count": 40,
   "id": "d3661e22-112e-41d3-99cd-2761a0c38a59",
   "metadata": {},
   "outputs": [
    {
     "ename": "TypeError",
     "evalue": "can't multiply sequence by non-int of type 'str'",
     "output_type": "error",
     "traceback": [
      "\u001b[1;31m---------------------------------------------------------------------------\u001b[0m",
      "\u001b[1;31mTypeError\u001b[0m                                 Traceback (most recent call last)",
      "Cell \u001b[1;32mIn[40], line 1\u001b[0m\n\u001b[1;32m----> 1\u001b[0m a \u001b[38;5;241m*\u001b[39m \u001b[38;5;124m'\u001b[39m\u001b[38;5;124mpine\u001b[39m\u001b[38;5;124m'\u001b[39m\n",
      "\u001b[1;31mTypeError\u001b[0m: can't multiply sequence by non-int of type 'str'"
     ]
    }
   ],
   "source": [
    "a * 'pine'"
   ]
  },
  {
   "cell_type": "code",
   "execution_count": 41,
   "id": "c7b84d42-c203-4ea7-b884-1338e639ca6f",
   "metadata": {},
   "outputs": [
    {
     "ename": "SyntaxError",
     "evalue": "invalid syntax (3439205337.py, line 1)",
     "output_type": "error",
     "traceback": [
      "\u001b[1;36m  Cell \u001b[1;32mIn[41], line 1\u001b[1;36m\u001b[0m\n\u001b[1;33m    a 'custard'\u001b[0m\n\u001b[1;37m      ^\u001b[0m\n\u001b[1;31mSyntaxError\u001b[0m\u001b[1;31m:\u001b[0m invalid syntax\n"
     ]
    }
   ],
   "source": [
    "a 'custard'"
   ]
  },
  {
   "cell_type": "code",
   "execution_count": 42,
   "id": "9c74ef16-6ffb-4a7a-9038-2e37c1869f84",
   "metadata": {},
   "outputs": [
    {
     "data": {
      "text/plain": [
       "'apple'"
      ]
     },
     "execution_count": 42,
     "metadata": {},
     "output_type": "execute_result"
    }
   ],
   "source": [
    "a"
   ]
  },
  {
   "cell_type": "code",
   "execution_count": 43,
   "id": "4fa31118-b33b-4d49-9a53-f2695fedbdda",
   "metadata": {},
   "outputs": [
    {
     "data": {
      "text/plain": [
       "'a'"
      ]
     },
     "execution_count": 43,
     "metadata": {},
     "output_type": "execute_result"
    }
   ],
   "source": [
    "a[0]"
   ]
  },
  {
   "cell_type": "code",
   "execution_count": 44,
   "id": "86f23c8e-bad2-4138-8a3d-bb48e6865e28",
   "metadata": {},
   "outputs": [
    {
     "data": {
      "text/plain": [
       "'p'"
      ]
     },
     "execution_count": 44,
     "metadata": {},
     "output_type": "execute_result"
    }
   ],
   "source": [
    "a[1]"
   ]
  },
  {
   "cell_type": "code",
   "execution_count": 45,
   "id": "2c5e95fe-2c4a-4e9a-a3c6-e205a25710f3",
   "metadata": {},
   "outputs": [
    {
     "ename": "IndexError",
     "evalue": "string index out of range",
     "output_type": "error",
     "traceback": [
      "\u001b[1;31m---------------------------------------------------------------------------\u001b[0m",
      "\u001b[1;31mIndexError\u001b[0m                                Traceback (most recent call last)",
      "Cell \u001b[1;32mIn[45], line 1\u001b[0m\n\u001b[1;32m----> 1\u001b[0m a[\u001b[38;5;241m7\u001b[39m]\n",
      "\u001b[1;31mIndexError\u001b[0m: string index out of range"
     ]
    }
   ],
   "source": [
    "a[7]"
   ]
  },
  {
   "cell_type": "code",
   "execution_count": 46,
   "id": "2d03de0b-11f0-4661-ac82-6aa3a50981bf",
   "metadata": {},
   "outputs": [
    {
     "ename": "IndexError",
     "evalue": "string index out of range",
     "output_type": "error",
     "traceback": [
      "\u001b[1;31m---------------------------------------------------------------------------\u001b[0m",
      "\u001b[1;31mIndexError\u001b[0m                                Traceback (most recent call last)",
      "Cell \u001b[1;32mIn[46], line 1\u001b[0m\n\u001b[1;32m----> 1\u001b[0m a[\u001b[38;5;241m5\u001b[39m]\n",
      "\u001b[1;31mIndexError\u001b[0m: string index out of range"
     ]
    }
   ],
   "source": [
    "a[5]"
   ]
  },
  {
   "cell_type": "code",
   "execution_count": 47,
   "id": "7d6296e6-5886-45c4-9781-b0336f355db1",
   "metadata": {},
   "outputs": [
    {
     "data": {
      "text/plain": [
       "5"
      ]
     },
     "execution_count": 47,
     "metadata": {},
     "output_type": "execute_result"
    }
   ],
   "source": [
    "len(a)"
   ]
  },
  {
   "cell_type": "code",
   "execution_count": 48,
   "id": "aae2ec1a-09e2-4cd7-9d8d-aab57fa65b75",
   "metadata": {},
   "outputs": [
    {
     "data": {
      "text/plain": [
       "'e'"
      ]
     },
     "execution_count": 48,
     "metadata": {},
     "output_type": "execute_result"
    }
   ],
   "source": [
    "a[-1]"
   ]
  },
  {
   "cell_type": "code",
   "execution_count": 49,
   "id": "f030379a-60d0-4de7-8aa4-8a12390a95b7",
   "metadata": {},
   "outputs": [
    {
     "data": {
      "text/plain": [
       "'p'"
      ]
     },
     "execution_count": 49,
     "metadata": {},
     "output_type": "execute_result"
    }
   ],
   "source": [
    "a[-4]"
   ]
  },
  {
   "cell_type": "code",
   "execution_count": 50,
   "id": "01eb4af6-9179-4e05-94d6-510ae8bad1fc",
   "metadata": {},
   "outputs": [
    {
     "data": {
      "text/plain": [
       "'a'"
      ]
     },
     "execution_count": 50,
     "metadata": {},
     "output_type": "execute_result"
    }
   ],
   "source": [
    "a[-5]"
   ]
  },
  {
   "cell_type": "code",
   "execution_count": 51,
   "id": "ea28ccaf-f006-4314-ab03-044f5fcfa810",
   "metadata": {},
   "outputs": [
    {
     "data": {
      "text/plain": [
       "'ap'"
      ]
     },
     "execution_count": 51,
     "metadata": {},
     "output_type": "execute_result"
    }
   ],
   "source": [
    "a[:2]"
   ]
  },
  {
   "cell_type": "code",
   "execution_count": 52,
   "id": "16d00448-100a-4986-bf0e-5c648d5f241c",
   "metadata": {},
   "outputs": [
    {
     "data": {
      "text/plain": [
       "'e'"
      ]
     },
     "execution_count": 52,
     "metadata": {},
     "output_type": "execute_result"
    }
   ],
   "source": [
    "a[4:]"
   ]
  },
  {
   "cell_type": "code",
   "execution_count": 53,
   "id": "0e17ebef-72f9-450d-b403-cfeabdbb0b80",
   "metadata": {},
   "outputs": [],
   "source": [
    "word = 'Expecto Patronum'"
   ]
  },
  {
   "cell_type": "code",
   "execution_count": 54,
   "id": "4f8afeef-6c3c-4958-8f36-089cfb354d79",
   "metadata": {},
   "outputs": [
    {
     "data": {
      "text/plain": [
       "'Ex'"
      ]
     },
     "execution_count": 54,
     "metadata": {},
     "output_type": "execute_result"
    }
   ],
   "source": [
    "word[:2]"
   ]
  },
  {
   "cell_type": "code",
   "execution_count": 55,
   "id": "3174b34d-d209-4e13-a122-2131d0666471",
   "metadata": {},
   "outputs": [
    {
     "data": {
      "text/plain": [
       "'cto Patronum'"
      ]
     },
     "execution_count": 55,
     "metadata": {},
     "output_type": "execute_result"
    }
   ],
   "source": [
    "word[4:]"
   ]
  },
  {
   "cell_type": "code",
   "execution_count": 56,
   "id": "f9a27097-065c-450e-8281-8ac2215e69f0",
   "metadata": {},
   "outputs": [
    {
     "data": {
      "text/plain": [
       "'o Patronum'"
      ]
     },
     "execution_count": 56,
     "metadata": {},
     "output_type": "execute_result"
    }
   ],
   "source": [
    "word[6:]"
   ]
  },
  {
   "cell_type": "code",
   "execution_count": 57,
   "id": "5df3f57c-8ac9-4d85-9457-6dff8865495d",
   "metadata": {},
   "outputs": [
    {
     "data": {
      "text/plain": [
       "' Patronum'"
      ]
     },
     "execution_count": 57,
     "metadata": {},
     "output_type": "execute_result"
    }
   ],
   "source": [
    "word[7:]"
   ]
  },
  {
   "cell_type": "code",
   "execution_count": 58,
   "id": "c5eff0af-6766-43b8-b19b-f3c60285024d",
   "metadata": {},
   "outputs": [
    {
     "data": {
      "text/plain": [
       "'um'"
      ]
     },
     "execution_count": 58,
     "metadata": {},
     "output_type": "execute_result"
    }
   ],
   "source": [
    "word[-2:]"
   ]
  },
  {
   "cell_type": "code",
   "execution_count": 59,
   "id": "e8502d82-c7dd-4740-b87c-f83a518f192a",
   "metadata": {},
   "outputs": [
    {
     "data": {
      "text/plain": [
       "'Expecto Patronum'"
      ]
     },
     "execution_count": 59,
     "metadata": {},
     "output_type": "execute_result"
    }
   ],
   "source": [
    "word[:2] + word[2:]"
   ]
  },
  {
   "cell_type": "code",
   "execution_count": 60,
   "id": "1d92bb9d-f95e-4e73-b018-8fde52cd41cd",
   "metadata": {},
   "outputs": [
    {
     "data": {
      "text/plain": [
       "'cto Patronum'"
      ]
     },
     "execution_count": 60,
     "metadata": {},
     "output_type": "execute_result"
    }
   ],
   "source": [
    "word[4:19]"
   ]
  },
  {
   "cell_type": "code",
   "execution_count": 61,
   "id": "3f70e4b4-7236-4ae0-ae9e-2498e1a69a68",
   "metadata": {},
   "outputs": [
    {
     "data": {
      "text/plain": [
       "''"
      ]
     },
     "execution_count": 61,
     "metadata": {},
     "output_type": "execute_result"
    }
   ],
   "source": [
    "word[30:50]"
   ]
  },
  {
   "cell_type": "code",
   "execution_count": 62,
   "id": "23552096-c9b3-44cb-a617-a8b7c5b0c380",
   "metadata": {},
   "outputs": [
    {
     "data": {
      "text/plain": [
       "'Expecto Patronum'"
      ]
     },
     "execution_count": 62,
     "metadata": {},
     "output_type": "execute_result"
    }
   ],
   "source": [
    "word"
   ]
  },
  {
   "cell_type": "code",
   "execution_count": 63,
   "id": "b982a79f-bbf3-45b2-8023-96d6d9aa1ca9",
   "metadata": {},
   "outputs": [
    {
     "ename": "TypeError",
     "evalue": "'str' object does not support item assignment",
     "output_type": "error",
     "traceback": [
      "\u001b[1;31m---------------------------------------------------------------------------\u001b[0m",
      "\u001b[1;31mTypeError\u001b[0m                                 Traceback (most recent call last)",
      "Cell \u001b[1;32mIn[63], line 1\u001b[0m\n\u001b[1;32m----> 1\u001b[0m word[\u001b[38;5;241m0\u001b[39m] \u001b[38;5;241m=\u001b[39m \u001b[38;5;124m'\u001b[39m\u001b[38;5;124mS\u001b[39m\u001b[38;5;124m'\u001b[39m\n",
      "\u001b[1;31mTypeError\u001b[0m: 'str' object does not support item assignment"
     ]
    }
   ],
   "source": [
    "word[0] = 'S'"
   ]
  },
  {
   "cell_type": "code",
   "execution_count": 64,
   "id": "dc6eb001-bc1c-4cd0-987a-106c20f3385b",
   "metadata": {},
   "outputs": [
    {
     "data": {
      "text/plain": [
       "'Sxpecto Patronum'"
      ]
     },
     "execution_count": 64,
     "metadata": {},
     "output_type": "execute_result"
    }
   ],
   "source": [
    "'S' + word[1:]"
   ]
  },
  {
   "cell_type": "code",
   "execution_count": 65,
   "id": "aece44b5-69bf-4949-b723-a1b1c51177c5",
   "metadata": {},
   "outputs": [
    {
     "data": {
      "text/plain": [
       "16"
      ]
     },
     "execution_count": 65,
     "metadata": {},
     "output_type": "execute_result"
    }
   ],
   "source": [
    "len(word)"
   ]
  },
  {
   "cell_type": "code",
   "execution_count": 66,
   "id": "71d1dda5-ad91-4563-ae84-7e25f2bbc360",
   "metadata": {},
   "outputs": [
    {
     "data": {
      "text/plain": [
       "[1, 2, 3, 4, 5, 6]"
      ]
     },
     "execution_count": 66,
     "metadata": {},
     "output_type": "execute_result"
    }
   ],
   "source": [
    "magic = [1,2,3,4,5,6]\n",
    "magic"
   ]
  },
  {
   "cell_type": "code",
   "execution_count": 67,
   "id": "607afad5-20e3-4930-97f4-a10e900d0ce6",
   "metadata": {},
   "outputs": [
    {
     "data": {
      "text/plain": [
       "5"
      ]
     },
     "execution_count": 67,
     "metadata": {},
     "output_type": "execute_result"
    }
   ],
   "source": [
    "magic[4]"
   ]
  },
  {
   "cell_type": "code",
   "execution_count": 68,
   "id": "70f6a255-fbb9-40d8-97df-dd8a25bb6f43",
   "metadata": {},
   "outputs": [
    {
     "data": {
      "text/plain": [
       "1"
      ]
     },
     "execution_count": 68,
     "metadata": {},
     "output_type": "execute_result"
    }
   ],
   "source": [
    "magic[0]"
   ]
  },
  {
   "cell_type": "code",
   "execution_count": 69,
   "id": "dc42b74b-2162-403a-b7ab-dace53e4cdc3",
   "metadata": {},
   "outputs": [
    {
     "data": {
      "text/plain": [
       "6"
      ]
     },
     "execution_count": 69,
     "metadata": {},
     "output_type": "execute_result"
    }
   ],
   "source": [
    "len(magic)"
   ]
  },
  {
   "cell_type": "code",
   "execution_count": 70,
   "id": "f6756f7c-056a-4b6e-b1cb-91adbce5db2f",
   "metadata": {},
   "outputs": [
    {
     "data": {
      "text/plain": [
       "[1, 2, 3, 4, 5, 6, 22, 33, 44, 55, 66]"
      ]
     },
     "execution_count": 70,
     "metadata": {},
     "output_type": "execute_result"
    }
   ],
   "source": [
    "magic + [22,33,44,55,66]"
   ]
  },
  {
   "cell_type": "code",
   "execution_count": 71,
   "id": "84ccbad3-1fb4-44e5-b7c1-cca3ec2f55bc",
   "metadata": {},
   "outputs": [
    {
     "data": {
      "text/plain": [
       "[1, 2, 3, 4, 5, 6]"
      ]
     },
     "execution_count": 71,
     "metadata": {},
     "output_type": "execute_result"
    }
   ],
   "source": [
    "magic"
   ]
  },
  {
   "cell_type": "code",
   "execution_count": 73,
   "id": "38af6041-0f67-49d1-bc30-aee15bec6ef1",
   "metadata": {},
   "outputs": [
    {
     "data": {
      "text/plain": [
       "[1, 2, 3, 4, 5, 55]"
      ]
     },
     "execution_count": 73,
     "metadata": {},
     "output_type": "execute_result"
    }
   ],
   "source": [
    "magic[5] = 55\n",
    "magic"
   ]
  },
  {
   "cell_type": "code",
   "execution_count": 75,
   "id": "523167df-6770-47c3-84d0-0158f1511743",
   "metadata": {},
   "outputs": [
    {
     "data": {
      "text/plain": [
       "[1, 2, 3, 4, 5, 55, 19, 19]"
      ]
     },
     "execution_count": 75,
     "metadata": {},
     "output_type": "execute_result"
    }
   ],
   "source": [
    "magic.append(19)\n",
    "magic"
   ]
  },
  {
   "cell_type": "code",
   "execution_count": 76,
   "id": "16a87412-1b03-40eb-80c1-7db9f693122b",
   "metadata": {},
   "outputs": [],
   "source": [
    "magic.append(22)"
   ]
  },
  {
   "cell_type": "code",
   "execution_count": 77,
   "id": "db70d70b-7060-4744-9adb-4857752ed663",
   "metadata": {},
   "outputs": [
    {
     "data": {
      "text/plain": [
       "[1, 2, 3, 4, 5, 55, 19, 19, 22]"
      ]
     },
     "execution_count": 77,
     "metadata": {},
     "output_type": "execute_result"
    }
   ],
   "source": [
    "magic"
   ]
  },
  {
   "cell_type": "code",
   "execution_count": 78,
   "id": "c139dccf-a809-4f80-9684-30faf883b0e5",
   "metadata": {},
   "outputs": [],
   "source": [
    "rgb = [\"red\",\"green\",\"blue\"]"
   ]
  },
  {
   "cell_type": "code",
   "execution_count": 81,
   "id": "875a2a40-89ad-4627-8aa8-b2ab12d2b1ff",
   "metadata": {},
   "outputs": [
    {
     "data": {
      "text/plain": [
       "True"
      ]
     },
     "execution_count": 81,
     "metadata": {},
     "output_type": "execute_result"
    }
   ],
   "source": [
    "rgba = rgb\n",
    "id(rgba) == id(rgb) "
   ]
  },
  {
   "cell_type": "code",
   "execution_count": 82,
   "id": "71d058f9-ee32-4a2b-8239-cd22a7d2f9fa",
   "metadata": {},
   "outputs": [],
   "source": [
    "rgba.append(\"alpha\")"
   ]
  },
  {
   "cell_type": "code",
   "execution_count": 83,
   "id": "6ade3df9-64b3-4ddf-b9aa-dd0a76afe3d5",
   "metadata": {},
   "outputs": [],
   "source": [
    "correct = rgba[:]"
   ]
  },
  {
   "cell_type": "code",
   "execution_count": 84,
   "id": "874458d7-5a0b-48cf-ab7d-d9d5ab4d5675",
   "metadata": {},
   "outputs": [
    {
     "data": {
      "text/plain": [
       "['red', 'green', 'blue', 'alpha']"
      ]
     },
     "execution_count": 84,
     "metadata": {},
     "output_type": "execute_result"
    }
   ],
   "source": [
    "correct"
   ]
  },
  {
   "cell_type": "code",
   "execution_count": 85,
   "id": "4f72122f-ce5f-4c61-9f29-e23549f45b1d",
   "metadata": {},
   "outputs": [
    {
     "data": {
      "text/plain": [
       "['red', 'green', 'blue', 'alpha']"
      ]
     },
     "execution_count": 85,
     "metadata": {},
     "output_type": "execute_result"
    }
   ],
   "source": [
    "rgba"
   ]
  },
  {
   "cell_type": "code",
   "execution_count": 86,
   "id": "84b059cd-7695-499b-bb5a-6cfe32787c8d",
   "metadata": {},
   "outputs": [
    {
     "data": {
      "text/plain": [
       "'alpha'"
      ]
     },
     "execution_count": 86,
     "metadata": {},
     "output_type": "execute_result"
    }
   ],
   "source": [
    "correct[-1]"
   ]
  },
  {
   "cell_type": "code",
   "execution_count": 93,
   "id": "508d06db-cfee-4fd2-862a-062704afe0bc",
   "metadata": {},
   "outputs": [
    {
     "data": {
      "text/plain": [
       "7"
      ]
     },
     "execution_count": 93,
     "metadata": {},
     "output_type": "execute_result"
    }
   ],
   "source": [
    "letters = ['a','b','c','d','e','f','g']\n",
    "len(letters)"
   ]
  },
  {
   "cell_type": "code",
   "execution_count": 94,
   "id": "8a0864c1-0f9d-4714-855c-336b14efe300",
   "metadata": {},
   "outputs": [
    {
     "data": {
      "text/plain": [
       "['a', 'b', 'c', 'd', 'e', 'f', 'g']"
      ]
     },
     "execution_count": 94,
     "metadata": {},
     "output_type": "execute_result"
    }
   ],
   "source": [
    "letters"
   ]
  },
  {
   "cell_type": "code",
   "execution_count": 88,
   "id": "761735e2-3834-493d-a766-fe06b23f3b11",
   "metadata": {},
   "outputs": [],
   "source": [
    "letters[2:5]=['x','y','z']"
   ]
  },
  {
   "cell_type": "code",
   "execution_count": 89,
   "id": "e1f681a1-141f-457e-bca4-7efb7f7fd826",
   "metadata": {},
   "outputs": [
    {
     "data": {
      "text/plain": [
       "['a', 'b', 'x', 'y', 'z', 'f', 'g']"
      ]
     },
     "execution_count": 89,
     "metadata": {},
     "output_type": "execute_result"
    }
   ],
   "source": [
    "letters"
   ]
  },
  {
   "cell_type": "code",
   "execution_count": 90,
   "id": "b8514bec-3c24-4f09-86ee-03cd6f4b6a6d",
   "metadata": {},
   "outputs": [],
   "source": [
    "letters[2:5]=['s','u','s','p']"
   ]
  },
  {
   "cell_type": "code",
   "execution_count": 91,
   "id": "092d5d1f-8141-4192-a01a-e944bc682759",
   "metadata": {},
   "outputs": [
    {
     "data": {
      "text/plain": [
       "['a', 'b', 's', 'u', 's', 'p', 'f', 'g']"
      ]
     },
     "execution_count": 91,
     "metadata": {},
     "output_type": "execute_result"
    }
   ],
   "source": [
    "letters"
   ]
  },
  {
   "cell_type": "code",
   "execution_count": 92,
   "id": "ecee3288-2b15-40d7-b64f-8d8193b43737",
   "metadata": {},
   "outputs": [
    {
     "data": {
      "text/plain": [
       "8"
      ]
     },
     "execution_count": 92,
     "metadata": {},
     "output_type": "execute_result"
    }
   ],
   "source": [
    "len(letters)"
   ]
  },
  {
   "cell_type": "code",
   "execution_count": 95,
   "id": "31f9e4b6-eda0-4c8e-8bc8-b392c32a274d",
   "metadata": {},
   "outputs": [
    {
     "data": {
      "text/plain": [
       "[['a', 'v', 'x', 'y'], ['t', 'u', 'i']]"
      ]
     },
     "execution_count": 95,
     "metadata": {},
     "output_type": "execute_result"
    }
   ],
   "source": [
    "s = ['a','v','x','y']\n",
    "t = ['t','u','i']\n",
    "x = [s,t]\n",
    "x"
   ]
  },
  {
   "cell_type": "code",
   "execution_count": 96,
   "id": "7d37f1a2-fa59-4ee8-96dc-82f202a94b36",
   "metadata": {},
   "outputs": [
    {
     "data": {
      "text/plain": [
       "['a', 'v', 'x', 'y']"
      ]
     },
     "execution_count": 96,
     "metadata": {},
     "output_type": "execute_result"
    }
   ],
   "source": [
    "x[0]"
   ]
  },
  {
   "cell_type": "code",
   "execution_count": 97,
   "id": "a560f997-615a-4252-bad9-62ee2f1ebe1f",
   "metadata": {},
   "outputs": [
    {
     "data": {
      "text/plain": [
       "'v'"
      ]
     },
     "execution_count": 97,
     "metadata": {},
     "output_type": "execute_result"
    }
   ],
   "source": [
    "x[0][1]"
   ]
  },
  {
   "cell_type": "code",
   "execution_count": 98,
   "id": "b786d57e-d496-4fda-995d-69ca2f5a131d",
   "metadata": {},
   "outputs": [
    {
     "data": {
      "text/plain": [
       "'u'"
      ]
     },
     "execution_count": 98,
     "metadata": {},
     "output_type": "execute_result"
    }
   ],
   "source": [
    "x[1][1]"
   ]
  },
  {
   "cell_type": "code",
   "execution_count": 99,
   "id": "21696aae-10f9-48bd-82d7-88e258e3e0fd",
   "metadata": {},
   "outputs": [
    {
     "ename": "IndexError",
     "evalue": "list index out of range",
     "output_type": "error",
     "traceback": [
      "\u001b[1;31m---------------------------------------------------------------------------\u001b[0m",
      "\u001b[1;31mIndexError\u001b[0m                                Traceback (most recent call last)",
      "Cell \u001b[1;32mIn[99], line 1\u001b[0m\n\u001b[1;32m----> 1\u001b[0m x[\u001b[38;5;241m5\u001b[39m][\u001b[38;5;241m4\u001b[39m]\n",
      "\u001b[1;31mIndexError\u001b[0m: list index out of range"
     ]
    }
   ],
   "source": [
    "x[5][4]"
   ]
  },
  {
   "cell_type": "code",
   "execution_count": 100,
   "id": "fbd952c1-64d3-4179-95a6-bee02bb0c732",
   "metadata": {},
   "outputs": [
    {
     "name": "stdout",
     "output_type": "stream",
     "text": [
      "0\n",
      "1\n",
      "1\n",
      "2\n",
      "3\n",
      "5\n",
      "8\n"
     ]
    }
   ],
   "source": [
    "q,r = 0,1\n",
    "while q < 10:\n",
    "    print(q)\n",
    "    q,r = r,q+r"
   ]
  },
  {
   "cell_type": "code",
   "execution_count": 101,
   "id": "7285e832-0d83-415f-8524-7dcda886cfee",
   "metadata": {},
   "outputs": [
    {
     "name": "stdout",
     "output_type": "stream",
     "text": [
      "The value of i is 676\n"
     ]
    }
   ],
   "source": [
    "i = 254+422\n",
    "print('The value of i is',i)"
   ]
  },
  {
   "cell_type": "code",
   "execution_count": 104,
   "id": "857bc23a-0e73-4142-bfe1-2c2ce209eb32",
   "metadata": {},
   "outputs": [
    {
     "name": "stdout",
     "output_type": "stream",
     "text": [
      "0,1,1,2,3,5,8,13,21,34,55,89,144,233,377,610,987,"
     ]
    }
   ],
   "source": [
    "a,b = 0,1\n",
    "while a<1000:\n",
    "    print(a,end=',')\n",
    "    a,b = b,a+b"
   ]
  },
  {
   "cell_type": "code",
   "execution_count": null,
   "id": "4f382326-2d4c-4657-b772-adf85c70e89f",
   "metadata": {},
   "outputs": [],
   "source": []
  }
 ],
 "metadata": {
  "kernelspec": {
   "display_name": "Python [conda env:base] *",
   "language": "python",
   "name": "conda-base-py"
  },
  "language_info": {
   "codemirror_mode": {
    "name": "ipython",
    "version": 3
   },
   "file_extension": ".py",
   "mimetype": "text/x-python",
   "name": "python",
   "nbconvert_exporter": "python",
   "pygments_lexer": "ipython3",
   "version": "3.12.7"
  }
 },
 "nbformat": 4,
 "nbformat_minor": 5
}

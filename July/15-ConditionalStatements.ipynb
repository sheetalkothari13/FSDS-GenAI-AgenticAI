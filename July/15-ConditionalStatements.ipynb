{
 "cells": [
  {
   "cell_type": "markdown",
   "id": "2814c448-597f-402c-986d-fdd51b7a645d",
   "metadata": {},
   "source": [
    "# Conditional Statements "
   ]
  },
  {
   "cell_type": "markdown",
   "id": "03cf8e02-03cc-487a-b45d-8d3b35f535c4",
   "metadata": {},
   "source": [
    "### In Python, any conditional statement ends with ':' (proper indentation must be followed while working through loops)."
   ]
  },
  {
   "cell_type": "code",
   "execution_count": 1,
   "id": "45b7ee63-f238-4f66-b64e-43343fc415f9",
   "metadata": {},
   "outputs": [
    {
     "name": "stdout",
     "output_type": "stream",
     "text": [
      "Hello SHeet\n"
     ]
    }
   ],
   "source": [
    "if True:\n",
    "    print('Hello SHeet')"
   ]
  },
  {
   "cell_type": "code",
   "execution_count": 2,
   "id": "4d6cc92b-5757-4382-85c3-a84e8ea1c970",
   "metadata": {},
   "outputs": [],
   "source": [
    "if False:\n",
    "    print('HEyo')"
   ]
  },
  {
   "cell_type": "code",
   "execution_count": 3,
   "id": "5d49eb68-a8ea-47ca-9ad1-0465d3ea9c38",
   "metadata": {},
   "outputs": [
    {
     "name": "stdout",
     "output_type": "stream",
     "text": [
      "Zigzagg\n",
      "zapzoop\n"
     ]
    }
   ],
   "source": [
    "if True :\n",
    "    print('Zigzagg')\n",
    "print('zapzoop')"
   ]
  },
  {
   "cell_type": "code",
   "execution_count": 4,
   "id": "03d2e866-13f1-46aa-94b7-74bd13c8c492",
   "metadata": {},
   "outputs": [
    {
     "name": "stdout",
     "output_type": "stream",
     "text": [
      "Bye broo\n"
     ]
    }
   ],
   "source": [
    "if False:\n",
    "    print('SH...')\n",
    "print('Bye broo')"
   ]
  },
  {
   "cell_type": "code",
   "execution_count": 5,
   "id": "618d860c-09fd-476e-b776-da11377bf39b",
   "metadata": {},
   "outputs": [
    {
     "name": "stdout",
     "output_type": "stream",
     "text": [
      "This is true\n"
     ]
    }
   ],
   "source": [
    "if True:\n",
    "    print(\"This is true\")\n",
    "else:\n",
    "    print('Tnis is false')"
   ]
  },
  {
   "cell_type": "code",
   "execution_count": 6,
   "id": "734016f2-145c-43f4-9495-af7dfe9c0176",
   "metadata": {},
   "outputs": [
    {
     "name": "stdout",
     "output_type": "stream",
     "text": [
      "even\n"
     ]
    }
   ],
   "source": [
    "# Evan - Odd\n",
    "x = 4\n",
    "r = x % 2\n",
    "if r == 0:\n",
    "    print('even')\n",
    "else:\n",
    "    print('odd')"
   ]
  },
  {
   "cell_type": "code",
   "execution_count": 7,
   "id": "b0de9000-1b4d-42d8-8e3c-dbc0d5011991",
   "metadata": {},
   "outputs": [
    {
     "name": "stdout",
     "output_type": "stream",
     "text": [
      "odd\n"
     ]
    }
   ],
   "source": [
    "x = 7\n",
    "r = x % 2\n",
    "if r == 0:\n",
    "    print('evev')\n",
    "else:\n",
    "    print('odd')"
   ]
  },
  {
   "cell_type": "code",
   "execution_count": 8,
   "id": "59fe343a-93f3-4ab4-bfad-808d476bafda",
   "metadata": {},
   "outputs": [
    {
     "name": "stdin",
     "output_type": "stream",
     "text": [
      "enter the number: 7\n"
     ]
    },
    {
     "name": "stdout",
     "output_type": "stream",
     "text": [
      "odd\n"
     ]
    }
   ],
   "source": [
    "x = int(input('enter the number:'))\n",
    "r = x % 2\n",
    "if r == 0:\n",
    "    print('even')\n",
    "else:\n",
    "    print('odd')"
   ]
  },
  {
   "cell_type": "code",
   "execution_count": 9,
   "id": "4905096b-9004-4fb8-a8fa-06c67fef181a",
   "metadata": {},
   "outputs": [
    {
     "name": "stdin",
     "output_type": "stream",
     "text": [
      "eter the number: 7\n"
     ]
    },
    {
     "name": "stdout",
     "output_type": "stream",
     "text": [
      "odd\n",
      "smaller than 10 odd number\n"
     ]
    }
   ],
   "source": [
    "x = int(input('eter the number:'))     #nested if \n",
    "r = x % 2\n",
    "\n",
    "if r == 0:\n",
    "    print('Even')\n",
    "    if x>5:\n",
    "        print('greater than 5')\n",
    "    else:\n",
    "        print('less than 5')\n",
    "else:\n",
    "    print('odd')\n",
    "    if x>10:\n",
    "        print('greater than 10 odd number')\n",
    "    else:\n",
    "        print('smaller than 10 odd number')\n"
   ]
  },
  {
   "cell_type": "code",
   "execution_count": 10,
   "id": "a7ca8c52-039b-4ea8-93f6-589a68ecd67f",
   "metadata": {},
   "outputs": [
    {
     "name": "stdout",
     "output_type": "stream",
     "text": [
      "four\n"
     ]
    }
   ],
   "source": [
    "x = 4\n",
    "\n",
    "if x == 1:\n",
    "    print('one')\n",
    "if x == 2:\n",
    "    print('Two')\n",
    "if x == 3:\n",
    "    print('Three')\n",
    "if x == 4:\n",
    "    print('four')"
   ]
  },
  {
   "cell_type": "code",
   "execution_count": 11,
   "id": "360c854d-6b7d-4242-b126-c96705e99022",
   "metadata": {},
   "outputs": [
    {
     "name": "stdout",
     "output_type": "stream",
     "text": [
      "greater than four\n"
     ]
    }
   ],
   "source": [
    "x = 7\n",
    "\n",
    "if x == 1:\n",
    "    print('one')\n",
    "elif x == 2:\n",
    "    print('Two')\n",
    "elif x == 3:\n",
    "    print('Three')\n",
    "elif x == 4:\n",
    "    print('four')\n",
    "else:\n",
    "    print('greater than four')"
   ]
  },
  {
   "cell_type": "code",
   "execution_count": 12,
   "id": "8b29b419-a9b9-425e-8034-e09459522f6b",
   "metadata": {},
   "outputs": [
    {
     "name": "stdin",
     "output_type": "stream",
     "text": [
      "Enter a number:  -10\n"
     ]
    },
    {
     "name": "stdout",
     "output_type": "stream",
     "text": [
      "Negative\n"
     ]
    }
   ],
   "source": [
    "num = int(input(\"Enter a number: \"))\n",
    "\n",
    "if num > 0:\n",
    "    print(\"Positive\")\n",
    "elif num < 0:\n",
    "    print(\"Negative\")\n",
    "else:\n",
    "    print(\"Zero\")"
   ]
  },
  {
   "cell_type": "code",
   "execution_count": 13,
   "id": "62801996-f2e2-497b-8313-cc1d4045dec5",
   "metadata": {},
   "outputs": [
    {
     "name": "stdin",
     "output_type": "stream",
     "text": [
      "Enter Age: 90\n"
     ]
    },
    {
     "name": "stdout",
     "output_type": "stream",
     "text": [
      "Senior Citizen\n"
     ]
    }
   ],
   "source": [
    "age = int(input('Enter Age:'))\n",
    "if age >= 60:\n",
    "    print('Senior Citizen')\n",
    "elif age >= 35:\n",
    "    print(\"Adult\")\n",
    "elif age >= 20:\n",
    "    print(\"Young Adult\")\n",
    "elif age >= 13:\n",
    "    print('Teenage')\n",
    "elif age >=1:\n",
    "    print('Child')\n",
    "else:\n",
    "    print('Give valid age input')\n",
    "    "
   ]
  },
  {
   "cell_type": "code",
   "execution_count": 14,
   "id": "3b280bc7-9346-4ec1-ad19-b7e0c9117e5b",
   "metadata": {},
   "outputs": [
    {
     "name": "stdin",
     "output_type": "stream",
     "text": [
      "Enter Age: 10\n",
      "Enter True/False True\n"
     ]
    },
    {
     "name": "stdout",
     "output_type": "stream",
     "text": [
      "Child\n",
      "Wowww!!!30% Child discount!\n"
     ]
    }
   ],
   "source": [
    "age = int(input('Enter Age:'))\n",
    "member = input('Enter True/False')\n",
    "is_member = bool(member)\n",
    "\n",
    "if age >= 60:\n",
    "    print('Senior Citizen')\n",
    "    if is_member:\n",
    "        print(\"Wowww!!!30% senior discount!\")\n",
    "    else:\n",
    "         print(\"Wowww!!!20% senior discount.\")\n",
    "elif age >= 35:\n",
    "    print(\"Adult\")\n",
    "elif age >= 20:\n",
    "    print(\"Young Adult\")\n",
    "elif age >= 13:\n",
    "    print('Teenage')\n",
    "    if is_member:\n",
    "        print(\"Wowww!!!10% Teen discount!\")\n",
    "elif age >=1:\n",
    "    print('Child')\n",
    "    if is_member:\n",
    "        print(\"Wowww!!!30% Child discount!\")\n",
    "    else:\n",
    "         print(\"Wowww!!!15% Child discount.\")\n",
    "else:\n",
    "    print('Give valid age input')"
   ]
  },
  {
   "cell_type": "code",
   "execution_count": 15,
   "id": "7832fe68-ec46-4f3a-899a-387da85319fc",
   "metadata": {},
   "outputs": [
    {
     "name": "stdout",
     "output_type": "stream",
     "text": [
      "too Young\n"
     ]
    }
   ],
   "source": [
    "#ternary Condition Statement\n",
    "age = 5\n",
    "s = \"Adult\" if age>35 else \"too Young\"\n",
    "\n",
    "print(s)"
   ]
  },
  {
   "cell_type": "markdown",
   "id": "0e20143b-3c8d-4e31-925f-d623769e14d8",
   "metadata": {},
   "source": [
    "# Problems :-"
   ]
  },
  {
   "cell_type": "markdown",
   "id": "73bdd5c6-9b46-47b4-b398-b630a186996b",
   "metadata": {},
   "source": [
    "#### 1. If conditional statement- Python"
   ]
  },
  {
   "cell_type": "code",
   "execution_count": 16,
   "id": "423c8571-22cb-4159-a5a6-5be616ef7da6",
   "metadata": {},
   "outputs": [
    {
     "name": "stdout",
     "output_type": "stream",
     "text": [
      "False\n",
      "You are in trouble.\n"
     ]
    }
   ],
   "source": [
    "j_angry = True \n",
    "s_angry = False\n",
    "\n",
    "if j_angry and s_angry :\n",
    "    print(True)\n",
    "    print('You are not in trouble.')\n",
    "else:\n",
    "    print(False)\n",
    "    print('You are in trouble.')"
   ]
  },
  {
   "cell_type": "code",
   "execution_count": 17,
   "id": "98ab5557-29b0-4098-931a-75cfa63cb4e0",
   "metadata": {},
   "outputs": [
    {
     "name": "stdout",
     "output_type": "stream",
     "text": [
      "True\n",
      "You are not in trouble.\n"
     ]
    }
   ],
   "source": [
    "j_angry = True \n",
    "s_angry = True\n",
    "\n",
    "if j_angry and s_angry :\n",
    "    print(True)\n",
    "    print('You are not in trouble.')\n",
    "else:\n",
    "    print(False)\n",
    "    print('You are in trouble.')"
   ]
  },
  {
   "cell_type": "markdown",
   "id": "f9ee9e53-ec85-45c5-a817-4a0ae7adeb07",
   "metadata": {},
   "source": [
    "#### 2. Mark Even and odd"
   ]
  },
  {
   "cell_type": "code",
   "execution_count": 18,
   "id": "9bc773cf-4161-4b09-8988-57f632603eba",
   "metadata": {},
   "outputs": [
    {
     "name": "stdin",
     "output_type": "stream",
     "text": [
      " 4\n"
     ]
    },
    {
     "name": "stdout",
     "output_type": "stream",
     "text": [
      "Even\n"
     ]
    }
   ],
   "source": [
    "x = int(input()) \n",
    "if (x % 2 == 0):\n",
    "    print('Even')\n",
    "else:\n",
    "    print('Odd')"
   ]
  },
  {
   "cell_type": "markdown",
   "id": "7abbd550-7415-4fc2-8565-743375fd3748",
   "metadata": {},
   "source": [
    "#### 3. Check the Status"
   ]
  },
  {
   "cell_type": "code",
   "execution_count": 19,
   "id": "2d9ba832-2d8e-431f-b19f-bad1654b3691",
   "metadata": {},
   "outputs": [
    {
     "name": "stdin",
     "output_type": "stream",
     "text": [
      "a: 1\n",
      "b: -1\n",
      "flag (1 for True, 0 for False):  0\n"
     ]
    },
    {
     "name": "stdout",
     "output_type": "stream",
     "text": [
      "True\n"
     ]
    }
   ],
   "source": [
    "a = int(input('a:'))\n",
    "b = int(input('b:'))\n",
    "flag = bool(int(input('flag (1 for True, 0 for False): ')))   \n",
    "\n",
    "if (((a>=0) or (b>=0)) and not flag):\n",
    "    print('True')\n",
    "elif(((a<0) and (b<0)) and (flag == True)):\n",
    "    print('True')\n",
    "else:\n",
    "    print('False')\n",
    "\n",
    "# int ka bool mai convert kar saktey hai with 1/0, \n",
    "# but string ko bool mai convert karrey tho what happens is when there is some values \n",
    "# it becomes true, and no values it then becomes false"
   ]
  },
  {
   "cell_type": "code",
   "execution_count": 20,
   "id": "fe08795d-f2d3-4352-b98a-b3411b9c358f",
   "metadata": {},
   "outputs": [
    {
     "name": "stdin",
     "output_type": "stream",
     "text": [
      "a: -182\n",
      "b: -9121\n",
      "flag (1 for True, 0 for False):  1\n"
     ]
    },
    {
     "name": "stdout",
     "output_type": "stream",
     "text": [
      "True\n"
     ]
    }
   ],
   "source": [
    "a = int(input('a:'))\n",
    "b = int(input('b:'))\n",
    "flag = bool(int(input('flag (1 for True, 0 for False): ')))\n",
    "\n",
    "if (((a>=0) or (b>=0)) and (flag == False)):\n",
    "    print('True')\n",
    "elif(((a<0) and (b<0)) and (flag == True)):\n",
    "    print('True')\n",
    "else:\n",
    "    print('False')"
   ]
  },
  {
   "cell_type": "code",
   "execution_count": 21,
   "id": "f03955ae-cce0-48ca-a82d-57fdb800f7d4",
   "metadata": {},
   "outputs": [
    {
     "name": "stdin",
     "output_type": "stream",
     "text": [
      "a: 5\n",
      "b: 3\n",
      "flag (1 for True, 0 for False):  1\n"
     ]
    },
    {
     "name": "stdout",
     "output_type": "stream",
     "text": [
      "False\n"
     ]
    }
   ],
   "source": [
    "a = int(input('a:'))\n",
    "b = int(input('b:'))\n",
    "flag = bool(int(input('flag (1 for True, 0 for False): ')))\n",
    "\n",
    "if (((a>=0) or (b>=0)) and (flag == False)):\n",
    "    print('True')\n",
    "elif(((a<0) and (b<0)) and (flag == True)):\n",
    "    print('True')\n",
    "else:\n",
    "    print('False')"
   ]
  },
  {
   "cell_type": "markdown",
   "id": "fe5e7a17-b314-4a5b-9010-11556fbd2519",
   "metadata": {},
   "source": [
    "#### 4. Cat and Hat"
   ]
  },
  {
   "cell_type": "code",
   "execution_count": 22,
   "id": "5a0ce141-37fe-431b-b300-773afef04bdc",
   "metadata": {},
   "outputs": [
    {
     "name": "stdin",
     "output_type": "stream",
     "text": [
      " catinahat\n"
     ]
    },
    {
     "name": "stdout",
     "output_type": "stream",
     "text": [
      "True\n"
     ]
    }
   ],
   "source": [
    "s = input()\n",
    "cnt_cat = s.count('cat')\n",
    "cnt_hat = s.count('hat')\n",
    "\n",
    "if cnt_cat == cnt_hat:\n",
    "    print('True')\n",
    "else:\n",
    "    print('False')\n",
    "                \n",
    "            "
   ]
  },
  {
   "cell_type": "code",
   "execution_count": 23,
   "id": "0821433b-89d8-458e-abe0-d13393cf1786",
   "metadata": {},
   "outputs": [
    {
     "name": "stdin",
     "output_type": "stream",
     "text": [
      " bazingaa\n"
     ]
    },
    {
     "name": "stdout",
     "output_type": "stream",
     "text": [
      "True\n"
     ]
    }
   ],
   "source": [
    "s = input()\n",
    "cnt_cat = s.count('cat')\n",
    "cnt_hat = s.count('hat')\n",
    "\n",
    "if cnt_cat == cnt_hat:\n",
    "    print('True')\n",
    "else:\n",
    "    print('False')\n",
    "       "
   ]
  },
  {
   "cell_type": "code",
   "execution_count": 24,
   "id": "9b0427c8-ce55-41d1-98e3-956edf448858",
   "metadata": {},
   "outputs": [
    {
     "name": "stdin",
     "output_type": "stream",
     "text": [
      " catooooho\n"
     ]
    },
    {
     "name": "stdout",
     "output_type": "stream",
     "text": [
      "False\n"
     ]
    }
   ],
   "source": [
    "s = input()\n",
    "cnt_cat = s.count('cat')\n",
    "cnt_hat = s.count('hat')\n",
    "\n",
    "if cnt_cat == cnt_hat:\n",
    "    print('True')\n",
    "else:\n",
    "    print('False')\n",
    "       "
   ]
  },
  {
   "cell_type": "markdown",
   "id": "9195067d-0ed5-47da-b274-2d92dc1de7d4",
   "metadata": {},
   "source": [
    "#### 5. The Else Statement"
   ]
  },
  {
   "cell_type": "code",
   "execution_count": 25,
   "id": "fc79620c-55b8-4fc1-8c00-96cb7077dafa",
   "metadata": {},
   "outputs": [
    {
     "name": "stdin",
     "output_type": "stream",
     "text": [
      " 10\n"
     ]
    },
    {
     "name": "stdout",
     "output_type": "stream",
     "text": [
      "Number\n"
     ]
    }
   ],
   "source": [
    "a = int(input())\n",
    "if a>100:\n",
    "    print('Big')\n",
    "else:\n",
    "    print('Number')"
   ]
  },
  {
   "cell_type": "code",
   "execution_count": 26,
   "id": "bfe11d80-38e9-4ee3-9cbc-3c55929cf1b1",
   "metadata": {},
   "outputs": [
    {
     "name": "stdin",
     "output_type": "stream",
     "text": [
      " 101\n"
     ]
    },
    {
     "name": "stdout",
     "output_type": "stream",
     "text": [
      "Big\n"
     ]
    }
   ],
   "source": [
    "a = int(input())\n",
    "if a>100:\n",
    "    print('Big')\n",
    "else:\n",
    "    print('Number')"
   ]
  },
  {
   "cell_type": "markdown",
   "id": "6c641900-e371-4512-86ac-e68074bd04c2",
   "metadata": {},
   "source": [
    "#### 6. The FizzBuzz Program"
   ]
  },
  {
   "cell_type": "code",
   "execution_count": 27,
   "id": "56c966af-03e9-4667-ad95-d460c781621b",
   "metadata": {},
   "outputs": [
    {
     "name": "stdin",
     "output_type": "stream",
     "text": [
      "a: 3\n"
     ]
    },
    {
     "name": "stdout",
     "output_type": "stream",
     "text": [
      "Fizz\n"
     ]
    }
   ],
   "source": [
    "a = int(input('a:'))\n",
    "if((a%3 == 0) and (a%5 == 0)):\n",
    "    print(\"FizzBuzz\")\n",
    "elif (a%3 == 0):\n",
    "    print(\"Fizz\")\n",
    "elif(a%5 == 0):\n",
    "    print(\"Buzz\")\n",
    "else:\n",
    "    print(a)"
   ]
  },
  {
   "cell_type": "code",
   "execution_count": 28,
   "id": "da30054b-21d9-4b9c-9e6d-5dca341cca8c",
   "metadata": {},
   "outputs": [
    {
     "name": "stdin",
     "output_type": "stream",
     "text": [
      "a: 5\n"
     ]
    },
    {
     "name": "stdout",
     "output_type": "stream",
     "text": [
      "Buzz\n"
     ]
    }
   ],
   "source": [
    "a = int(input('a:'))\n",
    "if((a%3 == 0) and (a%5 == 0)):\n",
    "    print(\"FizzBuzz\")\n",
    "elif (a%3 == 0):\n",
    "    print(\"Fizz\")\n",
    "elif(a%5 == 0):\n",
    "    print(\"Buzz\")\n",
    "else:\n",
    "    print(a)"
   ]
  },
  {
   "cell_type": "code",
   "execution_count": 29,
   "id": "033cee5b-0345-4c62-8c79-3b3ab4df0975",
   "metadata": {},
   "outputs": [
    {
     "name": "stdin",
     "output_type": "stream",
     "text": [
      "a: 15\n"
     ]
    },
    {
     "name": "stdout",
     "output_type": "stream",
     "text": [
      "FizzBuzz\n"
     ]
    }
   ],
   "source": [
    "a = int(input('a:'))\n",
    "if((a%3 == 0) and (a%5 == 0)):\n",
    "    print(\"FizzBuzz\")\n",
    "elif (a%3 == 0):\n",
    "    print(\"Fizz\")\n",
    "elif(a%5 == 0):\n",
    "    print(\"Buzz\")\n",
    "else:\n",
    "    print(a)"
   ]
  },
  {
   "cell_type": "markdown",
   "id": "c943431c-b03e-47fc-842f-b42f84a0003d",
   "metadata": {},
   "source": [
    "#### 7. Even Odd Game"
   ]
  },
  {
   "cell_type": "code",
   "execution_count": 30,
   "id": "233b2151-a948-4eea-a491-f5c4fbbc1a3f",
   "metadata": {},
   "outputs": [
    {
     "name": "stdin",
     "output_type": "stream",
     "text": [
      "n: 9\n"
     ]
    },
    {
     "name": "stdout",
     "output_type": "stream",
     "text": [
      "You\n"
     ]
    }
   ],
   "source": [
    "n = int(input('n:'))\n",
    "if (n % 2 != 0) :\n",
    "    print(\"You\")\n",
    "else:\n",
    "    print(\"Friend\")"
   ]
  },
  {
   "cell_type": "code",
   "execution_count": 31,
   "id": "44eb3c7d-2bf1-4176-8c42-cff989441304",
   "metadata": {},
   "outputs": [
    {
     "name": "stdin",
     "output_type": "stream",
     "text": [
      "n: 4\n"
     ]
    },
    {
     "name": "stdout",
     "output_type": "stream",
     "text": [
      "Friend\n"
     ]
    }
   ],
   "source": [
    "n = int(input('n:'))\n",
    "if (n % 2 != 0) :\n",
    "    print(\"You\")\n",
    "else:\n",
    "    print(\"Friend\")"
   ]
  },
  {
   "cell_type": "markdown",
   "id": "3c7cd4b8-a4b7-4efe-9ca3-e86f71d08968",
   "metadata": {},
   "source": [
    "#### 8. Greatest of Three"
   ]
  },
  {
   "cell_type": "code",
   "execution_count": 32,
   "id": "3a1925e3-f7ef-4108-baf9-dc59432652a4",
   "metadata": {},
   "outputs": [
    {
     "name": "stdin",
     "output_type": "stream",
     "text": [
      " 1 2 3\n"
     ]
    },
    {
     "name": "stdout",
     "output_type": "stream",
     "text": [
      "3\n"
     ]
    }
   ],
   "source": [
    "a,b,c = map(int,input().split())\n",
    "if a>=b and a>=c:\n",
    "    print(a)\n",
    "elif b>=a and b>=c:\n",
    "    print(b)\n",
    "else:\n",
    "    print(c)"
   ]
  },
  {
   "cell_type": "code",
   "execution_count": 33,
   "id": "1731cedb-8e90-4038-ac43-3f8d7bf0b2f1",
   "metadata": {},
   "outputs": [
    {
     "name": "stdin",
     "output_type": "stream",
     "text": [
      " 2 2 5\n"
     ]
    },
    {
     "name": "stdout",
     "output_type": "stream",
     "text": [
      "5\n"
     ]
    }
   ],
   "source": [
    "a,b,c = map(int,input().split())\n",
    "if a>=b and a>=c:\n",
    "    print(a)\n",
    "elif b>=a and b>=c:\n",
    "    print(b)\n",
    "else:\n",
    "    print(c)"
   ]
  },
  {
   "cell_type": "markdown",
   "id": "a294a264-43c6-4303-a319-a311917f6f5f",
   "metadata": {},
   "source": [
    "#### 9. Leap Year"
   ]
  },
  {
   "cell_type": "code",
   "execution_count": 34,
   "id": "61e1d937-e60c-4177-b20f-a123c8c9700c",
   "metadata": {},
   "outputs": [
    {
     "name": "stdin",
     "output_type": "stream",
     "text": [
      " 2020\n"
     ]
    },
    {
     "name": "stdout",
     "output_type": "stream",
     "text": [
      "True\n"
     ]
    }
   ],
   "source": [
    "n = int(input())\n",
    "if n%4 == 0:\n",
    "    print(\"True\")\n",
    "else:\n",
    "    print(\"False\")"
   ]
  },
  {
   "cell_type": "code",
   "execution_count": 35,
   "id": "0d3747e8-fab2-4732-a2fc-cb866285f4bf",
   "metadata": {},
   "outputs": [
    {
     "name": "stdin",
     "output_type": "stream",
     "text": [
      " 2022\n"
     ]
    },
    {
     "name": "stdout",
     "output_type": "stream",
     "text": [
      "False\n"
     ]
    }
   ],
   "source": [
    "n = int(input())\n",
    "if n%4 == 0:\n",
    "    print(\"True\")\n",
    "else:\n",
    "    print(\"False\")"
   ]
  },
  {
   "cell_type": "markdown",
   "id": "38c9f232-3d85-40c5-809f-800112fe31ce",
   "metadata": {},
   "source": [
    "#### 10. Calculator"
   ]
  },
  {
   "cell_type": "code",
   "execution_count": 36,
   "id": "e85214d2-4d73-43fc-b1f9-1b695eb2fd6a",
   "metadata": {},
   "outputs": [
    {
     "name": "stdin",
     "output_type": "stream",
     "text": [
      " 1 2 3\n"
     ]
    },
    {
     "name": "stdout",
     "output_type": "stream",
     "text": [
      "2\n"
     ]
    }
   ],
   "source": [
    "a,b,op = map(int,input().split())\n",
    "if op == 1:\n",
    "    print(a+b)\n",
    "elif op == 2:\n",
    "    print(b-a)\n",
    "elif op == 3:\n",
    "    print(a*b)\n",
    "else:\n",
    "    print(\"Invalid input\")"
   ]
  },
  {
   "cell_type": "code",
   "execution_count": 37,
   "id": "67f3f91f-1120-4222-816b-79b152c247b4",
   "metadata": {},
   "outputs": [
    {
     "name": "stdin",
     "output_type": "stream",
     "text": [
      " 2 2 2\n"
     ]
    },
    {
     "name": "stdout",
     "output_type": "stream",
     "text": [
      "0\n"
     ]
    }
   ],
   "source": [
    "a,b,op = map(int,input().split())\n",
    "if op == 1:\n",
    "    print(a+b)\n",
    "elif op == 2:\n",
    "    print(b-a)\n",
    "elif op == 3:\n",
    "    print(a*b)\n",
    "else:\n",
    "    print(\"Invalid input\")"
   ]
  },
  {
   "cell_type": "markdown",
   "id": "a037e636-09bd-4a4f-9e6a-1b38077f6886",
   "metadata": {},
   "source": [
    "#### 11. Closest Number"
   ]
  },
  {
   "cell_type": "code",
   "execution_count": 38,
   "id": "7a717665-e36e-434b-a995-22226dd5a0dd",
   "metadata": {},
   "outputs": [
    {
     "name": "stdin",
     "output_type": "stream",
     "text": [
      " 13 4\n"
     ]
    },
    {
     "name": "stdout",
     "output_type": "stream",
     "text": [
      "12\n"
     ]
    }
   ],
   "source": [
    "n,m = map(int,input().split())\n",
    "r = n % m\n",
    "n = n-r\n",
    "print(n)"
   ]
  },
  {
   "cell_type": "code",
   "execution_count": 39,
   "id": "57ec5063-31b5-418b-8d62-c7f9a969b1d7",
   "metadata": {},
   "outputs": [
    {
     "name": "stdin",
     "output_type": "stream",
     "text": [
      " -15 6\n"
     ]
    },
    {
     "name": "stdout",
     "output_type": "stream",
     "text": [
      "-18\n"
     ]
    }
   ],
   "source": [
    "n,m = map(int,input().split())\n",
    "r = n % m\n",
    "n = n-r\n",
    "print(n)"
   ]
  },
  {
   "cell_type": "markdown",
   "id": "6c81e67c-4e03-4e28-827f-f64242dad0f4",
   "metadata": {},
   "source": [
    "#### 12. The dice problem"
   ]
  },
  {
   "cell_type": "code",
   "execution_count": 40,
   "id": "7a25d8f6-5887-49cd-968e-b1f0eafeb852",
   "metadata": {},
   "outputs": [
    {
     "name": "stdin",
     "output_type": "stream",
     "text": [
      " 6\n"
     ]
    },
    {
     "name": "stdout",
     "output_type": "stream",
     "text": [
      "1\n"
     ]
    }
   ],
   "source": [
    "n = int(input())\n",
    "print(7-n)"
   ]
  },
  {
   "cell_type": "code",
   "execution_count": 41,
   "id": "e0edb723-a60e-4ff5-a127-39fcff48090d",
   "metadata": {},
   "outputs": [
    {
     "name": "stdin",
     "output_type": "stream",
     "text": [
      " 2\n"
     ]
    },
    {
     "name": "stdout",
     "output_type": "stream",
     "text": [
      "5\n"
     ]
    }
   ],
   "source": [
    "n = int(input())\n",
    "print(7-n)"
   ]
  },
  {
   "cell_type": "markdown",
   "id": "926e15a6-01a6-41cf-86e2-c0193cdf8522",
   "metadata": {},
   "source": [
    "#### 13. Overlapping rectangles"
   ]
  },
  {
   "cell_type": "code",
   "execution_count": 45,
   "id": "008cc7cb-574e-41fd-82d9-80bb1f503755",
   "metadata": {},
   "outputs": [
    {
     "name": "stdin",
     "output_type": "stream",
     "text": [
      "L1 (x y):  0 10\n",
      "R1 (x y):  10 0\n",
      "L2 (x y):  5 5\n",
      "R2 (x y):  15 0\n"
     ]
    },
    {
     "name": "stdout",
     "output_type": "stream",
     "text": [
      "1\n"
     ]
    }
   ],
   "source": [
    "x1, y1 = map(int, input(\"L1 (x y): \").split())\n",
    "x2, y2 = map(int, input(\"R1 (x y): \").split())\n",
    "x3, y3 = map(int, input(\"L2 (x y): \").split())\n",
    "x4, y4 = map(int, input(\"R2 (x y): \").split())\n",
    "\n",
    "if x2 < x3 or x4 < x1:\n",
    "    print(0)\n",
    "\n",
    "elif y1 < y4 or y3 < y2:\n",
    "    print(0)\n",
    "\n",
    "else:\n",
    "    print(1)"
   ]
  },
  {
   "cell_type": "code",
   "execution_count": 46,
   "id": "e4c73408-439c-424e-b46e-6e9556f4208d",
   "metadata": {},
   "outputs": [
    {
     "name": "stdin",
     "output_type": "stream",
     "text": [
      "L1 (x y):  0 2\n",
      "R1 (x y):  1 1\n",
      "L2 (x y):  -2 0\n",
      "R2 (x y):  0 -3\n"
     ]
    },
    {
     "name": "stdout",
     "output_type": "stream",
     "text": [
      "0\n"
     ]
    }
   ],
   "source": [
    "x1, y1 = map(int, input(\"L1 (x y): \").split())\n",
    "x2, y2 = map(int, input(\"R1 (x y): \").split())\n",
    "x3, y3 = map(int, input(\"L2 (x y): \").split())\n",
    "x4, y4 = map(int, input(\"R2 (x y): \").split())\n",
    "\n",
    "if x2 < x3 or x4 < x1:\n",
    "    print(0)\n",
    "\n",
    "elif y1 < y4 or y3 < y2:\n",
    "    print(0)\n",
    "\n",
    "else:\n",
    "    print(1)"
   ]
  },
  {
   "cell_type": "markdown",
   "id": "c67e71f9-b5d4-464f-befb-799594049e47",
   "metadata": {},
   "source": [
    "#### 14. Test if tuple is distinct"
   ]
  },
  {
   "cell_type": "code",
   "execution_count": 48,
   "id": "32d30b28-a9d3-41fb-adcd-fcc363da2927",
   "metadata": {},
   "outputs": [
    {
     "name": "stdin",
     "output_type": "stream",
     "text": [
      " 1 2 3 4 5 4\n"
     ]
    },
    {
     "name": "stdout",
     "output_type": "stream",
     "text": [
      "False\n"
     ]
    }
   ],
   "source": [
    "arr = list(map(int,input().split()))\n",
    "arr2 = set(arr)\n",
    "if len(arr) == len(arr2):\n",
    "    print(True)\n",
    "else:\n",
    "    print(False)\n"
   ]
  },
  {
   "cell_type": "code",
   "execution_count": 49,
   "id": "b730ab99-b755-4a78-8e17-d41057f1f76e",
   "metadata": {},
   "outputs": [
    {
     "name": "stdin",
     "output_type": "stream",
     "text": [
      " 1 2 3 4 5 6\n"
     ]
    },
    {
     "name": "stdout",
     "output_type": "stream",
     "text": [
      "True\n"
     ]
    }
   ],
   "source": [
    "arr = list(map(int,input().split()))\n",
    "arr2 = set(arr)\n",
    "if len(arr) == len(arr2):\n",
    "    print(True)\n",
    "else:\n",
    "    print(False)"
   ]
  },
  {
   "cell_type": "markdown",
   "id": "cd2a94e7-7995-4622-8f5e-6b68414f9881",
   "metadata": {},
   "source": [
    "#### 15. Day before N days"
   ]
  },
  {
   "cell_type": "code",
   "execution_count": 50,
   "id": "aa928bcf-8db8-4cd4-8f05-92b9d3ec9837",
   "metadata": {},
   "outputs": [
    {
     "name": "stdin",
     "output_type": "stream",
     "text": [
      " 4 3\n"
     ]
    },
    {
     "name": "stdout",
     "output_type": "stream",
     "text": [
      "1\n"
     ]
    }
   ],
   "source": [
    "d, n = map(int, input().split())\n",
    "r = (d - n) % 7\n",
    "print(r)"
   ]
  },
  {
   "cell_type": "code",
   "execution_count": 52,
   "id": "2fe12bf8-7ecb-40b8-b486-00c525d6b7ed",
   "metadata": {},
   "outputs": [
    {
     "name": "stdin",
     "output_type": "stream",
     "text": [
      " 2 19\n"
     ]
    },
    {
     "name": "stdout",
     "output_type": "stream",
     "text": [
      "4\n"
     ]
    }
   ],
   "source": [
    "d, n = map(int, input().split())\n",
    "r = (d - n) % 7\n",
    "print(r)"
   ]
  },
  {
   "cell_type": "markdown",
   "id": "4047a9af-0672-4e0b-a620-41732004a82e",
   "metadata": {},
   "source": [
    "#### 16. Solving queries"
   ]
  },
  {
   "cell_type": "code",
   "execution_count": 63,
   "id": "fe7efdeb-7c15-440d-8c75-0a88fa2ce983",
   "metadata": {},
   "outputs": [
    {
     "name": "stdout",
     "output_type": "stream",
     "text": [
      "cde\n",
      "fgh\n",
      "None\n"
     ]
    }
   ],
   "source": [
    "dict = {1:\"abc\", 2: \"cde\", 3: \"fgh\"}\n",
    "query = [2, 3, 4]\n",
    "\n",
    "for i in range(len(query)):\n",
    "    if query[i] in dict:\n",
    "        print(dict[query[i]])\n",
    "    else:\n",
    "        print(\"None\")\n"
   ]
  },
  {
   "cell_type": "markdown",
   "id": "9cd6dcdb-e0f1-46e6-a506-8ddcc76e0751",
   "metadata": {},
   "source": [
    "#### 17. Factorial"
   ]
  },
  {
   "cell_type": "code",
   "execution_count": 65,
   "id": "0efc14c8-80fa-4d04-adf8-e6bcb14dcad8",
   "metadata": {},
   "outputs": [
    {
     "name": "stdin",
     "output_type": "stream",
     "text": [
      " 5\n"
     ]
    },
    {
     "name": "stdout",
     "output_type": "stream",
     "text": [
      "120\n"
     ]
    }
   ],
   "source": [
    "n = int(input())\n",
    "r = 1\n",
    "for i in range(1,n+1):\n",
    "    r = r*i\n",
    "print(r)"
   ]
  },
  {
   "cell_type": "code",
   "execution_count": 66,
   "id": "0b392eee-af1f-49f8-aa4d-35c1c2a7b2f1",
   "metadata": {},
   "outputs": [
    {
     "name": "stdin",
     "output_type": "stream",
     "text": [
      " 10\n"
     ]
    },
    {
     "name": "stdout",
     "output_type": "stream",
     "text": [
      "3628800\n"
     ]
    }
   ],
   "source": [
    "n = int(input())\n",
    "r = 1\n",
    "for i in range(1,n+1):\n",
    "    r = r*i\n",
    "print(r)"
   ]
  },
  {
   "cell_type": "markdown",
   "id": "f2b822f0-14c2-4cd0-a3f7-23013fd32be5",
   "metadata": {},
   "source": [
    "#### 18. Check Prime"
   ]
  },
  {
   "cell_type": "code",
   "execution_count": 68,
   "id": "aaecdd55-5695-4798-b2af-a718856e5a4e",
   "metadata": {},
   "outputs": [
    {
     "name": "stdin",
     "output_type": "stream",
     "text": [
      " 17\n"
     ]
    },
    {
     "name": "stdout",
     "output_type": "stream",
     "text": [
      "True\n"
     ]
    }
   ],
   "source": [
    "n = int(input())\n",
    "f = 0\n",
    "for i in range(2,17):\n",
    "    if n % i == 0:\n",
    "        print(\"False\")\n",
    "        f = 1\n",
    "        break\n",
    "if f == 0:\n",
    "    print(True)"
   ]
  },
  {
   "cell_type": "code",
   "execution_count": 69,
   "id": "e4a0fa88-06a6-4c84-b7e1-47aee6449f0c",
   "metadata": {},
   "outputs": [
    {
     "name": "stdin",
     "output_type": "stream",
     "text": [
      " 56\n"
     ]
    },
    {
     "name": "stdout",
     "output_type": "stream",
     "text": [
      "False\n"
     ]
    }
   ],
   "source": [
    "n = int(input())\n",
    "f = 0\n",
    "for i in range(2,17):\n",
    "    if n % i == 0:\n",
    "        print(\"False\")\n",
    "        f = 1\n",
    "        break\n",
    "if f == 0:\n",
    "    print(True)"
   ]
  },
  {
   "cell_type": "markdown",
   "id": "98d2890f-6be0-4b79-a979-69f6ffca297c",
   "metadata": {},
   "source": [
    "#### 19. Next Prime Number"
   ]
  },
  {
   "cell_type": "code",
   "execution_count": 2,
   "id": "d3897136-3559-4ef0-a819-fdd1713b2af0",
   "metadata": {},
   "outputs": [
    {
     "name": "stdin",
     "output_type": "stream",
     "text": [
      " 15\n"
     ]
    },
    {
     "name": "stdout",
     "output_type": "stream",
     "text": [
      "17\n"
     ]
    }
   ],
   "source": [
    "n = int(input())\n",
    "num = n + 1\n",
    "while True:\n",
    "    Flag = True\n",
    "    for i in range(2, num):\n",
    "        if num % i == 0:\n",
    "            Flag = False\n",
    "            break\n",
    "    if Flag == True:\n",
    "        print(num)\n",
    "        break\n",
    "    num += 1"
   ]
  },
  {
   "cell_type": "code",
   "execution_count": 3,
   "id": "006fbb6f-ab81-4158-a8cb-664aeffc196c",
   "metadata": {},
   "outputs": [
    {
     "name": "stdin",
     "output_type": "stream",
     "text": [
      " 7\n"
     ]
    },
    {
     "name": "stdout",
     "output_type": "stream",
     "text": [
      "11\n"
     ]
    }
   ],
   "source": [
    "n = int(input())\n",
    "num = n + 1\n",
    "while True:\n",
    "    Flag = True\n",
    "    for i in range(2, num):\n",
    "        if num % i == 0:\n",
    "            Flag = False\n",
    "            break\n",
    "    if Flag == True:\n",
    "        print(num)\n",
    "        break\n",
    "    num += 1"
   ]
  },
  {
   "cell_type": "markdown",
   "id": "64611dcb-6fc6-4d33-80c9-ae08f16a5c5a",
   "metadata": {},
   "source": [
    "#### 20. Fibonacci Number"
   ]
  },
  {
   "cell_type": "code",
   "execution_count": 4,
   "id": "b374bb3f-3b9d-49e1-9a6e-669f8d85aac8",
   "metadata": {},
   "outputs": [
    {
     "name": "stdin",
     "output_type": "stream",
     "text": [
      " 4\n"
     ]
    },
    {
     "name": "stdout",
     "output_type": "stream",
     "text": [
      "3\n"
     ]
    }
   ],
   "source": [
    "n = int(input())\n",
    "a, b = 0, 1 \n",
    "\n",
    "if n == 0:\n",
    "    print(0)\n",
    "elif n == 1:\n",
    "    print(1)\n",
    "else:\n",
    "    for i in range(2, n + 1):\n",
    "        c = a + b\n",
    "        a = b\n",
    "        b = c\n",
    "    print(b)"
   ]
  },
  {
   "cell_type": "code",
   "execution_count": 5,
   "id": "41be153a-155b-497c-9583-92de3944b2ea",
   "metadata": {},
   "outputs": [
    {
     "name": "stdin",
     "output_type": "stream",
     "text": [
      " 5\n"
     ]
    },
    {
     "name": "stdout",
     "output_type": "stream",
     "text": [
      "5\n"
     ]
    }
   ],
   "source": [
    "n = int(input())\n",
    "a, b = 0, 1 \n",
    "\n",
    "if n == 0:\n",
    "    print(0)\n",
    "elif n == 1:\n",
    "    print(1)\n",
    "else:\n",
    "    for i in range(2, n + 1):\n",
    "        c = a + b\n",
    "        a = b\n",
    "        b = c\n",
    "    print(b)"
   ]
  },
  {
   "cell_type": "markdown",
   "id": "b5cb4300-78d2-4461-ba89-f0442de0ba0d",
   "metadata": {},
   "source": [
    "#### 21. Perfect Numbers"
   ]
  },
  {
   "cell_type": "code",
   "execution_count": 7,
   "id": "08a36172-0c4e-43e9-a445-a98ed7d19da7",
   "metadata": {},
   "outputs": [
    {
     "name": "stdin",
     "output_type": "stream",
     "text": [
      " 6\n"
     ]
    },
    {
     "name": "stdout",
     "output_type": "stream",
     "text": [
      "True\n"
     ]
    }
   ],
   "source": [
    "n = int(input())\n",
    "tot = 0\n",
    "for i in range(1,n):\n",
    "    if  n%i == 0:\n",
    "        tot += i\n",
    "if tot == n:\n",
    "    print(True)\n",
    "else:\n",
    "    print(False)"
   ]
  },
  {
   "cell_type": "code",
   "execution_count": 8,
   "id": "6079b358-dbee-46cb-90cd-199cb11c7b3f",
   "metadata": {},
   "outputs": [
    {
     "name": "stdin",
     "output_type": "stream",
     "text": [
      " 10\n"
     ]
    },
    {
     "name": "stdout",
     "output_type": "stream",
     "text": [
      "False\n"
     ]
    }
   ],
   "source": [
    "n = int(input())\n",
    "tot = 0\n",
    "for i in range(1,n):\n",
    "    if  n%i == 0:\n",
    "        tot += i\n",
    "if tot == n:\n",
    "    print(True)\n",
    "else:\n",
    "    print(False)"
   ]
  },
  {
   "cell_type": "markdown",
   "id": "53278bb8-4cdf-4eb9-b6df-18aa19c0e733",
   "metadata": {},
   "source": [
    "#### 22. Adam Number"
   ]
  },
  {
   "cell_type": "code",
   "execution_count": 9,
   "id": "256f8bec-6076-4cff-ae88-bda02afc7d1b",
   "metadata": {},
   "outputs": [
    {
     "name": "stdin",
     "output_type": "stream",
     "text": [
      " 12\n"
     ]
    },
    {
     "name": "stdout",
     "output_type": "stream",
     "text": [
      "YES\n"
     ]
    }
   ],
   "source": [
    "n = int(input())\n",
    "rev = int(str(n)[::-1])\n",
    "sq_n = n * n\n",
    "sq_rev = rev * rev\n",
    "rev_sq_n = int(str(sq_n)[::-1])\n",
    "\n",
    "if rev_sq_n == sq_rev:\n",
    "    print(\"YES\")\n",
    "else:\n",
    "    print(\"NO\")"
   ]
  },
  {
   "cell_type": "code",
   "execution_count": 10,
   "id": "09c26d8d-3a9a-4911-8c53-f39f855120e9",
   "metadata": {},
   "outputs": [
    {
     "name": "stdin",
     "output_type": "stream",
     "text": [
      " 14\n"
     ]
    },
    {
     "name": "stdout",
     "output_type": "stream",
     "text": [
      "NO\n"
     ]
    }
   ],
   "source": [
    "n = int(input())\n",
    "rev = int(str(n)[::-1])\n",
    "sq_n = n * n\n",
    "sq_rev = rev * rev\n",
    "rev_sq_n = int(str(sq_n)[::-1])\n",
    "\n",
    "if rev_sq_n == sq_rev:\n",
    "    print(\"YES\")\n",
    "else:\n",
    "    print(\"NO\")"
   ]
  },
  {
   "cell_type": "markdown",
   "id": "69511cd4-0c9d-4c9f-98f8-9a349a29ad8d",
   "metadata": {},
   "source": [
    "#### 23. Strong Numbers"
   ]
  },
  {
   "cell_type": "code",
   "execution_count": 11,
   "id": "34630a98-d587-4168-abe9-4d74bc9331bc",
   "metadata": {},
   "outputs": [
    {
     "name": "stdin",
     "output_type": "stream",
     "text": [
      " 145\n"
     ]
    },
    {
     "name": "stdout",
     "output_type": "stream",
     "text": [
      "1\n"
     ]
    }
   ],
   "source": [
    "n = int(input())\n",
    "num = n\n",
    "t = 0\n",
    "\n",
    "while num > 0:\n",
    "    i = num % 10\n",
    "    fact = 1\n",
    "    for i in range(1, i + 1):\n",
    "        fact *= i\n",
    "    t += fact\n",
    "    num //= 10\n",
    "    \n",
    "if t == n:\n",
    "    print(1)\n",
    "else:\n",
    "    print(0)\n"
   ]
  },
  {
   "cell_type": "code",
   "execution_count": 12,
   "id": "fb9626f7-25ff-480d-866d-eedc61def6bf",
   "metadata": {},
   "outputs": [
    {
     "name": "stdin",
     "output_type": "stream",
     "text": [
      " 14\n"
     ]
    },
    {
     "name": "stdout",
     "output_type": "stream",
     "text": [
      "0\n"
     ]
    }
   ],
   "source": [
    "n = int(input())\n",
    "num = n\n",
    "t = 0\n",
    "\n",
    "while num > 0:\n",
    "    i = num % 10\n",
    "    fact = 1\n",
    "    for i in range(1, i + 1):\n",
    "        fact *= i\n",
    "    t += fact\n",
    "    num //= 10\n",
    "    \n",
    "if t == n:\n",
    "    print(1)\n",
    "else:\n",
    "    print(0)\n"
   ]
  },
  {
   "cell_type": "code",
   "execution_count": null,
   "id": "55a4ce60-f014-4a0e-b79a-abfd70a6e20e",
   "metadata": {},
   "outputs": [],
   "source": []
  }
 ],
 "metadata": {
  "kernelspec": {
   "display_name": "Python [conda env:base] *",
   "language": "python",
   "name": "conda-base-py"
  },
  "language_info": {
   "codemirror_mode": {
    "name": "ipython",
    "version": 3
   },
   "file_extension": ".py",
   "mimetype": "text/x-python",
   "name": "python",
   "nbconvert_exporter": "python",
   "pygments_lexer": "ipython3",
   "version": "3.12.7"
  }
 },
 "nbformat": 4,
 "nbformat_minor": 5
}
